{
 "cells": [
  {
   "cell_type": "code",
   "execution_count": 2,
   "id": "c20b13b3",
   "metadata": {},
   "outputs": [
    {
     "name": "stdout",
     "output_type": "stream",
     "text": [
      "Optimal solution: 2.4999182100389716\n"
     ]
    }
   ],
   "source": [
    "#-------------------------------------------------------------------------\n",
    "# Genetic Algorithm\n",
    "# Chapter 6 in the QUANTUM COMPUTING AND QUANTUM MACHINE LEARNING BOOK\n",
    "# Finding the maximum of a quadratic function using a genetic algorithm\n",
    "#-------------------------------------------------------------------------\n",
    "# Version 1.0\n",
    "# (c) 2025 Jesse Van Griensven, Roydon Fraser, and Jose Rosas \n",
    "# Licence:  MIT - Citation of this work is required\n",
    "#-------------------------------------------------------------------------\n",
    "import numpy as np\n",
    "\n",
    "# Define fitness function\n",
    "def fitness(x): \n",
    "    return -1 * (x**2 - 5 * x + 6)  # Maximize this function\n",
    "\n",
    "#-------------------------------------------------------------------------\n",
    "def genetic_algorithm(pop_size, generations):\n",
    "    # Genetic Algorithm\n",
    "    population = np.random.uniform(0, 5, pop_size)\n",
    "    for _ in range(generations): \n",
    "        fitness_values = fitness(population)\n",
    "        \n",
    "        # Select top half\n",
    "        selected = population[np.argsort(fitness_values)[-pop_size//2:]] \n",
    "        \n",
    "        # Mutate\n",
    "        offspring  = np.mean(selected) + np.random.randn(pop_size) * 0.1   \n",
    "        population = np.concatenate((selected, offspring))\n",
    "    return population[np.argmax(fitness(population))]\n",
    "\n",
    "#-------------------------------------------------------------------------\n",
    "optimal_solution = genetic_algorithm(pop_size=20, generations=50)\n",
    "print(\"Optimal solution:\", optimal_solution)\n"
   ]
  },
  {
   "cell_type": "code",
   "execution_count": null,
   "id": "1b95f977",
   "metadata": {},
   "outputs": [],
   "source": []
  }
 ],
 "metadata": {
  "kernelspec": {
   "display_name": "Python 3 (ipykernel)",
   "language": "python",
   "name": "python3"
  },
  "language_info": {
   "codemirror_mode": {
    "name": "ipython",
    "version": 3
   },
   "file_extension": ".py",
   "mimetype": "text/x-python",
   "name": "python",
   "nbconvert_exporter": "python",
   "pygments_lexer": "ipython3",
   "version": "3.10.17"
  }
 },
 "nbformat": 4,
 "nbformat_minor": 5
}
