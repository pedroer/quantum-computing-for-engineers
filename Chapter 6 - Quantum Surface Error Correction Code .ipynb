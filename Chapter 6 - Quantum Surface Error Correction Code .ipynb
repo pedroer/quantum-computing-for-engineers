{
 "cells": [
  {
   "cell_type": "code",
   "execution_count": 1,
   "id": "bcfd2e15",
   "metadata": {},
   "outputs": [
    {
     "name": "stdout",
     "output_type": "stream",
     "text": [
      "Surface Code Quantum Circuit:\n",
      "                              \n",
      "q_0: ──■──────────────────────\n",
      "     ┌─┴─┐┌───┐┌───┐┌───┐┌───┐\n",
      "q_1: ┤ X ├┤ X ├┤ H ├┤ X ├┤ X ├\n",
      "     └───┘└─┬─┘└───┘└─┬─┘└─┬─┘\n",
      "q_2: ───────■─────────┼────┼──\n",
      "                      │    │  \n",
      "q_3: ─────────────────■────┼──\n",
      "                           │  \n",
      "q_4: ──────────────────────■──\n",
      "                              \n"
     ]
    },
    {
     "name": "stderr",
     "output_type": "stream",
     "text": [
      "/Users/pedro/.pyenv/versions/doc/lib/python3.10/site-packages/qiskit/visualization/circuit/matplotlib.py:164: UserWarning: Style JSON file 'iqp.json' not found in any of these locations: /Users/pedro/.pyenv/versions/doc/lib/python3.10/site-packages/qiskit/visualization/circuit/styles/iqp.json, iqp.json. Will use default style.\n",
      "  self._style, def_font_ratio = load_style(style)\n"
     ]
    },
    {
     "data": {
      "image/png": "[encoded data removed]",
      "text/plain": [
       "<Figure size 538.33x451.5 with 1 Axes>"
      ]
     },
     "metadata": {},
     "output_type": "display_data"
    }
   ],
   "source": [
    "#-------------------------------------------------------------------------\n",
    "# Quantum Surface Error Correction Code \n",
    "# Chapter 6 in the QUANTUM COMPUTING AND QUANTUM MACHINE LEARNING BOOK\n",
    "#-------------------------------------------------------------------------\n",
    "# Version 1.0\n",
    "# (c) 2025 Jesse Van Griensven, Roydon Fraser, and Jose Rosas \n",
    "# Licence:  MIT - Citation of this work required\n",
    "#-------------------------------------------------------------------------\n",
    "# Qiskit changes frequently. \n",
    "# We recommend using the latest version from the book code repository at:\n",
    "# https://github.com/pedroer/quantum-computing-for-engineers/blob/main/requirements.txt\n",
    "import numpy as np\n",
    "from qiskit import QuantumCircuit\n",
    "from qiskit.visualization import circuit_drawer\n",
    "#-------------------------------------------------------------------------\n",
    "\n",
    "# Create a simple surface code circuit  \n",
    "qc = QuantumCircuit(5)  \n",
    "\n",
    "# Apply stabilizer checks  \n",
    "qc.cx(0, 1)  # CNOT gate for X stabilizer  \n",
    "qc.cx(2, 1)  \n",
    "qc.h(1)      # Hadamard gate for Z stabilizer  \n",
    "qc.cx(3, 1)  \n",
    "qc.cx(4, 1)  \n",
    "\n",
    "print(\"Surface Code Quantum Circuit:\")  \n",
    "print(qc)  \n",
    "\n",
    "# Draw the circuits\n",
    "display(circuit_drawer(qc, output='mpl', style=\"iqp\"))"
   ]
  },
  {
   "cell_type": "code",
   "execution_count": null,
   "id": "00b5cea3",
   "metadata": {},
   "outputs": [],
   "source": []
  }
 ],
 "metadata": {
  "kernelspec": {
   "display_name": "Python 3 (ipykernel)",
   "language": "python",
   "name": "python3"
  },
  "language_info": {
   "codemirror_mode": {
    "name": "ipython",
    "version": 3
   },
   "file_extension": ".py",
   "mimetype": "text/x-python",
   "name": "python",
   "nbconvert_exporter": "python",
   "pygments_lexer": "ipython3",
   "version": "3.10.17"
  }
 },
 "nbformat": 4,
 "nbformat_minor": 5
}
