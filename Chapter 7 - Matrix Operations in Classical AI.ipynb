{
 "cells": [
  {
   "cell_type": "code",
   "execution_count": 1,
   "id": "790a7e3d",
   "metadata": {},
   "outputs": [
    {
     "name": "stdout",
     "output_type": "stream",
     "text": [
      "Input Vector: [1 2 3]\n",
      "Input Matrix: [[1 2 3]\n",
      " [4 5 6]\n",
      " [7 8 9]]\n",
      "dot product: 14\n",
      "Matrix multiplications: [14 32 50]\n"
     ]
    }
   ],
   "source": [
    "#-------------------------------------------------------------------------\n",
    "# Matrix Operations in Classical AI\n",
    "# Chapter 7 in the QUANTUM COMPUTING AND QUANTUM MACHINE LEARNING BOOK\n",
    "#-------------------------------------------------------------------------\n",
    "# Version 1.0\n",
    "# (c) 2025 Jesse Van Griensven, Roydon Fraser, and Jose Rosas \n",
    "# License:  MIT - Citation of this work required\n",
    "#-------------------------------------------------------------------------\n",
    "\n",
    "import numpy as np\n",
    "\n",
    "# Define vectors and matrices\n",
    "vector = np.array([1, 2, 3])\n",
    "matrix = np.array([[1, 2, 3], [4, 5, 6], [7, 8, 9]])\n",
    "\n",
    "# Operations\n",
    "dot_product = np.dot(vector, vector)  # Dot product of a vector\n",
    "matrix_mult = np.dot(matrix, vector)  # Matrix-vector multiplication\n",
    "\n",
    "# Print Results\n",
    "print(\"Input Vector:\", vector)\n",
    "print(\"Input Matrix:\", matrix)\n",
    "print(\"dot product:\", dot_product)\n",
    "print(\"Matrix multiplications:\", matrix_mult)"
   ]
  },
  {
   "cell_type": "code",
   "execution_count": null,
   "id": "e73d4894",
   "metadata": {},
   "outputs": [],
   "source": []
  },
  {
   "cell_type": "code",
   "execution_count": null,
   "id": "cbce8c22",
   "metadata": {},
   "outputs": [],
   "source": []
  },
  {
   "cell_type": "code",
   "execution_count": null,
   "id": "462742ba",
   "metadata": {},
   "outputs": [],
   "source": []
  }
 ],
 "metadata": {
  "kernelspec": {
   "display_name": "Python 3 (ipykernel)",
   "language": "python",
   "name": "python3"
  },
  "language_info": {
   "codemirror_mode": {
    "name": "ipython",
    "version": 3
   },
   "file_extension": ".py",
   "mimetype": "text/x-python",
   "name": "python",
   "nbconvert_exporter": "python",
   "pygments_lexer": "ipython3",
   "version": "3.10.17"
  }
 },
 "nbformat": 4,
 "nbformat_minor": 5
}
