{
 "cells": [
  {
   "cell_type": "code",
   "execution_count": 1,
   "id": "5221b9cc",
   "metadata": {},
   "outputs": [
    {
     "name": "stdout",
     "output_type": "stream",
     "text": [
      "Quantum Generator Circuit:\n",
      "        ┌─────────┐      ░ ┌─┐   \n",
      "   q_0: ┤ Ry(0.5) ├──■───░─┤M├───\n",
      "        └┬───────┬┘┌─┴─┐ ░ └╥┘┌─┐\n",
      "   q_1: ─┤ Ry(1) ├─┤ X ├─░──╫─┤M├\n",
      "         └───────┘ └───┘ ░  ║ └╥┘\n",
      "meas: 2/════════════════════╩══╩═\n",
      "                            0  1 \n",
      "Quantum Generator Measurement Results: {'01': 15, '11': 37, '10': 218, '00': 730}\n"
     ]
    },
    {
     "data": {
      "image/png": "[encoded data removed]",
      "text/plain": [
       "<Figure size 640x480 with 1 Axes>"
      ]
     },
     "metadata": {},
     "output_type": "display_data"
    }
   ],
   "source": [
    "#-------------------------------------------------------------------------\n",
    "# Quantum Generator \n",
    "# Chapter 9 in the QUANTUM COMPUTING AND QUANTUM MACHINE LEARNING BOOK\n",
    "#-------------------------------------------------------------------------\n",
    "# Version 1.0\n",
    "# (c) 2025 Jesse Van Griensven, Roydon Fraser, and Jose Rosas \n",
    "# License:  MIT - Citation of this work required\n",
    "#-------------------------------------------------------------------------\n",
    "import numpy as np\n",
    "import matplotlib.pyplot as plt\n",
    "\n",
    "from qiskit import QuantumCircuit, Aer, execute\n",
    "from qiskit.circuit import Parameter\n",
    "from qiskit.visualization import plot_histogram\n",
    "#-------------------------------------------------------------------------\n",
    "\n",
    "def quantum_generator(params):\n",
    "    \"\"\" Define a quantum generator circuit \"\"\"\n",
    "    qc = QuantumCircuit(2)\n",
    "    qc.ry(params[0], 0)\n",
    "    qc.ry(params[1], 1)\n",
    "    qc.cx(0, 1)\n",
    "    qc.measure_all()\n",
    "    return qc\n",
    "#-------------------------------------------------------------------------\n",
    "\n",
    "# Example parameters\n",
    "params = [0.5, 1.0]\n",
    "qc = quantum_generator(params)\n",
    "\n",
    "# Display the quantum circuit\n",
    "print(\"Quantum Generator Circuit:\")\n",
    "print(qc)\n",
    "qc.draw('mpl')  # Graphically display the circuit\n",
    "\n",
    "# Simulate the circuit\n",
    "backend = Aer.get_backend('aer_simulator')\n",
    "result  = execute(qc, backend, shots=1000).result()\n",
    "counts  = result.get_counts()\n",
    "\n",
    "# Print measurement results\n",
    "print(\"Quantum Generator Measurement Results:\", counts)\n",
    "\n",
    "# Visualize the measurement results\n",
    "plot_histogram(counts)\n",
    "plt.title(\"Quantum Generator Probability Distribution\")\n",
    "plt.show()\n"
   ]
  },
  {
   "cell_type": "code",
   "execution_count": null,
   "id": "ce222ecf",
   "metadata": {},
   "outputs": [],
   "source": []
  }
 ],
 "metadata": {
  "kernelspec": {
   "display_name": "Python 3 (ipykernel)",
   "language": "python",
   "name": "python3"
  },
  "language_info": {
   "codemirror_mode": {
    "name": "ipython",
    "version": 3
   },
   "file_extension": ".py",
   "mimetype": "text/x-python",
   "name": "python",
   "nbconvert_exporter": "python",
   "pygments_lexer": "ipython3",
   "version": "3.10.17"
  }
 },
 "nbformat": 4,
 "nbformat_minor": 5
}
