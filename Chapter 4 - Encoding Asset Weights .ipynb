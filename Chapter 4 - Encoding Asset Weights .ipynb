{
 "cells": [
  {
   "cell_type": "code",
   "execution_count": 1,
   "id": "3cf899b3",
   "metadata": {},
   "outputs": [
    {
     "name": "stdout",
     "output_type": "stream",
     "text": [
      "Quantum Circuit for Asset Weights:\n",
      "     ┌────────────────────────────────────────┐\n",
      "q_0: ┤0                                       ├\n",
      "     │  Initialize(0.48666,0.81111,0.32444,0) │\n",
      "q_1: ┤1                                       ├\n",
      "     └────────────────────────────────────────┘\n"
     ]
    },
    {
     "data": {
      "image/png": "[encoded data removed]",
      "text/plain": [
       "<Figure size 370.906x200.667 with 1 Axes>"
      ]
     },
     "metadata": {},
     "output_type": "display_data"
    }
   ],
   "source": [
    "#-------------------------------------------------------------------------\n",
    "# Encoding Asset Weights \n",
    "# Chapter 4 in the QUANTUM COMPUTING AND QUANTUM MACHINE LEARNING BOOK\n",
    "#-------------------------------------------------------------------------\n",
    "# Version 1.0\n",
    "# (c) 2025 Jesse Van Griensven, Roydon Fraser, and Jose Rosas \n",
    "# License:  MIT - Citation of this work required\n",
    "#-------------------------------------------------------------------------\n",
    "# Qiskit changes frequently. \n",
    "# We recommend using the latest version from the book code repository at:\n",
    "# https://github.com/pedroer/quantum-computing-for-engineers/blob/main/requirements.txt\n",
    "import warnings\n",
    "warnings.filterwarnings('ignore')\n",
    "\n",
    "import numpy as np\n",
    "from qiskit import QuantumCircuit\n",
    "from qiskit.visualization import circuit_drawer\n",
    "#-------------------------------------------------------------------------\n",
    "\n",
    "# Example asset weights\n",
    "weights = np.array([0.3, 0.5, 0.2])\n",
    "\n",
    "# Normalize the weights\n",
    "norm_weights = np.linalg.norm(weights)\n",
    "normalized_weights = weights / norm_weights\n",
    "\n",
    "# Ensure the state vector has 2^n = 4 elements for a 2-qubit system\n",
    "# Pad with zeros to make the length valid\n",
    "state_vector = np.zeros(4)\n",
    "state_vector[:len(normalized_weights)] = normalized_weights\n",
    "\n",
    "# Create a quantum circuit\n",
    "qc = QuantumCircuit(2)\n",
    "qc.initialize(state_vector, [0, 1])\n",
    "\n",
    "print(\"Quantum Circuit for Asset Weights:\")\n",
    "print(qc)\n",
    "\n",
    "# Draw the circuit\n",
    "display(circuit_drawer(qc, output='mpl', style=\"iqp\"))"
   ]
  },
  {
   "cell_type": "code",
   "execution_count": null,
   "id": "cd3980e6",
   "metadata": {},
   "outputs": [],
   "source": []
  }
 ],
 "metadata": {
  "kernelspec": {
   "display_name": "Python 3 (ipykernel)",
   "language": "python",
   "name": "python3"
  },
  "language_info": {
   "codemirror_mode": {
    "name": "ipython",
    "version": 3
   },
   "file_extension": ".py",
   "mimetype": "text/x-python",
   "name": "python",
   "nbconvert_exporter": "python",
   "pygments_lexer": "ipython3",
   "version": "3.10.17"
  }
 },
 "nbformat": 4,
 "nbformat_minor": 5
}
