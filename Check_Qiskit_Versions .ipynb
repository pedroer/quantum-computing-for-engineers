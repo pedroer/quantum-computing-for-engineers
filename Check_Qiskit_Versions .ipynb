{
 "cells": [
  {
   "cell_type": "code",
   "execution_count": 2,
   "id": "b0adab9f",
   "metadata": {},
   "outputs": [
    {
     "name": "stdout",
     "output_type": "stream",
     "text": [
      "Qiskit Versions:\n",
      "Qiskit: 0.24.1\n",
      "Qiskit Aer: 0.12.1\n",
      "Qiskit IBMQ Provider: Not installed\n",
      "Qiskit Nature: 0.6.2\n",
      "Qiskit Optimization: 0.5.0\n",
      "Qiskit Machine Learning: 0.6.0\n",
      "Qiskit Finance: Not installed\n",
      "Qiskit Experiments: Not installed\n"
     ]
    }
   ],
   "source": [
    "#-------------------------------------------------------------------------\n",
    "# Check_Qiskit_Versions \n",
    "# Chapter 8 in the QUANTUM COMPUTING AND QUANTUM MACHINE LEARNING BOOK\n",
    "#-------------------------------------------------------------------------\n",
    "# Version 1.0\n",
    "# (c) 2025 Jesse Van Griensven, Roydon Fraser, and Jose Rosas \n",
    "# License:  MIT - Citation of this work required\n",
    "#-------------------------------------------------------------------------\n",
    "# Qiskit changes frequently. \n",
    "# We recommend using the latest version from the book code repository at:\n",
    "# https://github.com/pedroer/quantum-computing-for-engineers/blob/main/requirements.txt\n",
    "\n",
    "def check_qiskit_versions():\n",
    "    \"\"\"Prints the versions of all installed Qiskit libraries.\"\"\"\n",
    "\n",
    "    print(\"Qiskit Versions:\")\n",
    "\n",
    "    try:\n",
    "        import qiskit\n",
    "        print(f\"Qiskit: {qiskit.__version__}\")\n",
    "    except ImportError:\n",
    "        print(\"Qiskit: Not installed\")\n",
    "\n",
    "    try:\n",
    "        from qiskit import Aer\n",
    "        print(\"Qiskit Aer:\", Aer.get_backend('qasm_simulator').configuration().backend_version)\n",
    "        \n",
    "    except ImportError:\n",
    "        print(\"Qiskit Aer: Not installed\")\n",
    "\n",
    "    try:\n",
    "        import qiskit_ibmq_provider\n",
    "        print(f\"Qiskit IBMQ Provider: {qiskit_ibmq_provider.__version__}\")\n",
    "    except ImportError:\n",
    "        print(\"Qiskit IBMQ Provider: Not installed\")\n",
    "\n",
    "    try:\n",
    "        import qiskit_nature\n",
    "        print(f\"Qiskit Nature: {qiskit_nature.__version__}\")\n",
    "    except ImportError:\n",
    "        print(\"Qiskit Nature: Not installed\")\n",
    "\n",
    "    try:\n",
    "        import qiskit_optimization\n",
    "        print(f\"Qiskit Optimization: {qiskit_optimization.__version__}\")\n",
    "    except ImportError:\n",
    "        print(\"Qiskit Optimization: Not installed\")\n",
    "\n",
    "    try:\n",
    "        import qiskit_machine_learning\n",
    "        print(f\"Qiskit Machine Learning: {qiskit_machine_learning.__version__}\")\n",
    "    except ImportError:\n",
    "        print(\"Qiskit Machine Learning: Not installed\")\n",
    "\n",
    "    try:\n",
    "        import qiskit_finance\n",
    "        print(f\"Qiskit Finance: {qiskit_finance.__version__}\")\n",
    "    except ImportError:\n",
    "        print(\"Qiskit Finance: Not installed\")\n",
    "\n",
    "    try:\n",
    "        import qiskit_experiments\n",
    "        print(f\"Qiskit Experiments: {qiskit_experiments.__version__}\")\n",
    "    except ImportError:\n",
    "        print(\"Qiskit Experiments: Not installed\")\n",
    "\n",
    "\n",
    "#-------------------------------------------------------------------------\n",
    "# Execute the reoutine to check the qiskit versions\n",
    "check_qiskit_versions()"
   ]
  },
  {
   "cell_type": "code",
   "execution_count": null,
   "id": "d7e60e8d",
   "metadata": {},
   "outputs": [],
   "source": [
    "import qiskit_nature\n",
    "print(\"Qiskit Nature version:\", qiskit_nature.__version__)"
   ]
  },
  {
   "cell_type": "code",
   "execution_count": null,
   "id": "0ee5a492",
   "metadata": {},
   "outputs": [],
   "source": [
    "!pip install qiskit-aer"
   ]
  },
  {
   "cell_type": "code",
   "execution_count": 4,
   "id": "06c63d11",
   "metadata": {},
   "outputs": [
    {
     "name": "stdout",
     "output_type": "stream",
     "text": [
      "0.10.3\n"
     ]
    }
   ],
   "source": [
    "from qiskit import Aer\n",
    "print(Aer.get_backend('qasm_simulator').configuration().backend_version)"
   ]
  },
  {
   "cell_type": "code",
   "execution_count": null,
   "id": "1f7e67cf",
   "metadata": {},
   "outputs": [],
   "source": []
  }
 ],
 "metadata": {
  "kernelspec": {
   "display_name": "Python 3 (ipykernel)",
   "language": "python",
   "name": "python3"
  },
  "language_info": {
   "codemirror_mode": {
    "name": "ipython",
    "version": 3
   },
   "file_extension": ".py",
   "mimetype": "text/x-python",
   "name": "python",
   "nbconvert_exporter": "python",
   "pygments_lexer": "ipython3",
   "version": "3.10.17"
  }
 },
 "nbformat": 4,
 "nbformat_minor": 5
}
