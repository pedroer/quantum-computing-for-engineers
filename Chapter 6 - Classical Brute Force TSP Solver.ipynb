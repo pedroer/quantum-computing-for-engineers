{
 "cells": [
  {
   "cell_type": "code",
   "execution_count": 1,
   "id": "b87e3c66",
   "metadata": {},
   "outputs": [
    {
     "name": "stdout",
     "output_type": "stream",
     "text": [
      "Optimal Cost: 14\n",
      "Optimal Route: (0, 2, 1)\n"
     ]
    }
   ],
   "source": [
    "#-------------------------------------------------------------------------\n",
    "# Classical Brute Force TSP Solver\n",
    "# Chapter 6 in the QUANTUM COMPUTING AND QUANTUM MACHINE LEARNING BOOK\n",
    "#-------------------------------------------------------------------------\n",
    "# Version 1.0\n",
    "# (c) 2025 Jesse Van Griensven, Roydon Fraser, and Jose Rosas \n",
    "# Licence:  MIT - Citation required\n",
    "#-------------------------------------------------------------------------\n",
    "# Qiskit changes frequently. \n",
    "# We recommend using the latest version from the book code repository at:\n",
    "# https://github.com/pedroer/quantum-computing-for-engineers/blob/main/requirements.txt\n",
    "from itertools import permutations\n",
    "\n",
    "#-------------------------------------------------------------------------\n",
    "# Brute-force solution for TSP\n",
    "def tsp_brute_force(distance_matrix):\n",
    "    n = len(distance_matrix)\n",
    "    cities = range(n)\n",
    "    min_cost = float('inf')\n",
    "    best_route = None\n",
    "    for perm in permutations(cities):\n",
    "        cost = sum(distance_matrix[perm[i]][perm[i + 1]] for i in range(n - 1))\n",
    "        cost += distance_matrix[perm[-1]][perm[0]]  # Return to start\n",
    "        if cost < min_cost:\n",
    "            min_cost = cost\n",
    "            best_route = perm\n",
    "    return min_cost, best_route\n",
    "#-------------------------------------------------------------------------\n",
    "\n",
    "# Example distance matrix\n",
    "distance = [[0, 2, 9], [1, 0, 6], [7, 4, 0]]\n",
    "\n",
    "cost, route = tsp_brute_force(distance)\n",
    "print(\"Optimal Cost:\",  cost)\n",
    "print(\"Optimal Route:\", route)\n"
   ]
  },
  {
   "cell_type": "code",
   "execution_count": null,
   "id": "5aa71bf5",
   "metadata": {},
   "outputs": [],
   "source": []
  }
 ],
 "metadata": {
  "kernelspec": {
   "display_name": "Python 3 (ipykernel)",
   "language": "python",
   "name": "python3"
  },
  "language_info": {
   "codemirror_mode": {
    "name": "ipython",
    "version": 3
   },
   "file_extension": ".py",
   "mimetype": "text/x-python",
   "name": "python",
   "nbconvert_exporter": "python",
   "pygments_lexer": "ipython3",
   "version": "3.10.17"
  }
 },
 "nbformat": 4,
 "nbformat_minor": 5
}
