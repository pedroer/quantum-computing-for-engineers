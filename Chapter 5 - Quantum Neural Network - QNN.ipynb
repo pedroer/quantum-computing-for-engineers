{
 "cells": [
  {
   "cell_type": "code",
   "execution_count": 8,
   "id": "0b9f1c28",
   "metadata": {},
   "outputs": [
    {
     "name": "stdout",
     "output_type": "stream",
     "text": [
      "QNN Output: [[-0.64056737]]\n"
     ]
    },
    {
     "name": "stderr",
     "output_type": "stream",
     "text": [
      "/var/folders/z3/sk2c0q6j5jqfyd9r8pm2_vrr0000gp/T/ipykernel_31987/888608617.py:17: DeprecationWarning: The class ``qiskit.utils.quantum_instance.QuantumInstance`` is deprecated as of qiskit-terra 0.24.0. It will be removed no earlier than 3 months after the release date. For code migration guidelines, visit https://qisk.it/qi_migration.\n",
      "  quantum_instance=QuantumInstance(Aer.get_backend('statevector_simulator'))\n"
     ]
    }
   ],
   "source": [
    "#-------------------------------------------------------------------------\n",
    "# Quantum Neural Network - QNN\n",
    "# Chapter 5 in the QUANTUM COMPUTING AND QUANTUM MACHINE LEARNING BOOK\n",
    "#-------------------------------------------------------------------------\n",
    "# Version 1.0\n",
    "# (c) 2025 Jesse Van Griensven, Roydon Fraser, and Jose Rosas \n",
    "# Licence:  MIT - Citation of this work required\n",
    "#-------------------------------------------------------------------------\n",
    "# Qiskit changes frequently. \n",
    "# We recommend using the latest version from the book code repository at:\n",
    "# https://github.com/pedroer/quantum-computing-for-engineers/blob/main/requirements.txt\n",
    "import numpy as np\n",
    "\n",
    "#-------------------------------------------------------------------------\n",
    "from qiskit_machine_learning.neural_networks import TwoLayerQNN\n",
    "from qiskit import Aer\n",
    "from qiskit.utils import QuantumInstance\n",
    "#-------------------------------------------------------------------------\n",
    "\n",
    "quantum_instance=QuantumInstance(Aer.get_backend('statevector_simulator'))\n",
    "\n",
    "# Define a quantum neural network\n",
    "qnn = TwoLayerQNN(num_qubits=2, quantum_instance=quantum_instance)\n",
    "\n",
    "# Example input data and weights for the QNN\n",
    "input_data = [0, 1]  # Input features \n",
    "\n",
    "# Randomly initialize the weights\n",
    "weights = np.random.rand(qnn.num_weights)  \n",
    "\n",
    "# Compute the output of the QNN\n",
    "result = qnn.forward(input_data, weights)\n",
    "\n",
    "# Print Result\n",
    "print(\"QNN Output:\", result)"
   ]
  },
  {
   "cell_type": "code",
   "execution_count": null,
   "id": "e93c004c",
   "metadata": {},
   "outputs": [],
   "source": []
  },
  {
   "cell_type": "code",
   "execution_count": null,
   "id": "1e0761dc-6ff3-42a4-989e-bb6aa5fef030",
   "metadata": {},
   "outputs": [],
   "source": []
  }
 ],
 "metadata": {
  "kernelspec": {
   "display_name": "Python 3 (ipykernel)",
   "language": "python",
   "name": "python3"
  },
  "language_info": {
   "codemirror_mode": {
    "name": "ipython",
    "version": 3
   },
   "file_extension": ".py",
   "mimetype": "text/x-python",
   "name": "python",
   "nbconvert_exporter": "python",
   "pygments_lexer": "ipython3",
   "version": "3.10.17"
  }
 },
 "nbformat": 4,
 "nbformat_minor": 5
}
