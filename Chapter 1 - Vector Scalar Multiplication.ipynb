{
 "cells": [
  {
   "cell_type": "code",
   "execution_count": 2,
   "id": "7cdb0220",
   "metadata": {},
   "outputs": [
    {
     "name": "stdout",
     "output_type": "stream",
     "text": [
      "Vectors\n",
      "Vector u: [1 2 3]\n",
      "Vector v: [4 5 6]\n",
      "Scalar Multiplication u: [3 6 9]\n",
      "Scalar Multiplication v: [12 15 18]\n"
     ]
    }
   ],
   "source": [
    "#-------------------------------------------------------------------------------\n",
    "# Vector Scalar Multiplication\n",
    "# Chapter 1 in the QUANTUM COMPUTING AND QUANTUM MACHINE lEARNING BOOK\n",
    "#-------------------------------------------------------------------------------\n",
    "# Version 1.0\n",
    "# (c) 2025 Jesse Van Griensven, Roydon Fraser, and Jose Rosas 2025\n",
    "# Licence:  MIT - Citation required\n",
    "#-------------------------------------------------------------------------------\n",
    "# Qiskit changes frequently. \n",
    "# We recommend using the latest version from the book code repository at:\n",
    "# https://github.com/pedroer/quantum-computing-for-engineers/blob/main/requirements.txt\n",
    "import numpy as np\n",
    "\n",
    "# Define vectors\n",
    "u = np.array([1, 2, 3])\n",
    "v = np.array([4, 5, 6])\n",
    "\n",
    "# Define Scalar\n",
    "scalar = 3\n",
    "\n",
    "# Execute multiplication operation\n",
    "scaled_vector_u = scalar * u\n",
    "scaled_vector_v = scalar * v\n",
    "\n",
    "# Print Results\n",
    "print(\"Vectors\")\n",
    "print(\"Vector u:\", u)\n",
    "print(\"Vector v:\", v)\n",
    "print(\"Scalar Multiplication u:\", scaled_vector_u)\n",
    "print(\"Scalar Multiplication v:\", scaled_vector_v)"
   ]
  },
  {
   "cell_type": "code",
   "execution_count": null,
   "id": "f1c430ef",
   "metadata": {},
   "outputs": [],
   "source": []
  }
 ],
 "metadata": {
  "kernelspec": {
   "display_name": "Python 3 (ipykernel)",
   "language": "python",
   "name": "python3"
  },
  "language_info": {
   "codemirror_mode": {
    "name": "ipython",
    "version": 3
   },
   "file_extension": ".py",
   "mimetype": "text/x-python",
   "name": "python",
   "nbconvert_exporter": "python",
   "pygments_lexer": "ipython3",
   "version": "3.10.17"
  }
 },
 "nbformat": 4,
 "nbformat_minor": 5
}
