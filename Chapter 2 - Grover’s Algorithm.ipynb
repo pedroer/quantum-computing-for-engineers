{
 "cells": [
  {
   "cell_type": "code",
   "execution_count": 1,
   "id": "0c60f427",
   "metadata": {},
   "outputs": [
    {
     "name": "stdout",
     "output_type": "stream",
     "text": [
      "Grover's Algorithm Results: {'011': 122, '111': 140, '001': 134, '100': 120, '110': 121, '101': 130, '000': 118, '010': 115}\n"
     ]
    }
   ],
   "source": [
    "#-------------------------------------------------------------------------\n",
    "# Grover’s Algorithm\n",
    "# Chapter 2 in the QUANTUM COMPUTING AND QUANTUM MACHINE LEARNING BOOK\n",
    "#-------------------------------------------------------------------------\n",
    "# Version 1.0\n",
    "# (c) 2025 Jesse Van Griensven, Roydon Fraser, and Jose Rosas \n",
    "# Licence:  MIT - Citation required\n",
    "#-------------------------------------------------------------------------\n",
    "# Qiskit changes frequently. \n",
    "# We recommend using the latest version from the book code repository at:\n",
    "# https://github.com/pedroer/quantum-computing-for-engineers/blob/main/requirements.txt\n",
    "from qiskit import QuantumCircuit, Aer, execute\n",
    "from qiskit.circuit.library import GroverOperator\n",
    "\n",
    "# Define the oracle\n",
    "n = 3  # Number of qubits\n",
    "oracle = QuantumCircuit(n)\n",
    "\n",
    " # Mark |110⟩ as the solution\n",
    "oracle.z(2) \n",
    "oracle = GroverOperator(oracle)\n",
    "\n",
    "# Initialize the quantum circuit\n",
    "qc = QuantumCircuit(n)\n",
    "\n",
    "# Apply Hadamard gates to place all qc gates in superposition\n",
    "qc.h(range(n))  \n",
    "\n",
    "# Apply the oracle and diffusion operator\n",
    "qc.append(oracle, range(n))\n",
    "\n",
    "# Measure the result\n",
    "qc.measure_all()\n",
    "\n",
    "# Simulate the circuit\n",
    "simulator = Aer.get_backend('qasm_simulator')\n",
    "result    = execute(qc, simulator, shots=1000).result()\n",
    "print(\"Grover's Algorithm Results:\", result.get_counts())\n"
   ]
  },
  {
   "cell_type": "code",
   "execution_count": null,
   "id": "6291f558",
   "metadata": {},
   "outputs": [],
   "source": []
  },
  {
   "cell_type": "code",
   "execution_count": null,
   "id": "c5cfe755-dc15-4e1e-ba13-600907167e70",
   "metadata": {},
   "outputs": [],
   "source": []
  },
  {
   "cell_type": "code",
   "execution_count": null,
   "id": "cd0f38ea-9861-4c0b-a1f2-43c82e2743b6",
   "metadata": {},
   "outputs": [],
   "source": []
  }
 ],
 "metadata": {
  "kernelspec": {
   "display_name": "Python 3 (ipykernel)",
   "language": "python",
   "name": "python3"
  },
  "language_info": {
   "codemirror_mode": {
    "name": "ipython",
    "version": 3
   },
   "file_extension": ".py",
   "mimetype": "text/x-python",
   "name": "python",
   "nbconvert_exporter": "python",
   "pygments_lexer": "ipython3",
   "version": "3.10.17"
  }
 },
 "nbformat": 4,
 "nbformat_minor": 5
}
