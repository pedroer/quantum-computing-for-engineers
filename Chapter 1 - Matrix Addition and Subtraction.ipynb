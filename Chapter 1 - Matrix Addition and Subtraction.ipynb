{
 "cells": [
  {
   "cell_type": "code",
   "execution_count": 2,
   "id": "fb34c162",
   "metadata": {},
   "outputs": [
    {
     "name": "stdout",
     "output_type": "stream",
     "text": [
      "Matrix A:\n"
     ]
    },
    {
     "data": {
      "text/latex": [
       "$\\displaystyle \\left[\\begin{matrix}1 & 2\\\\3 & 4\\end{matrix}\\right]$"
      ],
      "text/plain": [
       "Matrix([\n",
       "[1, 2],\n",
       "[3, 4]])"
      ]
     },
     "metadata": {},
     "output_type": "display_data"
    },
    {
     "name": "stdout",
     "output_type": "stream",
     "text": [
      "\n",
      "Matrix B:\n"
     ]
    },
    {
     "data": {
      "text/latex": [
       "$\\displaystyle \\left[\\begin{matrix}5 & 6\\\\7 & 8\\end{matrix}\\right]$"
      ],
      "text/plain": [
       "Matrix([\n",
       "[5, 6],\n",
       "[7, 8]])"
      ]
     },
     "metadata": {},
     "output_type": "display_data"
    },
    {
     "name": "stdout",
     "output_type": "stream",
     "text": [
      "\n",
      "Matrix Addition:\n"
     ]
    },
    {
     "data": {
      "text/latex": [
       "$\\displaystyle \\left[\\begin{matrix}6 & 8\\\\10 & 12\\end{matrix}\\right]$"
      ],
      "text/plain": [
       "Matrix([\n",
       "[ 6,  8],\n",
       "[10, 12]])"
      ]
     },
     "metadata": {},
     "output_type": "display_data"
    },
    {
     "name": "stdout",
     "output_type": "stream",
     "text": [
      "\n",
      "Matrix Subtraction:\n"
     ]
    },
    {
     "data": {
      "text/latex": [
       "$\\displaystyle \\left[\\begin{matrix}-4 & -4\\\\-4 & -4\\end{matrix}\\right]$"
      ],
      "text/plain": [
       "Matrix([\n",
       "[-4, -4],\n",
       "[-4, -4]])"
      ]
     },
     "metadata": {},
     "output_type": "display_data"
    },
    {
     "name": "stdout",
     "output_type": "stream",
     "text": [
      "\n"
     ]
    }
   ],
   "source": [
    "#-------------------------------------------------------------------------------\n",
    "# Matrix Addition and Subtraction\n",
    "# Chapter 1 in the QUANTUM COMPUTING AND QUANTUM MACHINE lEARNING BOOK\n",
    "#-------------------------------------------------------------------------------\n",
    "# Version 1.0\n",
    "# (c) 2025 Jesse Van Griensven, Roydon Fraser, and Jose Rosas 2025\n",
    "# Licence:  MIT - Citation required\n",
    "#-------------------------------------------------------------------------------\n",
    "import numpy as np\n",
    "\n",
    "# Define the SYMPY routines we need\n",
    "import sympy as sp\n",
    "#-------------------------------------------------------------\n",
    "def sprint(Matrix):\n",
    "    \"\"\" Prints a numpy Matrix in a nice format with sympy \"\"\"\n",
    "    # The input Matrix can be a Numpy or a Sympy Matrix\n",
    "    SMatrix = sp.Matrix(Matrix)\n",
    "    display( SMatrix )\n",
    "    return\n",
    "#-------------------------------------------------------------\n",
    "\n",
    "# Define A and B Matrices\n",
    "A = np.array([[1, 2], [3, 4]])\n",
    "B = np.array([[5, 6], [7, 8]])\n",
    "\n",
    "# Matrix addition\n",
    "matrix_sum = A + B\n",
    "\n",
    "\n",
    "# Matrix subtraction\n",
    "matrix_diff = A - B\n",
    "\n",
    "# Print Results\n",
    "print(\"Matrix A:\")\n",
    "sprint(A)\n",
    "print()\n",
    "\n",
    "print(\"Matrix B:\")\n",
    "sprint(B)\n",
    "print()\n",
    "\n",
    "print(\"Matrix Addition:\")\n",
    "sprint(matrix_sum)\n",
    "print()\n",
    "\n",
    "print(\"Matrix Subtraction:\")\n",
    "sprint(matrix_diff)\n",
    "print()"
   ]
  },
  {
   "cell_type": "code",
   "execution_count": null,
   "id": "8e45e34a",
   "metadata": {},
   "outputs": [],
   "source": []
  }
 ],
 "metadata": {
  "kernelspec": {
   "display_name": "Python 3 (ipykernel)",
   "language": "python",
   "name": "python3"
  },
  "language_info": {
   "codemirror_mode": {
    "name": "ipython",
    "version": 3
   },
   "file_extension": ".py",
   "mimetype": "text/x-python",
   "name": "python",
   "nbconvert_exporter": "python",
   "pygments_lexer": "ipython3",
   "version": "3.10.17"
  }
 },
 "nbformat": 4,
 "nbformat_minor": 5
}
