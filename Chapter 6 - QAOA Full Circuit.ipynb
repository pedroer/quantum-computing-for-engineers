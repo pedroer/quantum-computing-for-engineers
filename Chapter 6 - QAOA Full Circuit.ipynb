{
 "cells": [
  {
   "cell_type": "code",
   "execution_count": 1,
   "id": "5e53ecd0",
   "metadata": {},
   "outputs": [
    {
     "data": {
      "image/png": "[encoded data removed]",
      "text/plain": [
       "<Figure size 831.22x284.278 with 1 Axes>"
      ]
     },
     "metadata": {},
     "output_type": "display_data"
    },
    {
     "name": "stdout",
     "output_type": "stream",
     "text": [
      "Measurement Results: {'01': 30, '10': 35, '00': 487, '11': 472}\n"
     ]
    }
   ],
   "source": [
    "#-------------------------------------------------------------------------\n",
    "# QAOA Full Circuit\n",
    "# Chapter 6 in the QUANTUM COMPUTING AND QUANTUM MACHINE LEARNING BOOK\n",
    "# Code demonstrates applying the phase separation step for two qubits\n",
    "#-------------------------------------------------------------------------\n",
    "# Version 1.0\n",
    "# (c) 2025 Jesse Van Griensven, Roydon Fraser, and Jose Rosas \n",
    "# Licence:  MIT - Citation of this work is required\n",
    "#-------------------------------------------------------------------------\n",
    "# Qiskit changes frequently. \n",
    "# We recommend using the latest version from the book code repository at:\n",
    "# https://github.com/pedroer/quantum-computing-for-engineers/blob/main/requirements.txt\n",
    "import warnings\n",
    "warnings.filterwarnings('ignore')\n",
    "\n",
    "import numpy as np\n",
    "from qiskit import QuantumCircuit\n",
    "from qiskit import Aer, execute\n",
    "from qiskit.visualization import circuit_drawer\n",
    "\n",
    "#-------------------------------------------------------------------------\n",
    "# Define mixing operation\n",
    "def mixing_layer(qc, beta):\n",
    "    qc.rx(2 * beta, [0, 1])\n",
    "    return qc\n",
    "#-------------------------------------------------------------------------\n",
    "# Define phase separation\n",
    "def phase_separation(qc, gamma):\n",
    "    qc.cx(0, 1)\n",
    "    qc.rz(2 * gamma, 1)\n",
    "    qc.cx(0, 1)\n",
    "#-------------------------------------------------------------------------\n",
    "\n",
    "def qaoa_circuit(gamma, beta):\n",
    "    \"\"\" Full QAOA circuit \"\"\"\n",
    "    # Create the Circuit\n",
    "    qc = QuantumCircuit(2)\n",
    "    \n",
    "    # Initialize Circuit qubits in superposition\n",
    "    qc.h([0, 1])  \n",
    "    \n",
    "    # Prepare Phase Separation Circuit\n",
    "    phase_separation(qc, gamma)\n",
    "    \n",
    "    # Apply mixing layer\n",
    "    mixing_layer(qc, beta)\n",
    "    \n",
    "    qc.measure_all()\n",
    "    return qc\n",
    "#-------------------------------------------------------------------------\n",
    "\n",
    "# Simulate QAOA circuit\n",
    "gamma = np.pi / 4.\n",
    "beta  = np.pi / 6\n",
    "\n",
    "qc = qaoa_circuit(gamma, beta)\n",
    "\n",
    "# Display the complete circuit\n",
    "display(circuit_drawer(qc, output='mpl', style=\"iqp\"))\n",
    "\n",
    "# Execute the circuit\n",
    "simulator = Aer.get_backend('aer_simulator')\n",
    "result = execute(qc, simulator).result()\n",
    "\n",
    "# Output Results\n",
    "print(\"Measurement Results:\", result.get_counts())\n"
   ]
  },
  {
   "cell_type": "code",
   "execution_count": null,
   "id": "1ca87fac",
   "metadata": {},
   "outputs": [],
   "source": []
  }
 ],
 "metadata": {
  "kernelspec": {
   "display_name": "Python 3 (ipykernel)",
   "language": "python",
   "name": "python3"
  },
  "language_info": {
   "codemirror_mode": {
    "name": "ipython",
    "version": 3
   },
   "file_extension": ".py",
   "mimetype": "text/x-python",
   "name": "python",
   "nbconvert_exporter": "python",
   "pygments_lexer": "ipython3",
   "version": "3.10.17"
  }
 },
 "nbformat": 4,
 "nbformat_minor": 5
}
