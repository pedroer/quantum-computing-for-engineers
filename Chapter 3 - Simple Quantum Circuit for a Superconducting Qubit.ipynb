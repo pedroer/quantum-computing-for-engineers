{
 "cells": [
  {
   "cell_type": "code",
   "execution_count": 1,
   "id": "381947de",
   "metadata": {},
   "outputs": [
    {
     "name": "stdout",
     "output_type": "stream",
     "text": [
      "Measurement Results: {'1': 509, '0': 515}\n"
     ]
    },
    {
     "data": {
      "image/png": "[encoded data removed]",
      "text/plain": [
       "<Figure size 269.064x200.667 with 1 Axes>"
      ]
     },
     "metadata": {},
     "output_type": "display_data"
    }
   ],
   "source": [
    "#-------------------------------------------------------------------------\n",
    "# Simple Quantum Circuit for a Superconducting Qubit System\n",
    "# Demonstrates the preparation of a qubit in a superposition state using a Hadamard gate.\n",
    "#-------------------------------------------------------------------------\n",
    "# Qiskit changes frequently. \n",
    "# We recommend using the latest version from the book code repository at:\n",
    "# https://github.com/pedroer/quantum-computing-for-engineers/blob/main/requirements.txt\n",
    "from qiskit import QuantumCircuit, Aer, execute\n",
    "from qiskit.visualization import plot_histogram\n",
    "from qiskit.visualization import circuit_drawer\n",
    "\n",
    "import numpy as np\n",
    "import matplotlib.pyplot as plt\n",
    "import warnings\n",
    "warnings.filterwarnings('ignore')\n",
    "#-------------------------------------------------------------------------\n",
    "\n",
    "# Step 1: Create a Quantum Circuit with 1 Qubit and 1 Classical Bit\n",
    "qc = QuantumCircuit(1, 1)  # 1 qubit, 1 classical bit\n",
    "\n",
    "# Step 2: Apply the Hadamard Gate to Create Superposition\n",
    "qc.h(0)  # Applies a Hadamard gate to qubit 0, creating (|0⟩ + |1⟩)/√2\n",
    "\n",
    "# Step 3: Measure the Qubit\n",
    "qc.measure(0, 0)  # Measure the qubit and store the result in classical bit 0\n",
    "\n",
    "# Step 4: Simulate the Circuit\n",
    "simulator = Aer.get_backend('qasm_simulator')  # Use the QASM simulator\n",
    "result    = execute(qc, simulator, shots=1024).result()  # Execute the circuit with 1024 shots\n",
    "counts    = result.get_counts()  # Get the measurement results\n",
    "\n",
    "# Step 5: Display the Results\n",
    "print(\"Measurement Results:\", counts)  # Print the measurement results\n",
    "\n",
    "# Plot the results as a histogram\n",
    "plot_histogram(counts, title=\"Superposition Measurement Results\")\n",
    "plt.show()\n",
    "\n",
    "# Draw the quantum circuit\n",
    "display(circuit_drawer(qc, output='mpl', style=\"iqp\"))"
   ]
  },
  {
   "cell_type": "code",
   "execution_count": null,
   "id": "403c806e",
   "metadata": {},
   "outputs": [],
   "source": []
  }
 ],
 "metadata": {
  "kernelspec": {
   "display_name": "Python 3 (ipykernel)",
   "language": "python",
   "name": "python3"
  },
  "language_info": {
   "codemirror_mode": {
    "name": "ipython",
    "version": 3
   },
   "file_extension": ".py",
   "mimetype": "text/x-python",
   "name": "python",
   "nbconvert_exporter": "python",
   "pygments_lexer": "ipython3",
   "version": "3.10.17"
  }
 },
 "nbformat": 4,
 "nbformat_minor": 5
}
