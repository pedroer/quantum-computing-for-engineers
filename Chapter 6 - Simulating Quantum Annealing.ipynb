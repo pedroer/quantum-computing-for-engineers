{
 "cells": [
  {
   "cell_type": "code",
   "execution_count": 2,
   "id": "906c6a2a",
   "metadata": {},
   "outputs": [
    {
     "name": "stdout",
     "output_type": "stream",
     "text": [
      "Interpolated Hamiltonian at t=0.5:\n"
     ]
    },
    {
     "data": {
      "text/latex": [
       "$\\displaystyle \\left[\\begin{matrix}3.5 & 0.0 & 0.0 & 0.0 & 0.0 & 0.0 & 0.0 & 0.0\\\\0.0 & 1.5 & 0.0 & 0.0 & 0.0 & 0.0 & 0.0 & 0.0\\\\0.0 & 0.0 & 1.5 & 0.0 & 0.0 & 0.0 & 0.0 & 0.0\\\\0.0 & 0.0 & 0.0 & -0.5 & 0.0 & 0.0 & 0.0 & 0.0\\\\0.0 & 0.0 & 0.0 & 0.0 & 1.5 & 0.0 & 0.0 & 0.0\\\\0.0 & 0.0 & 0.0 & 0.0 & 0.0 & -0.5 & 0.0 & 0.0\\\\0.0 & 0.0 & 0.0 & 0.0 & 0.0 & 0.0 & -0.5 & 0.0\\\\0.0 & 0.0 & 0.0 & 0.0 & 0.0 & 0.0 & 0.0 & -2.5\\end{matrix}\\right]$"
      ],
      "text/plain": [
       "Matrix([\n",
       "[3.5, 0.0, 0.0,  0.0, 0.0,  0.0,  0.0,  0.0],\n",
       "[0.0, 1.5, 0.0,  0.0, 0.0,  0.0,  0.0,  0.0],\n",
       "[0.0, 0.0, 1.5,  0.0, 0.0,  0.0,  0.0,  0.0],\n",
       "[0.0, 0.0, 0.0, -0.5, 0.0,  0.0,  0.0,  0.0],\n",
       "[0.0, 0.0, 0.0,  0.0, 1.5,  0.0,  0.0,  0.0],\n",
       "[0.0, 0.0, 0.0,  0.0, 0.0, -0.5,  0.0,  0.0],\n",
       "[0.0, 0.0, 0.0,  0.0, 0.0,  0.0, -0.5,  0.0],\n",
       "[0.0, 0.0, 0.0,  0.0, 0.0,  0.0,  0.0, -2.5]])"
      ]
     },
     "metadata": {},
     "output_type": "display_data"
    }
   ],
   "source": [
    "#-------------------------------------------------------------------------\n",
    "# Simulating Quantum Annealing\n",
    "# Chapter 6 in the QUANTUM COMPUTING AND QUANTUM MACHINE LEARNING BOOK\n",
    "# Simulating a time-dependent Hamiltonian Quantum Annealing\n",
    "#-------------------------------------------------------------------------\n",
    "# Version 1.0\n",
    "# (c) 2025 Jesse Van Griensven, Roydon Fraser, and Jose Rosas \n",
    "# Licence:  MIT - Citation of this work is required\n",
    "#-------------------------------------------------------------------------\n",
    "import numpy as np\n",
    "\n",
    "#-------------------------------------------------------------------------\n",
    "def sprint(Matrix):\n",
    "    \"\"\" Prints a numpy Matrix in a nice format with sympy \"\"\"\n",
    "    import sympy as sp\n",
    "    # Jan 2024 by Jesse Thé\n",
    "    Smatrix = sp.Matrix(Matrix)\n",
    "    display( Smatrix )\n",
    "    return\n",
    "\n",
    "#-------------------------------------------------------------------------\n",
    "def H0(n):\n",
    "# Define initial and cost Hamiltonians\n",
    "    return np.eye(2**n)  # Superposition state\n",
    "\n",
    "#-------------------------------------------------------------------------\n",
    "def HC(weights):\n",
    "    n = len(weights)\n",
    "    H = np.zeros((2**n, 2**n))\n",
    "    for i in range(n):\n",
    "        for j in range(n):\n",
    "            if weights[i][j] != 0:\n",
    "                H += weights[i][j] * np.kron(np.eye(2**i), np.kron([[1, 0], [0, -1]], np.eye(2**(n-i-1))))\n",
    "    return H\n",
    "\n",
    "#-------------------------------------------------------------------------\n",
    "def H(t, H0, HC):\n",
    "# Linear interpolation of H(t)\n",
    "    return (1 - t) * H0 + t * HC\n",
    "\n",
    "#-------------------------------------------------------------------------\n",
    "# Example usage\n",
    "n = 3\n",
    "weights = [[0, 1, 1], [1, 0, 1], [1, 1, 0]]\n",
    "H0_matrix = H0(n)\n",
    "HC_matrix = HC(weights)\n",
    "H_t = H(0.5, H0_matrix, HC_matrix)\n",
    "\n",
    "# Print Results\n",
    "print(\"Interpolated Hamiltonian at t=0.5:\")\n",
    "sprint(H_t)"
   ]
  },
  {
   "cell_type": "code",
   "execution_count": null,
   "id": "d157240f",
   "metadata": {},
   "outputs": [],
   "source": []
  }
 ],
 "metadata": {
  "kernelspec": {
   "display_name": "Python 3 (ipykernel)",
   "language": "python",
   "name": "python3"
  },
  "language_info": {
   "codemirror_mode": {
    "name": "ipython",
    "version": 3
   },
   "file_extension": ".py",
   "mimetype": "text/x-python",
   "name": "python",
   "nbconvert_exporter": "python",
   "pygments_lexer": "ipython3",
   "version": "3.10.17"
  }
 },
 "nbformat": 4,
 "nbformat_minor": 5
}
