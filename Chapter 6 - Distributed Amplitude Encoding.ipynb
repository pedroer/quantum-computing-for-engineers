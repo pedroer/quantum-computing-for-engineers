{
 "cells": [
  {
   "cell_type": "code",
   "execution_count": 1,
   "id": "690f2595",
   "metadata": {},
   "outputs": [
    {
     "name": "stdout",
     "output_type": "stream",
     "text": [
      "Quantum Circuit 1:\n",
      "      ┌─────────────────────────────────────────────┐\n",
      "q_0: ┤0                                            ├\n",
      "     │  Initialize(0.18257,0.36515,0.54772,0.7303) │\n",
      "q_1: ┤1                                            ├\n",
      "     └─────────────────────────────────────────────┘\n",
      "Quantum Circuit 2:\n",
      "      ┌──────────────────────────────────────────────┐\n",
      "q_0: ┤0                                             ├\n",
      "     │  Initialize(0.37905,0.45486,0.53067,0.60648) │\n",
      "q_1: ┤1                                             ├\n",
      "     └──────────────────────────────────────────────┘\n"
     ]
    },
    {
     "data": {
      "image/png": "[encoded data removed]",
      "text/plain": [
       "<Figure size 370.906x200.667 with 1 Axes>"
      ]
     },
     "metadata": {},
     "output_type": "display_data"
    },
    {
     "data": {
      "image/png": "[encoded data removed]",
      "text/plain": [
       "<Figure size 370.906x200.667 with 1 Axes>"
      ]
     },
     "metadata": {},
     "output_type": "display_data"
    }
   ],
   "source": [
    "#-------------------------------------------------------------------------\n",
    "# Distributed Amplitude Encoding\n",
    "# Chapter 6 in the QUANTUM COMPUTING AND QUANTUM MACHINE LEARNING BOOK\n",
    "#-------------------------------------------------------------------------\n",
    "# Version 1.0\n",
    "# (c) 2025 Jesse Van Griensven, Roydon Fraser, and Jose Rosas \n",
    "# Licence:  MIT - Citation of this work required\n",
    "#-------------------------------------------------------------------------\n",
    "# Qiskit changes frequently. \n",
    "# We recommend using the latest version from the book code repository at:\n",
    "# https://github.com/pedroer/quantum-computing-for-engineers/blob/main/requirements.txt\n",
    "import numpy as np\n",
    "from qiskit import QuantumCircuit\n",
    "from qiskit.visualization import circuit_drawer\n",
    "import warnings\n",
    "warnings.filterwarnings('ignore')\n",
    "\n",
    "# Split dataset into two parts\n",
    "data = np.array([1, 2, 3, 4, 5, 6, 7, 8])\n",
    "data1, data2 = np.split(data, 2)\n",
    "\n",
    "# Normalize the data\n",
    "norm1 = np.linalg.norm(data1)\n",
    "norm2 = np.linalg.norm(data2)\n",
    "normalized_data1 = data1 / norm1\n",
    "normalized_data2 = data2 / norm2\n",
    "\n",
    "# Create quantum circuits for both parts\n",
    "qc1 = QuantumCircuit(2)  # Using 2 \n",
    "qc2 = QuantumCircuit(2)  # Using 2\n",
    "\n",
    "# Initialize the circuits\n",
    "qc1.initialize(normalized_data1, [0, 1])\n",
    "qc2.initialize(normalized_data2, [0, 1])\n",
    "\n",
    "print(\"Quantum Circuit 1:\\n\", qc1)\n",
    "print(\"Quantum Circuit 2:\\n\", qc2)\n",
    "\n",
    "# Draw the circuits\n",
    "display(circuit_drawer(qc1, output='mpl', style=\"iqp\"))\n",
    "display(circuit_drawer(qc2, output='mpl', style=\"iqp\"))"
   ]
  },
  {
   "cell_type": "code",
   "execution_count": null,
   "id": "e728e308",
   "metadata": {},
   "outputs": [],
   "source": []
  }
 ],
 "metadata": {
  "kernelspec": {
   "display_name": "Python 3 (ipykernel)",
   "language": "python",
   "name": "python3"
  },
  "language_info": {
   "codemirror_mode": {
    "name": "ipython",
    "version": 3
   },
   "file_extension": ".py",
   "mimetype": "text/x-python",
   "name": "python",
   "nbconvert_exporter": "python",
   "pygments_lexer": "ipython3",
   "version": "3.10.17"
  }
 },
 "nbformat": 4,
 "nbformat_minor": 5
}
