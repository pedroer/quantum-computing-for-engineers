{
 "cells": [
  {
   "cell_type": "code",
   "execution_count": 2,
   "id": "8f8fb757",
   "metadata": {},
   "outputs": [
    {
     "name": "stdout",
     "output_type": "stream",
     "text": [
      "User: What's the weather like?\n",
      "Chatbot:  It's been raining a lot lately, but it's supposed to be sunny for the rest of the week.\n"
     ]
    },
    {
     "data": {
      "image/png": "[encoded data removed]",
      "text/plain": [
       "<Figure size 600x400 with 1 Axes>"
      ]
     },
     "metadata": {},
     "output_type": "display_data"
    }
   ],
   "source": [
    "#-------------------------------------------------------------------------\n",
    "# Transformers \n",
    "# Chapter 7 in the QUANTUM COMPUTING AND QUANTUM MACHINE LEARNING BOOK\n",
    "#-------------------------------------------------------------------------\n",
    "# Version 1.0\n",
    "# (c) 2025 Jesse Van Griensven, Roydon Fraser, and Jose Rosas \n",
    "# License:  MIT - Citation of this work required\n",
    "#-------------------------------------------------------------------------\n",
    "# Qiskit changes frequently. \n",
    "# We recommend using the latest version from the book code repository at:\n",
    "# https://github.com/pedroer/quantum-computing-for-engineers/blob/main/requirements.txt\n",
    "\n",
    "import matplotlib.pyplot as plt\n",
    "from transformers import pipeline\n",
    "from transformers import ConversationalPipeline, Conversation\n",
    "#-------------------------------------------------------------------------\n",
    "\n",
    "# Load chatbot pipeline\n",
    "chatbot = pipeline(\"conversational\", model=\"facebook/blenderbot-400M-distill\")\n",
    "\n",
    "# Example conversation\n",
    "user_input   = \"What's the weather like?\"\n",
    "conversation = Conversation(user_input)\n",
    "response     = chatbot(conversation)\n",
    "\n",
    "# Extract chatbot response\n",
    "chatbot_response = response.generated_responses[-1]\n",
    "\n",
    "# Print conversation\n",
    "print(\"User:\", user_input)\n",
    "print(\"Chatbot:\", chatbot_response)\n",
    "\n",
    "#-------------------------------------------------------------------------\n",
    "# Visualizing chatbot interaction\n",
    "history = [(\"User\", user_input), (\"Chatbot\", chatbot_response)]\n",
    "\n",
    "# Extract text for visualization\n",
    "speakers, messages = zip(*history)\n",
    "\n",
    "# Plot chatbot conversation\n",
    "plt.figure(figsize=(6, 4))\n",
    "plt.scatter(range(len(speakers)), [1] * len(speakers), color=\"blue\", label=\"User\")\n",
    "plt.scatter(range(len(messages)), [0] * len(messages), color=\"red\", label=\"Chatbot\")\n",
    "\n",
    "# Connect messages in conversation\n",
    "for i in range(len(speakers)):\n",
    "    plt.plot([i, i], [1, 0], \"k-\", alpha=0.6)\n",
    "\n",
    "plt.xticks(range(len(speakers)), speakers, rotation=45)\n",
    "plt.yticks([0, 1], [\"Chatbot\", \"User\"])\n",
    "plt.title(\"Chatbot Conversation Flow\")\n",
    "plt.legend()\n",
    "plt.grid(alpha=0.3)\n",
    "plt.show()\n"
   ]
  },
  {
   "cell_type": "code",
   "execution_count": null,
   "id": "5e66f4b9-d1bb-47d4-8bb9-c8a8ebfe1e1c",
   "metadata": {},
   "outputs": [],
   "source": []
  }
 ],
 "metadata": {
  "kernelspec": {
   "display_name": "Python 3 (ipykernel)",
   "language": "python",
   "name": "python3"
  },
  "language_info": {
   "codemirror_mode": {
    "name": "ipython",
    "version": 3
   },
   "file_extension": ".py",
   "mimetype": "text/x-python",
   "name": "python",
   "nbconvert_exporter": "python",
   "pygments_lexer": "ipython3",
   "version": "3.10.17"
  }
 },
 "nbformat": 4,
 "nbformat_minor": 5
}
