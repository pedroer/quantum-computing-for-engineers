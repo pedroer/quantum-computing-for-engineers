{
 "cells": [
  {
   "cell_type": "code",
   "execution_count": 1,
   "id": "5844c8c8",
   "metadata": {},
   "outputs": [
    {
     "name": "stdout",
     "output_type": "stream",
     "text": [
      "\n",
      "Grover's Algorithm Quantum Circuit:\n",
      "        ┌─────────┐┌────┐ ░ ┌─┐      \n",
      "   q_0: ┤ U2(0,π) ├┤0   ├─░─┤M├──────\n",
      "        ├─────────┤│    │ ░ └╥┘┌─┐   \n",
      "   q_1: ┤ U2(0,π) ├┤1 Q ├─░──╫─┤M├───\n",
      "        ├─────────┤│    │ ░  ║ └╥┘┌─┐\n",
      "   q_2: ┤ U2(0,π) ├┤2   ├─░──╫──╫─┤M├\n",
      "        └─────────┘└────┘ ░  ║  ║ └╥┘\n",
      "meas: 3/═════════════════════╩══╩══╩═\n",
      "                             0  1  2 \n"
     ]
    },
    {
     "data": {
      "image/png": "[encoded data removed]",
      "text/plain": [
       "<Figure size 800x500 with 1 Axes>"
      ]
     },
     "metadata": {},
     "output_type": "display_data"
    }
   ],
   "source": [
    "#-------------------------------------------------------------------------\n",
    "# Grover’s Algorithm for Speedup\n",
    "# Chapter 8 in the QUANTUM COMPUTING AND QUANTUM MACHINE LEARNING BOOK\n",
    "#-------------------------------------------------------------------------\n",
    "# Version 1.0\n",
    "# (c) 2025 Jesse Van Griensven, Roydon Fraser, and Jose Rosas \n",
    "# License:  MIT - Citation of this work required\n",
    "#-------------------------------------------------------------------------\n",
    "# Qiskit changes frequently. \n",
    "# We recommend using the latest version from the book code repository at:\n",
    "# https://github.com/pedroer/quantum-computing-for-engineers/blob/main/requirements.txt\n",
    "import numpy as np\n",
    "import matplotlib.pyplot as plt\n",
    "\n",
    "from qiskit import QuantumCircuit, Aer, execute\n",
    "from qiskit.visualization import plot_histogram, circuit_drawer\n",
    "from qiskit.circuit.library import GroverOperator\n",
    "#-------------------------------------------------------------------------\n",
    "\n",
    "def plot_quantum_circuit(qc):\n",
    "    \"\"\" Visualizing Quantum Circuit \"\"\"\n",
    "    print(\"\\nGrover's Algorithm Quantum Circuit:\")\n",
    "    print(qc.decompose())  # Print decomposed circuit\n",
    "    circuit_drawer(qc, output='mpl', style={'backgroundcolor': 'white'})\n",
    "    return\n",
    "#-------------------------------------------------------------------------\n",
    "\n",
    "def plot_measurement_results(counts):\n",
    "    \"\"\" Visualization of Measurement Outcomes \"\"\"\n",
    "    plt.figure(figsize=(8, 5))\n",
    "    plot_histogram(counts)\n",
    "    plt.title(\"Measurement Results (Grover's Algorithm)\")\n",
    "    plt.show()\n",
    "    return\n",
    "#-------------------------------------------------------------------------\n",
    "\n",
    "def create_oracle():\n",
    "    \"\"\" Define a Custom Oracle (Marking |101⟩ as the solution) \"\"\"\n",
    "    oracle = QuantumCircuit(3)\n",
    "    oracle.x(0)  # Apply X-gate to qubit 0\n",
    "    oracle.h(2)  # Apply Hadamard to qubit 2\n",
    "    oracle.ccx(0, 1, 2)  # Controlled-Controlled-NOT (Toffoli Gate)\n",
    "    oracle.h(2)  # Hadamard back\n",
    "    oracle.x(0)  # Undo X-gate\n",
    "    return oracle\n",
    "#-------------------------------------------------------------------------\n",
    "\n",
    "# Create a 3-qubit Grover circuit\n",
    "qc = QuantumCircuit(3)\n",
    "\n",
    "# Apply Hadamard gates to create a superposition\n",
    "qc.h([0, 1, 2])\n",
    "\n",
    "# Apply Grover operator (oracle + diffusion)\n",
    "oracle    = create_oracle()\n",
    "grover_op = GroverOperator(oracle=oracle)\n",
    "qc.append(grover_op, [0, 1, 2])\n",
    "\n",
    "# Measure the qubits\n",
    "qc.measure_all()\n",
    "\n",
    "# Simulate the circuit\n",
    "simulator = Aer.get_backend('aer_simulator')\n",
    "result    = execute(qc, simulator).result()\n",
    "counts    = result.get_counts()\n",
    "\n",
    "# Execute visualizations\n",
    "plot_quantum_circuit(qc)\n",
    "plot_measurement_results(counts)"
   ]
  },
  {
   "cell_type": "code",
   "execution_count": null,
   "id": "3947c021",
   "metadata": {},
   "outputs": [],
   "source": []
  }
 ],
 "metadata": {
  "kernelspec": {
   "display_name": "Python 3 (ipykernel)",
   "language": "python",
   "name": "python3"
  },
  "language_info": {
   "codemirror_mode": {
    "name": "ipython",
    "version": 3
   },
   "file_extension": ".py",
   "mimetype": "text/x-python",
   "name": "python",
   "nbconvert_exporter": "python",
   "pygments_lexer": "ipython3",
   "version": "3.10.17"
  }
 },
 "nbformat": 4,
 "nbformat_minor": 5
}
