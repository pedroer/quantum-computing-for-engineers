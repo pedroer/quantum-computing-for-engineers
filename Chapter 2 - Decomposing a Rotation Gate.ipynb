{
 "cells": [
  {
   "cell_type": "code",
   "execution_count": 1,
   "id": "4e72df6e",
   "metadata": {},
   "outputs": [
    {
     "name": "stdout",
     "output_type": "stream",
     "text": [
      "   ┌───┐┌─────────┐\n",
      "q: ┤ H ├┤ Rz(π/3) ├\n",
      "   └───┘└─────────┘\n"
     ]
    },
    {
     "data": {
      "image/png": "[encoded data removed]",
      "text/plain": [
       "<Figure size 269.064x117.056 with 1 Axes>"
      ]
     },
     "metadata": {},
     "output_type": "display_data"
    },
    {
     "name": "stdout",
     "output_type": "stream",
     "text": [
      "   ┌───┐┌─────────┐┌───┐\n",
      "q: ┤ H ├┤ Rz(π/3) ├┤ H ├\n",
      "   └───┘└─────────┘└───┘\n"
     ]
    },
    {
     "data": {
      "image/png": "[encoded data removed]",
      "text/plain": [
       "<Figure size 352.675x117.056 with 1 Axes>"
      ]
     },
     "metadata": {},
     "output_type": "display_data"
    }
   ],
   "source": [
    "#-------------------------------------------------------------------------\n",
    "# Decomposing a Rotation Gate\n",
    "# Chapter 2 in the QUANTUM COMPUTING AND QUANTUM MACHINE LEARNING BOOK\n",
    "#-------------------------------------------------------------------------\n",
    "# Version 1.0\n",
    "# (c) 2025 Jesse Van Griensven, Roydon Fraser, and Jose Rosas \n",
    "# Licence:  MIT - Citation of this work required\n",
    "#-------------------------------------------------------------------------\n",
    "# Qiskit changes frequently. \n",
    "# We recommend using the latest version from the book code repository at:\n",
    "# https://github.com/pedroer/quantum-computing-for-engineers/blob/main/requirements.txt\n",
    "import warnings\n",
    "warnings.filterwarnings('ignore')\n",
    "\n",
    "import numpy as np\n",
    "from qiskit import QuantumCircuit\n",
    "from qiskit.visualization import circuit_drawer\n",
    "#-------------------------------------------------------------------------\n",
    "# Rotation angle\n",
    "theta = np.pi / 3. \n",
    "\n",
    "# Create the Circuit with 1 qubit\n",
    "qc = QuantumCircuit(1)\n",
    "\n",
    "# Apply Hadamard\n",
    "qc.h(0)  \n",
    "\n",
    "# Apply Rz - Z Rotation gate\n",
    "qc.rz(theta, 0)  # Apply Rz\n",
    "\n",
    "# Draw the circuit at this point\n",
    "print(qc.draw())\n",
    "display(circuit_drawer(qc, output='mpl', style=\"iqp\"))\n",
    "\n",
    "# Apply Hadamard again\n",
    "qc.h(0)  \n",
    "\n",
    "# Draw the final circuit\n",
    "print(qc.draw())\n",
    "display(circuit_drawer(qc, output='mpl', style=\"iqp\"))"
   ]
  },
  {
   "cell_type": "code",
   "execution_count": null,
   "id": "152e867f",
   "metadata": {},
   "outputs": [],
   "source": []
  }
 ],
 "metadata": {
  "kernelspec": {
   "display_name": "Python 3 (ipykernel)",
   "language": "python",
   "name": "python3"
  },
  "language_info": {
   "codemirror_mode": {
    "name": "ipython",
    "version": 3
   },
   "file_extension": ".py",
   "mimetype": "text/x-python",
   "name": "python",
   "nbconvert_exporter": "python",
   "pygments_lexer": "ipython3",
   "version": "3.10.17"
  }
 },
 "nbformat": 4,
 "nbformat_minor": 5
}
