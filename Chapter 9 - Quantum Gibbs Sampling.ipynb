{
 "cells": [
  {
   "cell_type": "code",
   "execution_count": 1,
   "id": "2daa4d94",
   "metadata": {},
   "outputs": [
    {
     "name": "stdout",
     "output_type": "stream",
     "text": [
      "Quantum Gibbs Sampling Circuit:\n",
      "        ┌───┐     ┌─────────┐ ░ ┌─┐   \n",
      "   q_0: ┤ H ├──■──┤ Rz(π/4) ├─░─┤M├───\n",
      "        └───┘┌─┴─┐└─────────┘ ░ └╥┘┌─┐\n",
      "   q_1: ─────┤ X ├────────────░──╫─┤M├\n",
      "             └───┘            ░  ║ └╥┘\n",
      "meas: 2/═════════════════════════╩══╩═\n",
      "                                 0  1 \n",
      "Quantum Gibbs Sampling Result: {'11': 486, '00': 514}\n"
     ]
    },
    {
     "data": {
      "image/png": "[encoded data removed]",
      "text/plain": [
       "<Figure size 640x480 with 1 Axes>"
      ]
     },
     "metadata": {},
     "output_type": "display_data"
    }
   ],
   "source": [
    "#-------------------------------------------------------------------------\n",
    "# Quantum Gibbs Sampling \n",
    "# Chapter 9 in the QUANTUM COMPUTING AND QUANTUM MACHINE LEARNING BOOK\n",
    "#-------------------------------------------------------------------------\n",
    "# Version 1.0\n",
    "# (c) 2025 Jesse Van Griensven, Roydon Fraser, and Jose Rosas \n",
    "# License:  MIT - Citation of this work required\n",
    "#-------------------------------------------------------------------------\n",
    "# Qiskit changes frequently. \n",
    "# We recommend using the latest version from the book code repository at:\n",
    "# https://github.com/pedroer/quantum-computing-for-engineers/blob/main/requirements.txt\n",
    "\n",
    "from numpy import pi\n",
    "import matplotlib.pyplot as plt\n",
    "\n",
    "from qiskit import QuantumCircuit, Aer, execute\n",
    "from qiskit.visualization import plot_histogram\n",
    "#-------------------------------------------------------------------------\n",
    "\n",
    "# Define a simple Hamiltonian H = Z1 + Z2 + X1X2\n",
    "qc = QuantumCircuit(2)\n",
    "\n",
    "# Apply thermal relaxation (approximation)\n",
    "qc.h(0)           # Create superposition\n",
    "qc.cx(0, 1)       # Entangle qubits\n",
    "qc.rz(pi / 4., 0)  # Apply rotation to simulate inverse temperature effect\n",
    "qc.measure_all()\n",
    "\n",
    "# Print the quantum circuit\n",
    "print(\"Quantum Gibbs Sampling Circuit:\")\n",
    "print(qc)\n",
    "qc.draw('mpl')  # Graphically display the circuit\n",
    "\n",
    "# Simulate the circuit\n",
    "backend = Aer.get_backend('aer_simulator')\n",
    "result  = execute(qc, backend, shots=1000).result()\n",
    "counts  = result.get_counts()\n",
    "\n",
    "# Print results\n",
    "print(\"Quantum Gibbs Sampling Result:\", counts)\n",
    "\n",
    "# Visualize the measurement results\n",
    "plot_histogram(counts)\n",
    "plt.title(\"Quantum Gibbs Sampling Probability Distribution\")\n",
    "plt.show()\n"
   ]
  },
  {
   "cell_type": "code",
   "execution_count": null,
   "id": "740f2e5f",
   "metadata": {},
   "outputs": [],
   "source": []
  }
 ],
 "metadata": {
  "kernelspec": {
   "display_name": "Python 3 (ipykernel)",
   "language": "python",
   "name": "python3"
  },
  "language_info": {
   "codemirror_mode": {
    "name": "ipython",
    "version": 3
   },
   "file_extension": ".py",
   "mimetype": "text/x-python",
   "name": "python",
   "nbconvert_exporter": "python",
   "pygments_lexer": "ipython3",
   "version": "3.10.17"
  }
 },
 "nbformat": 4,
 "nbformat_minor": 5
}
