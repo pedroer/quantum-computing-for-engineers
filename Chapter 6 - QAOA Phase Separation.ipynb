{
 "cells": [
  {
   "cell_type": "code",
   "execution_count": 1,
   "id": "3cfa12d3",
   "metadata": {},
   "outputs": [
    {
     "name": "stdout",
     "output_type": "stream",
     "text": [
      "Phase Separation Circuit:\n",
      "     ┌───┐                     \n",
      "q_0: ┤ H ├──■───────────────■──\n",
      "     ├───┤┌─┴─┐┌─────────┐┌─┴─┐\n",
      "q_1: ┤ H ├┤ X ├┤ Rz(π/2) ├┤ X ├\n",
      "     └───┘└───┘└─────────┘└───┘\n"
     ]
    },
    {
     "data": {
      "image/png": "[encoded data removed]",
      "text/plain": [
       "<Figure size 454.517x200.667 with 1 Axes>"
      ]
     },
     "metadata": {},
     "output_type": "display_data"
    }
   ],
   "source": [
    "#-------------------------------------------------------------------------\n",
    "# QAOA Phase Separation\n",
    "# Chapter 6 in the QUANTUM COMPUTING AND QUANTUM MACHINE LEARNING BOOK\n",
    "# Code demonstrates applying the phase separation step for two qubits\n",
    "#-------------------------------------------------------------------------\n",
    "# Version 1.0\n",
    "# (c) 2025 Jesse Van Griensven, Roydon Fraser, and Jose Rosas \n",
    "# Licence:  MIT - Citation of this work is required\n",
    "#-------------------------------------------------------------------------\n",
    "# Qiskit changes frequently. \n",
    "# We recommend using the latest version from the book code repository at:\n",
    "# https://github.com/pedroer/quantum-computing-for-engineers/blob/main/requirements.txt\n",
    "import warnings\n",
    "warnings.filterwarnings('ignore')\n",
    "\n",
    "import numpy as np\n",
    "from qiskit import QuantumCircuit\n",
    "from qiskit.visualization import circuit_drawer\n",
    "#-------------------------------------------------------------------------\n",
    "\n",
    "# Define phase separation\n",
    "def phase_separation(qc, gamma):\n",
    "    qc.cx(0, 1)\n",
    "    qc.rz(2 * gamma, 1)\n",
    "    qc.cx(0, 1)\n",
    "#-------------------------------------------------------------------------\n",
    "\n",
    "# Apply phase separation\n",
    "qc = QuantumCircuit(2)\n",
    "qc.h([0, 1])  # Initialize\n",
    "phase_separation(qc, np.pi / 4)\n",
    "\n",
    "# Output Results\n",
    "print(\"Phase Separation Circuit:\")\n",
    "print(qc)\n",
    "\n",
    "# Draw the circuit\n",
    "display(circuit_drawer(qc, output='mpl', style=\"iqp\"))"
   ]
  },
  {
   "cell_type": "code",
   "execution_count": null,
   "id": "5b8d61a2",
   "metadata": {},
   "outputs": [],
   "source": []
  }
 ],
 "metadata": {
  "kernelspec": {
   "display_name": "Python 3 (ipykernel)",
   "language": "python",
   "name": "python3"
  },
  "language_info": {
   "codemirror_mode": {
    "name": "ipython",
    "version": 3
   },
   "file_extension": ".py",
   "mimetype": "text/x-python",
   "name": "python",
   "nbconvert_exporter": "python",
   "pygments_lexer": "ipython3",
   "version": "3.10.17"
  }
 },
 "nbformat": 4,
 "nbformat_minor": 5
}
