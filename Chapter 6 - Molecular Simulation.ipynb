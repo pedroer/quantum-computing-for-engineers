{
 "cells": [
  {
   "cell_type": "code",
   "execution_count": 8,
   "id": "814984c4",
   "metadata": {},
   "outputs": [
    {
     "name": "stdout",
     "output_type": "stream",
     "text": [
      "Number of Orbitals: 2\n",
      "Nuclear Repulsion Energy: 0.7151043390810812\n"
     ]
    }
   ],
   "source": [
    "#-------------------------------------------------------------------------\n",
    "# Molecular Simulation  \n",
    "# Chapter 6 in the QUANTUM COMPUTING AND QUANTUM MACHINE LEARNING BOOK\n",
    "#-------------------------------------------------------------------------\n",
    "# Version 1.1\n",
    "# (c) 2025 Jesse Van Griensven, Roydon Fraser, and Jose Rosas \n",
    "# Licence:  MIT - Citation of this work is required\n",
    "#-------------------------------------------------------------------------\n",
    "# Qiskit changes frequently. \n",
    "# We recommend using the latest version from the book code repository at:\n",
    "# https://github.com/pedroer/quantum-computing-for-engineers/blob/main/requirements.txt\n",
    "import warnings\n",
    "warnings.filterwarnings('ignore')\n",
    "\n",
    "from qiskit_nature.second_q.drivers import PySCFDriver\n",
    "#-------------------------------------------------------------------------\n",
    "\n",
    "# Define a molecular structure\n",
    "driver   = PySCFDriver(atom=\"H 0 0 0; H 0 0 0.74\", basis=\"sto3g\")\n",
    "molecule = driver.run()\n",
    "\n",
    "# Print molecular properties\n",
    "print(\"Number of Orbitals:\", molecule.num_spatial_orbitals)\n",
    "print(\"Nuclear Repulsion Energy:\", molecule.nuclear_repulsion_energy)\n"
   ]
  },
  {
   "cell_type": "code",
   "execution_count": null,
   "id": "a31bc4c1",
   "metadata": {},
   "outputs": [],
   "source": []
  },
  {
   "cell_type": "code",
   "execution_count": 10,
   "id": "af632780",
   "metadata": {},
   "outputs": [
    {
     "name": "stdout",
     "output_type": "stream",
     "text": [
      "Number of Orbitals: 2\n",
      "Nuclear Repulsion Energy: 0.7151043390810812\n"
     ]
    }
   ],
   "source": [
    "# Molecular Simulation \n",
    "#from qiskit_nature.drivers import PySCFDriver\n",
    "from qiskit_nature.second_q.drivers import PySCFDriver\n",
    "\n",
    "# The Beauty from IBM qiskit: \n",
    "# Replaced the location to make the code even messier:\n",
    "# Qiskit Nature 0.7.2 no longer includes qiskit_nature.drivers. \n",
    "# In newer versions, the module has moved to qiskit_nature.second_q.drivers.\n",
    "\n",
    "# Define a molecular structure\n",
    "driver = PySCFDriver(atom=\"H 0 0 0; H 0 0 0.74\", basis=\"sto3g\")\n",
    "molecule = driver.run()\n",
    "\n",
    "# Print molecular properties\n",
    "print(\"Number of Orbitals:\", molecule.num_spatial_orbitals)\n",
    "print(\"Nuclear Repulsion Energy:\", molecule.nuclear_repulsion_energy)"
   ]
  },
  {
   "cell_type": "code",
   "execution_count": null,
   "id": "7cc3d3a8-9419-4793-af7b-47a420276620",
   "metadata": {},
   "outputs": [],
   "source": []
  }
 ],
 "metadata": {
  "kernelspec": {
   "display_name": "Python 3 (ipykernel)",
   "language": "python",
   "name": "python3"
  },
  "language_info": {
   "codemirror_mode": {
    "name": "ipython",
    "version": 3
   },
   "file_extension": ".py",
   "mimetype": "text/x-python",
   "name": "python",
   "nbconvert_exporter": "python",
   "pygments_lexer": "ipython3",
   "version": "3.10.17"
  }
 },
 "nbformat": 4,
 "nbformat_minor": 5
}
