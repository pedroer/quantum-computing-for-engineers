{
 "cells": [
  {
   "cell_type": "code",
   "execution_count": 1,
   "id": "8752bffb",
   "metadata": {},
   "outputs": [
    {
     "name": "stdout",
     "output_type": "stream",
     "text": [
      "Matrix A: \n"
     ]
    },
    {
     "data": {
      "text/latex": [
       "$\\displaystyle \\left[\\begin{matrix}1.0 & 2.0\\\\3.0 & 4.0\\end{matrix}\\right]$"
      ],
      "text/plain": [
       "Matrix([\n",
       "[1.0, 2.0],\n",
       "[3.0, 4.0]])"
      ]
     },
     "metadata": {},
     "output_type": "display_data"
    },
    {
     "name": "stdout",
     "output_type": "stream",
     "text": [
      "Matrix B: \n"
     ]
    },
    {
     "data": {
      "text/latex": [
       "$\\displaystyle \\left[\\begin{matrix}0.0 & 5.0\\\\6.0 & 7.0\\end{matrix}\\right]$"
      ],
      "text/plain": [
       "Matrix([\n",
       "[0.0, 5.0],\n",
       "[6.0, 7.0]])"
      ]
     },
     "metadata": {},
     "output_type": "display_data"
    },
    {
     "name": "stdout",
     "output_type": "stream",
     "text": [
      "Kronecker Product:\n"
     ]
    },
    {
     "data": {
      "text/latex": [
       "$\\displaystyle \\left[\\begin{matrix}0.0 & 5.0 & 0.0 & 10.0\\\\6.0 & 7.0 & 12.0 & 14.0\\\\0.0 & 15.0 & 0.0 & 20.0\\\\18.0 & 21.0 & 24.0 & 28.0\\end{matrix}\\right]$"
      ],
      "text/plain": [
       "Matrix([\n",
       "[ 0.0,  5.0,  0.0, 10.0],\n",
       "[ 6.0,  7.0, 12.0, 14.0],\n",
       "[ 0.0, 15.0,  0.0, 20.0],\n",
       "[18.0, 21.0, 24.0, 28.0]])"
      ]
     },
     "metadata": {},
     "output_type": "display_data"
    }
   ],
   "source": [
    "#-------------------------------------------------------------------------\n",
    "# Kronecker Product - The Tensor Product for Matrices\n",
    "# Chapter 2 in the QUANTUM COMPUTING AND QUANTUM MACHINE LEARNING BOOK\n",
    "#-------------------------------------------------------------------------\n",
    "# Version 1.0\n",
    "# (c) 2025 Jesse Van Griensven, Roydon Fraser, and Jose Rosas \n",
    "# Licence:  MIT - Citation of this work required\n",
    "#-------------------------------------------------------------------------\n",
    "import numpy as np\n",
    "from numpy import kron\n",
    "#-------------------------------------------------------------------------\n",
    "def sprint(Matrix, decimals=4):\n",
    "    \"\"\" Prints a Matrix with real and imaginary parts rounded to 'decimals' \"\"\"\n",
    "    import sympy as sp\n",
    "    SMatrix = sp.Matrix(Matrix)  # Convert to Sympy Matrix if it's not already\n",
    "\n",
    "    def round_complex(x):\n",
    "        \"\"\"Round real and imaginary parts of x to the given number of decimals.\"\"\"\n",
    "        c = complex(x)  # handle any real or complex Sympy expression\n",
    "        r = round(c.real, decimals)\n",
    "        i = round(c.imag, decimals)\n",
    "        # If imaginary part is negligible, treat as purely real\n",
    "        if abs(i) < 10**(-decimals): return sp.Float(r)\n",
    "        else: return sp.Float(r) + sp.Float(i)*sp.I\n",
    "\n",
    "    # Display the rounded Sympy Matrix\n",
    "    display(SMatrix.applyfunc(round_complex))\n",
    "    return\n",
    "#----------------------------------------------------------------------------\n",
    "\n",
    "# Define matrices\n",
    "A = np.array([[1, 2], [3, 4]])\n",
    "B = np.array([[0, 5], [6, 7]])\n",
    "\n",
    "# Compute Kronecker product\n",
    "Kronecker = np.kron(A, B)\n",
    "\n",
    "# Output results\n",
    "print(\"Matrix A: \")\n",
    "sprint(A)\n",
    "print(\"Matrix B: \")\n",
    "sprint(B)\n",
    "print(\"Kronecker Product:\")\n",
    "sprint(Kronecker)"
   ]
  },
  {
   "cell_type": "code",
   "execution_count": null,
   "id": "5b743f69",
   "metadata": {},
   "outputs": [],
   "source": []
  }
 ],
 "metadata": {
  "kernelspec": {
   "display_name": "Python 3 (ipykernel)",
   "language": "python",
   "name": "python3"
  },
  "language_info": {
   "codemirror_mode": {
    "name": "ipython",
    "version": 3
   },
   "file_extension": ".py",
   "mimetype": "text/x-python",
   "name": "python",
   "nbconvert_exporter": "python",
   "pygments_lexer": "ipython3",
   "version": "3.10.17"
  }
 },
 "nbformat": 4,
 "nbformat_minor": 5
}
