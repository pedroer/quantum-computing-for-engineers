{
 "cells": [
  {
   "cell_type": "code",
   "execution_count": 30,
   "id": "5f094b90",
   "metadata": {},
   "outputs": [
    {
     "name": "stdout",
     "output_type": "stream",
     "text": [
      "Finding available backends...\n",
      "- ibm_brisbane\n",
      "- ibm_sherbrooke\n",
      "Will run with backend: ibm_sherbrooke\n",
      "Executing on real quantum hardware... please wait\n",
      "Hardware Results: {'10': 41, '00': 466, '11': 469, '01': 48}\n"
     ]
    }
   ],
   "source": [
    "#-------------------------------------------------------------------------\n",
    "# Cloud Execution on IBM Quantum\n",
    "# Chapter 2 in the QUANTUM COMPUTING AND QUANTUM MACHINE LEARNING BOOK\n",
    "#-------------------------------------------------------------------------\n",
    "# Version 2.0\n",
    "# (c) 2025 Jesse Van Griensven, Roydon Fraser, and Jose Rosas \n",
    "# Licence:  MIT - Citation required\n",
    "#-------------------------------------------------------------------------\n",
    "# Qiskit changes frequently. \n",
    "# We recommend using the latest version from the book code repository at:\n",
    "# https://github.com/pedroer/quantum-computing-for-engineers/blob/main/requirements.txt\n",
    "\n",
    "\n",
    "# BEFORE STARTING, MODIFY THE JUPYTERLAB KERNEL FOR THIS FILE TO \"Qiskit Runtime\", can be done by clicking on the menu kernel -> Change Kernel.\n",
    "# You need an IBM Quantum Platform API Token -- https://quantum.ibm.com/ - replace it on YOUR_QUANTUM_PLATFORM_API_TOKEN variable\n",
    "\n",
    "import numpy as np\n",
    "import matplotlib.pyplot as plt\n",
    "from qiskit import transpile\n",
    "import warnings\n",
    "warnings.filterwarnings('ignore')\n",
    "\n",
    "from qiskit import QuantumCircuit\n",
    "from qiskit_ibm_runtime import QiskitRuntimeService, Sampler\n",
    "\n",
    "# IBM Quantum Platform API Token -- https://quantum.ibm.com/\n",
    "IBM_QUANTUM_TOKEN = 'YOUR_QUANTUM_PLATFORM_API_TOKEN'\n",
    "\n",
    "# Save your IBM Quantum account credentials\n",
    "QiskitRuntimeService.save_account(channel='ibm_quantum', token=IBM_QUANTUM_TOKEN, overwrite=True)\n",
    "\n",
    "# Initialize the Qiskit Runtime Service\n",
    "service = QiskitRuntimeService()\n",
    "\n",
    "# List available backends\n",
    "print('Finding available backends...')\n",
    "backends = service.backends()\n",
    "operational_backend = \"\"\n",
    "for backend in backends:\n",
    "    print(f\"- {backend.name}\")\n",
    "    operational_backend = backend.name\n",
    "\n",
    "# Select a quantum backend (e.g., 'ibmq_quito')\n",
    "backend_name = operational_backend\n",
    "backend = service.backend(backend_name)\n",
    "print(f'Will run with backend: {backend.name}')\n",
    "\n",
    "# Define a quantum circuit\n",
    "qc = QuantumCircuit(2, 2)\n",
    "qc.h(0)\n",
    "qc.cx(0, 1)\n",
    "qc.measure([0, 1], [0, 1])\n",
    "\n",
    "# Execute the circuit using the Sampler primitive\n",
    "print('Executing on real quantum hardware... please wait')\n",
    "sampler = Sampler(mode=backend)\n",
    "transpiled_qc = transpile(qc, backend=backend, optimization_level=1)\n",
    "job = sampler.run([transpiled_qc], shots=1024)\n",
    "result = job.result()\n",
    "pub_result = result[0]\n",
    "counts = pub_result.data.c.get_counts()\n",
    "\n",
    "print(\"Hardware Results:\", counts)\n"
   ]
  }
 ],
 "metadata": {
  "kernelspec": {
   "display_name": "Python 3 (ipykernel)",
   "language": "python",
   "name": "python3"
  },
  "language_info": {
   "codemirror_mode": {
    "name": "ipython",
    "version": 3
   },
   "file_extension": ".py",
   "mimetype": "text/x-python",
   "name": "python",
   "nbconvert_exporter": "python",
   "pygments_lexer": "ipython3",
   "version": "3.10.17"
  }
 },
 "nbformat": 4,
 "nbformat_minor": 5
}
