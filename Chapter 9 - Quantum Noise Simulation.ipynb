{
 "cells": [
  {
   "cell_type": "code",
   "execution_count": 1,
   "id": "79542739",
   "metadata": {},
   "outputs": [
    {
     "name": "stdout",
     "output_type": "stream",
     "text": [
      "Quantum Circuit with Noise:\n",
      "        ┌───┐ ░ ┌─┐\n",
      "     q: ┤ H ├─░─┤M├\n",
      "        └───┘ ░ └╥┘\n",
      "meas: 1/═════════╩═\n",
      "                 0 \n",
      "Noisy Circuit Result: {'0': 510, '1': 490}\n"
     ]
    },
    {
     "data": {
      "image/png": "[encoded data removed]",
      "text/plain": [
       "<Figure size 640x480 with 1 Axes>"
      ]
     },
     "metadata": {},
     "output_type": "display_data"
    }
   ],
   "source": [
    "#-------------------------------------------------------------------------\n",
    "# Quantum Noise Simulation \n",
    "# Chapter 9 in the QUANTUM COMPUTING AND QUANTUM MACHINE LEARNING BOOK\n",
    "#-------------------------------------------------------------------------\n",
    "# Version 1.0\n",
    "# (c) 2025 Jesse Van Griensven, Roydon Fraser, and Jose Rosas \n",
    "# License:  MIT - Citation of this work required\n",
    "#-------------------------------------------------------------------------\n",
    "# Qiskit changes frequently. \n",
    "# We recommend using the latest version from the book code repository at:\n",
    "# https://github.com/pedroer/quantum-computing-for-engineers/blob/main/requirements.txt\n",
    "\n",
    "import numpy as np\n",
    "import matplotlib.pyplot as plt\n",
    "\n",
    "from qiskit import QuantumCircuit, Aer, execute\n",
    "from qiskit.providers.aer.noise import NoiseModel, depolarizing_error\n",
    "from qiskit.visualization import plot_histogram\n",
    "#-------------------------------------------------------------------------\n",
    "\n",
    "# Define a quantum circuit with noise\n",
    "qc = QuantumCircuit(1)\n",
    "qc.h(0)  # Apply Hadamard gate\n",
    "qc.measure_all()\n",
    "\n",
    "# Add noise model\n",
    "noise_model = NoiseModel()\n",
    "noise_model.add_all_qubit_quantum_error(depolarizing_error(0.1, 1), ['h'])\n",
    "\n",
    "# Simulate with noise\n",
    "simulator = Aer.get_backend('aer_simulator')\n",
    "result    = execute(qc, simulator, noise_model=noise_model, shots=1000).result()\n",
    "counts    = result.get_counts()\n",
    "\n",
    "# Display the quantum circuit\n",
    "print(\"Quantum Circuit with Noise:\")\n",
    "print(qc)\n",
    "qc.draw('mpl')\n",
    "\n",
    "# Print and visualize measurement results\n",
    "print(\"Noisy Circuit Result:\", counts)\n",
    "plot_histogram(counts)\n",
    "plt.title(\"Quantum Noise Simulation Results\")\n",
    "plt.show()\n"
   ]
  },
  {
   "cell_type": "code",
   "execution_count": null,
   "id": "93a27bd2",
   "metadata": {},
   "outputs": [],
   "source": []
  }
 ],
 "metadata": {
  "kernelspec": {
   "display_name": "Python 3 (ipykernel)",
   "language": "python",
   "name": "python3"
  },
  "language_info": {
   "codemirror_mode": {
    "name": "ipython",
    "version": 3
   },
   "file_extension": ".py",
   "mimetype": "text/x-python",
   "name": "python",
   "nbconvert_exporter": "python",
   "pygments_lexer": "ipython3",
   "version": "3.10.17"
  }
 },
 "nbformat": 4,
 "nbformat_minor": 5
}
