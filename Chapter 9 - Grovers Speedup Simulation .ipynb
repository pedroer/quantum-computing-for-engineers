{
 "cells": [
  {
   "cell_type": "code",
   "execution_count": 1,
   "id": "e54fe3d7",
   "metadata": {},
   "outputs": [
    {
     "name": "stdout",
     "output_type": "stream",
     "text": [
      "Grover’s Quantum Circuit:\n",
      "        ┌───┐   ┌───┐ ░ ┌─┐   \n",
      "   q_0: ┤ H ├─■─┤ H ├─░─┤M├───\n",
      "        ├───┤ │ ├───┤ ░ └╥┘┌─┐\n",
      "   q_1: ┤ H ├─■─┤ H ├─░──╫─┤M├\n",
      "        └───┘   └───┘ ░  ║ └╥┘\n",
      "meas: 2/═════════════════╩══╩═\n",
      "                         0  1 \n",
      "Quantum Speedup Simulation Result: {'10': 242, '11': 260, '00': 244, '01': 254}\n"
     ]
    },
    {
     "data": {
      "image/png": "[encoded data removed]",
      "text/plain": [
       "<Figure size 640x480 with 1 Axes>"
      ]
     },
     "metadata": {},
     "output_type": "display_data"
    }
   ],
   "source": [
    "#-------------------------------------------------------------------------\n",
    "# Grover’s Speedup Simulation \n",
    "# Chapter 9 in the QUANTUM COMPUTING AND QUANTUM MACHINE LEARNING BOOK\n",
    "#-------------------------------------------------------------------------\n",
    "# Version 1.0\n",
    "# (c) 2025 Jesse Van Griensven, Roydon Fraser, and Jose Rosas \n",
    "# License:  MIT - Citation of this work required\n",
    "#-------------------------------------------------------------------------\n",
    "# Qiskit changes frequently. \n",
    "# We recommend using the latest version from the book code repository at:\n",
    "# https://github.com/pedroer/quantum-computing-for-engineers/blob/main/requirements.txt\n",
    "\n",
    "import numpy as np\n",
    "import matplotlib.pyplot as plt\n",
    "\n",
    "from qiskit import QuantumCircuit, Aer, execute\n",
    "from qiskit.visualization import plot_histogram\n",
    "#-------------------------------------------------------------------------\n",
    "\n",
    "# Quantum search with Grover's algorithm\n",
    "qc = QuantumCircuit(2)\n",
    "\n",
    "# Apply Hadamard to create superposition\n",
    "qc.h([0, 1])  \n",
    "\n",
    "# Phase inversion (Oracle step)\n",
    "qc.cz(0, 1)  \n",
    "\n",
    "# Diffusion operator (Amplification step)\n",
    "qc.h([0, 1])  \n",
    "qc.measure_all()\n",
    "\n",
    "# Display the quantum circuit\n",
    "print(\"Grover’s Quantum Circuit:\")\n",
    "print(qc)\n",
    "qc.draw('mpl')\n",
    "\n",
    "# Simulate the circuit\n",
    "simulator = Aer.get_backend('aer_simulator')\n",
    "result = execute(qc, simulator, shots=1000).result()\n",
    "counts = result.get_counts()\n",
    "\n",
    "# Print and visualize measurement results\n",
    "print(\"Quantum Speedup Simulation Result:\", counts)\n",
    "plot_histogram(counts)\n",
    "plt.title(\"Grover's Algorithm Measurement Results\")\n",
    "plt.show()\n"
   ]
  },
  {
   "cell_type": "code",
   "execution_count": null,
   "id": "2f14da86",
   "metadata": {},
   "outputs": [],
   "source": []
  }
 ],
 "metadata": {
  "kernelspec": {
   "display_name": "Python 3 (ipykernel)",
   "language": "python",
   "name": "python3"
  },
  "language_info": {
   "codemirror_mode": {
    "name": "ipython",
    "version": 3
   },
   "file_extension": ".py",
   "mimetype": "text/x-python",
   "name": "python",
   "nbconvert_exporter": "python",
   "pygments_lexer": "ipython3",
   "version": "3.10.17"
  }
 },
 "nbformat": 4,
 "nbformat_minor": 5
}
