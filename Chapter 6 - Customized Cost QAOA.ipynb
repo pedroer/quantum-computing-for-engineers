{
 "cells": [
  {
   "cell_type": "code",
   "execution_count": 1,
   "id": "b1e9bf8a",
   "metadata": {},
   "outputs": [
    {
     "name": "stdout",
     "output_type": "stream",
     "text": [
      "Optimal Parameters: [3.21079440e-05 1.57075346e+00]\n"
     ]
    }
   ],
   "source": [
    "#-------------------------------------------------------------------------\n",
    "# Customized Cost QAOA\n",
    "# Chapter 6 in the QUANTUM COMPUTING AND QUANTUM MACHINE LEARNING BOOK\n",
    "#-------------------------------------------------------------------------\n",
    "# Version 1.0\n",
    "# (c) 2025 Jesse Van Griensven, Roydon Fraser, and Jose Rosas \n",
    "# Licence:  MIT - Citation required\n",
    "#-------------------------------------------------------------------------\n",
    "# Qiskit changes frequently. \n",
    "# We recommend using the latest version from the book code repository at:\n",
    "# https://github.com/pedroer/quantum-computing-for-engineers/blob/main/requirements.txt\n",
    "from scipy.optimize import minimize\n",
    "import numpy as np\n",
    "\n",
    "# Example cost function for QAOA\n",
    "def qaoa_cost(params):\n",
    "    gamma, beta = params\n",
    "    # Placeholder for QAOA simulation; replace with actual quantum computation\n",
    "    return np.sin(gamma) ** 2 + np.cos(beta) ** 2\n",
    "\n",
    "# Optimize parameters\n",
    "initial_guess = [np.pi / 4., np.pi / 6.]\n",
    "result = minimize(qaoa_cost, initial_guess, method=\"COBYLA\")\n",
    "print(\"Optimal Parameters:\", result.x)\n"
   ]
  },
  {
   "cell_type": "code",
   "execution_count": null,
   "id": "1e0168b2",
   "metadata": {},
   "outputs": [],
   "source": []
  }
 ],
 "metadata": {
  "kernelspec": {
   "display_name": "Python 3 (ipykernel)",
   "language": "python",
   "name": "python3"
  },
  "language_info": {
   "codemirror_mode": {
    "name": "ipython",
    "version": 3
   },
   "file_extension": ".py",
   "mimetype": "text/x-python",
   "name": "python",
   "nbconvert_exporter": "python",
   "pygments_lexer": "ipython3",
   "version": "3.10.17"
  }
 },
 "nbformat": 4,
 "nbformat_minor": 5
}
