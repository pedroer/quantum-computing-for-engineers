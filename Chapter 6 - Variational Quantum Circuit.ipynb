{
 "cells": [
  {
   "cell_type": "code",
   "execution_count": 1,
   "id": "dac4f003",
   "metadata": {},
   "outputs": [
    {
     "name": "stdout",
     "output_type": "stream",
     "text": [
      "     ┌───────────┐     ┌───────────┐     ┌───────────┐     \n",
      "q_0: ┤ Rx(θ_0_0) ├──■──┤ Rx(θ_1_0) ├──■──┤ Rx(θ_2_0) ├──■──\n",
      "     ├───────────┤┌─┴─┐├───────────┤┌─┴─┐├───────────┤┌─┴─┐\n",
      "q_1: ┤ Rx(θ_0_1) ├┤ X ├┤ Rx(θ_1_1) ├┤ X ├┤ Rx(θ_2_1) ├┤ X ├\n",
      "     └───────────┘└───┘└───────────┘└───┘└───────────┘└───┘\n"
     ]
    },
    {
     "data": {
      "image/png": "[encoded data removed]",
      "text/plain": [
       "<Figure size 621.739x200.667 with 1 Axes>"
      ]
     },
     "metadata": {},
     "output_type": "display_data"
    }
   ],
   "source": [
    "#-------------------------------------------------------------------------\n",
    "# Variational Quantum Circuit\n",
    "# Chapter 6 in the QUANTUM COMPUTING AND QUANTUM MACHINE LEARNING BOOK\n",
    "# Code demonstrates applying the phase separation step for two qubits\n",
    "#-------------------------------------------------------------------------\n",
    "# Version 1.0\n",
    "# (c) 2025 Jesse Van Griensven, Roydon Fraser, and Jose Rosas \n",
    "# Licence:  MIT - Citation of this work is required\n",
    "#-------------------------------------------------------------------------\n",
    "# Qiskit changes frequently. \n",
    "# We recommend using the latest version from the book code repository at:\n",
    "# https://github.com/pedroer/quantum-computing-for-engineers/blob/main/requirements.txt\n",
    "import warnings\n",
    "warnings.filterwarnings('ignore')\n",
    "\n",
    "import numpy as np\n",
    "from qiskit import QuantumCircuit\n",
    "from qiskit.circuit import Parameter\n",
    "from qiskit.visualization import circuit_drawer\n",
    "#-------------------------------------------------------------------------\n",
    "\n",
    "def layered_pqc(num_qubits, num_layers):\n",
    "    qc = QuantumCircuit(num_qubits)\n",
    "    for layer in range(num_layers):\n",
    "        for qubit in range(num_qubits):\n",
    "            # Create a unique parameter for each layer and qubit\n",
    "            theta = Parameter(f'θ_{layer}_{qubit}')\n",
    "            qc.rx(theta, qubit)\n",
    "        for i in range(num_qubits - 1):\n",
    "            qc.cx(i, i + 1)  # Entangling gate\n",
    "    return qc\n",
    "#-------------------------------------------------------------------------\n",
    "\n",
    "# Example of a layered PQC with 2 qubits and 3 layers\n",
    "qc_example = layered_pqc(2, 3)\n",
    "print(qc_example)\n",
    "\n",
    "# Display the complete circuit\n",
    "display(circuit_drawer(qc_example, output='mpl', style=\"iqp\"))"
   ]
  },
  {
   "cell_type": "code",
   "execution_count": null,
   "id": "4d3c05e7",
   "metadata": {},
   "outputs": [],
   "source": []
  }
 ],
 "metadata": {
  "kernelspec": {
   "display_name": "Python 3 (ipykernel)",
   "language": "python",
   "name": "python3"
  },
  "language_info": {
   "codemirror_mode": {
    "name": "ipython",
    "version": 3
   },
   "file_extension": ".py",
   "mimetype": "text/x-python",
   "name": "python",
   "nbconvert_exporter": "python",
   "pygments_lexer": "ipython3",
   "version": "3.10.17"
  }
 },
 "nbformat": 4,
 "nbformat_minor": 5
}
