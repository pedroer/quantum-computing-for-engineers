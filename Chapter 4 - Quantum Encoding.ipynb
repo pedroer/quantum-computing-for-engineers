{
 "cells": [
  {
   "cell_type": "code",
   "execution_count": 1,
   "id": "2a68e94d",
   "metadata": {},
   "outputs": [
    {
     "name": "stdout",
     "output_type": "stream",
     "text": [
      "Classical Encoding of 6: 110\n"
     ]
    },
    {
     "data": {
      "image/png": "[encoded data removed]",
      "text/plain": [
       "<Figure size 580.387x367.889 with 1 Axes>"
      ]
     },
     "execution_count": 1,
     "metadata": {},
     "output_type": "execute_result"
    }
   ],
   "source": [
    "#-------------------------------------------------------------------------\n",
    "# Quantum Encoding\n",
    "# Chapter 4 in the QUANTUM COMPUTING AND QUANTUM MACHINE LEARNING BOOK\n",
    "#-------------------------------------------------------------------------\n",
    "# Version 1.0\n",
    "# (c) 2025 Jesse Van Griensven, Roydon Fraser, and Jose Rosas \n",
    "# License:  MIT - Citation of this work required\n",
    "#-------------------------------------------------------------------------\n",
    "import warnings\n",
    "warnings.filterwarnings('ignore')\n",
    "\n",
    "# Quantum Encoding - Import Qiskit Lybraries\n",
    "from qiskit import QuantumCircuit, Aer, transpile, assemble\n",
    "from qiskit.visualization import plot_histogram\n",
    "from qiskit.visualization import circuit_drawer\n",
    "#-------------------------------------------------------------------------\n",
    "def classical_encode(number):\n",
    "# Classical Encoding\n",
    "    return bin(number)[2:]\n",
    "#-------------------------------------------------------------------------\n",
    "def quantum_encode(number):\n",
    "    binary_representation = bin(number)[2:]\n",
    "    num_qubits = len(binary_representation)\n",
    "    \n",
    "    # Create a quantum circuit\n",
    "    qc = QuantumCircuit(num_qubits)\n",
    "    \n",
    "    # Apply X gates to encode the binary number\n",
    "    for i, bit in enumerate(reversed(binary_representation)):\n",
    "        if bit == '1':\n",
    "            qc.x(i)\n",
    "    \n",
    "    qc.measure_all()\n",
    "    return qc\n",
    "#-------------------------------------------------------------------------\n",
    "\n",
    "# Example usage\n",
    "print(\"Classical Encoding of 6:\", classical_encode(6))\n",
    "\n",
    "# Quantum Encoding Circuit for number 6\n",
    "qc = quantum_encode(6)\n",
    "qc.draw('mpl')\n"
   ]
  },
  {
   "cell_type": "code",
   "execution_count": null,
   "id": "c9d7f8cf",
   "metadata": {},
   "outputs": [],
   "source": []
  }
 ],
 "metadata": {
  "kernelspec": {
   "display_name": "Python 3 (ipykernel)",
   "language": "python",
   "name": "python3"
  },
  "language_info": {
   "codemirror_mode": {
    "name": "ipython",
    "version": 3
   },
   "file_extension": ".py",
   "mimetype": "text/x-python",
   "name": "python",
   "nbconvert_exporter": "python",
   "pygments_lexer": "ipython3",
   "version": "3.10.17"
  }
 },
 "nbformat": 4,
 "nbformat_minor": 5
}
