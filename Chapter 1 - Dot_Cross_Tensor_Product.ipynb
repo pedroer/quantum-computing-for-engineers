{
 "cells": [
  {
   "cell_type": "code",
   "execution_count": 2,
   "id": "0f2df16a",
   "metadata": {},
   "outputs": [
    {
     "name": "stdout",
     "output_type": "stream",
     "text": [
      "Dot Product: 12\n",
      "Cross Product: [ 27   6 -13]\n",
      "Tensor Product:\n"
     ]
    },
    {
     "data": {
      "text/latex": [
       "$\\displaystyle \\left[\\begin{matrix}4 & -5 & 6\\\\8 & -10 & 12\\\\12 & -15 & 18\\end{matrix}\\right]$"
      ],
      "text/plain": [
       "Matrix([\n",
       "[ 4,  -5,  6],\n",
       "[ 8, -10, 12],\n",
       "[12, -15, 18]])"
      ]
     },
     "metadata": {},
     "output_type": "display_data"
    }
   ],
   "source": [
    "#----------------------------------------------------------------------------\n",
    "# Matrix Dot, Cross, and Tensor Products\n",
    "# Chapter 1 in the QUANTUM COMPUTING AND QUANTUM MACHINE LEARNING BOOK\n",
    "#----------------------------------------------------------------------------\n",
    "# Version 1.0\n",
    "# (c) 2025 Jesse Van Griensven, Roydon Fraser, and Jose Rosas \n",
    "# Licence:  MIT - Citation required\n",
    "#----------------------------------------------------------------------------\n",
    "# Qiskit changes frequently. \n",
    "# We recommend using the latest version from the book code repository at:\n",
    "# https://github.com/pedroer/quantum-computing-for-engineers/blob/main/requirements.txt\n",
    "import numpy as np\n",
    "\n",
    "#----------------------------------------------------------------------------\n",
    "def sprint(Matrix, decimals=4):\n",
    "    \"\"\" Prints a numpy Matrix in a nice format with sympy and specified precision \"\"\"\n",
    "    # Define the SYMPY routines we need\n",
    "    import sympy as sp\n",
    "    # The input Matrix can be a Numpy or a Sympy Matrix\n",
    "    SMatrix = sp.Matrix(Matrix)\n",
    "    # Apply the rounding to each element\n",
    "    SMatrix = SMatrix.applyfunc(lambda x: round(float(x), decimals) if isinstance(x, (float, int, sp.Float)) else x)\n",
    "    display(SMatrix)\n",
    "    return\n",
    "#----------------------------------------------------------------------------\n",
    "\n",
    "u = np.array([1, 2, 3])\n",
    "v = np.array([4, -5, 6])\n",
    "\n",
    "# Compute dot product\n",
    "dot_product = np.dot(u, v)\n",
    "print(\"Dot Product:\", dot_product)\n",
    "\n",
    "# Compute cross product\n",
    "cross_product = np.cross(u, v)\n",
    "print(\"Cross Product:\", cross_product)\n",
    "\n",
    "# Compute tensor product\n",
    "tensor_product = np.tensordot(u, v, axes=0)\n",
    "print(\"Tensor Product:\")\n",
    "sprint(tensor_product)\n"
   ]
  },
  {
   "cell_type": "code",
   "execution_count": null,
   "id": "f58605d9",
   "metadata": {},
   "outputs": [],
   "source": []
  },
  {
   "cell_type": "code",
   "execution_count": null,
   "id": "a79dae13-eac3-4066-8d32-1d9a1c33728c",
   "metadata": {},
   "outputs": [],
   "source": []
  },
  {
   "cell_type": "code",
   "execution_count": null,
   "id": "578f751b-172e-4afd-81b1-94c0f0da82bf",
   "metadata": {},
   "outputs": [],
   "source": []
  }
 ],
 "metadata": {
  "kernelspec": {
   "display_name": "Python 3 (ipykernel)",
   "language": "python",
   "name": "python3"
  },
  "language_info": {
   "codemirror_mode": {
    "name": "ipython",
    "version": 3
   },
   "file_extension": ".py",
   "mimetype": "text/x-python",
   "name": "python",
   "nbconvert_exporter": "python",
   "pygments_lexer": "ipython3",
   "version": "3.10.17"
  }
 },
 "nbformat": 4,
 "nbformat_minor": 5
}
