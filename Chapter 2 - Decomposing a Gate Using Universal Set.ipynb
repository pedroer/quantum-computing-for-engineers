{
 "cells": [
  {
   "cell_type": "code",
   "execution_count": 1,
   "id": "16a72551",
   "metadata": {},
   "outputs": [
    {
     "name": "stdout",
     "output_type": "stream",
     "text": [
      "Quantum Circuit:\n",
      "   ┌─────────┐┌───┐┌───┐\n",
      "q: ┤ Rz(π/4) ├┤ H ├┤ T ├\n",
      "   └─────────┘└───┘└───┘\n"
     ]
    },
    {
     "data": {
      "image/png": "[encoded data removed]",
      "text/plain": [
       "<Figure size 705.35x234.111 with 1 Axes>"
      ]
     },
     "execution_count": 1,
     "metadata": {},
     "output_type": "execute_result"
    }
   ],
   "source": [
    "#-------------------------------------------------------------------------\n",
    "# Decomposing a Gate Using Universal Set\n",
    "# Chapter 2 in the QUANTUM COMPUTING AND QUANTUM MACHINE LEARNING BOOK\n",
    "#-------------------------------------------------------------------------\n",
    "# Version 1.0\n",
    "# (c) 2025 Jesse Van Griensven, Roydon Fraser, and Jose Rosas \n",
    "# Licence:  MIT - Citation of this work required\n",
    "#-------------------------------------------------------------------------\n",
    "import warnings\n",
    "warnings.filterwarnings('ignore')\n",
    "\n",
    "import numpy as np\n",
    "from qiskit import QuantumCircuit\n",
    "from qiskit.visualization import circuit_drawer\n",
    "#-------------------------------------------------------------------------\n",
    "\n",
    "qc = QuantumCircuit(1)\n",
    "\n",
    "# Apply R_z using a universal gate set\n",
    "qc.rz(np.pi/4., 0)  \n",
    "\n",
    "# Hadamard gate\n",
    "qc.h(0)  \n",
    "\n",
    "# T gate\n",
    "qc.t(0)  \n",
    "\n",
    "# Visualize the circuit\n",
    "print(\"Quantum Circuit:\")\n",
    "print(qc.draw())\n",
    "#display(circuit_drawer(qc, output='mpl', style=\"iqp\"))\n",
    "qc.draw(output='mpl', style={'backgroundcolor': '#FFFFFF', 'dpi': 900}, scale=2)"
   ]
  },
  {
   "cell_type": "code",
   "execution_count": null,
   "id": "d70dd17a",
   "metadata": {},
   "outputs": [],
   "source": []
  }
 ],
 "metadata": {
  "kernelspec": {
   "display_name": "Python 3 (ipykernel)",
   "language": "python",
   "name": "python3"
  },
  "language_info": {
   "codemirror_mode": {
    "name": "ipython",
    "version": 3
   },
   "file_extension": ".py",
   "mimetype": "text/x-python",
   "name": "python",
   "nbconvert_exporter": "python",
   "pygments_lexer": "ipython3",
   "version": "3.10.17"
  }
 },
 "nbformat": 4,
 "nbformat_minor": 5
}
