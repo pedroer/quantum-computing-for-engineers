{
 "cells": [
  {
   "cell_type": "code",
   "execution_count": 1,
   "id": "3bde84dc",
   "metadata": {},
   "outputs": [
    {
     "name": "stdout",
     "output_type": "stream",
     "text": [
      "Matrix A:\n"
     ]
    },
    {
     "data": {
      "text/latex": [
       "$\\displaystyle \\left[\\begin{matrix}1 & 2\\\\3 & 4\\end{matrix}\\right]$"
      ],
      "text/plain": [
       "Matrix([\n",
       "[1, 2],\n",
       "[3, 4]])"
      ]
     },
     "metadata": {},
     "output_type": "display_data"
    },
    {
     "name": "stdout",
     "output_type": "stream",
     "text": [
      "\n",
      "Matrix B:\n"
     ]
    },
    {
     "data": {
      "text/latex": [
       "$\\displaystyle \\left[\\begin{matrix}5 & 6\\\\7 & 8\\end{matrix}\\right]$"
      ],
      "text/plain": [
       "Matrix([\n",
       "[5, 6],\n",
       "[7, 8]])"
      ]
     },
     "metadata": {},
     "output_type": "display_data"
    },
    {
     "name": "stdout",
     "output_type": "stream",
     "text": [
      "\n",
      "Transpose of A:\n"
     ]
    },
    {
     "data": {
      "text/latex": [
       "$\\displaystyle \\left[\\begin{matrix}1 & 3\\\\2 & 4\\end{matrix}\\right]$"
      ],
      "text/plain": [
       "Matrix([\n",
       "[1, 3],\n",
       "[2, 4]])"
      ]
     },
     "metadata": {},
     "output_type": "display_data"
    },
    {
     "name": "stdout",
     "output_type": "stream",
     "text": [
      "\n",
      "Transpose of B:\n"
     ]
    },
    {
     "data": {
      "text/latex": [
       "$\\displaystyle \\left[\\begin{matrix}5 & 7\\\\6 & 8\\end{matrix}\\right]$"
      ],
      "text/plain": [
       "Matrix([\n",
       "[5, 7],\n",
       "[6, 8]])"
      ]
     },
     "metadata": {},
     "output_type": "display_data"
    },
    {
     "name": "stdout",
     "output_type": "stream",
     "text": [
      "\n"
     ]
    }
   ],
   "source": [
    "#----------------------------------------------------------------------------\n",
    "# Matrix Transpose\n",
    "# Chapter 1 in the QUANTUM COMPUTING AND QUANTUM MACHINE LEARNING BOOK\n",
    "#----------------------------------------------------------------------------\n",
    "# Version 1.0\n",
    "# (c) 2025 Jesse Van Griensven, Roydon Fraser, and Jose Rosas \n",
    "# Licence:  MIT - Citation required\n",
    "#----------------------------------------------------------------------------\n",
    "import numpy as np\n",
    "\n",
    "# Define the SYMPY routines we need\n",
    "import sympy as sp\n",
    "#-------------------------------------------------------------\n",
    "def sprint(Matrix):\n",
    "    \"\"\" Prints a numpy Matrix in a nice format with sympy \"\"\"\n",
    "    # The input Matrix can be a Numpy or a Sympy Matrix\n",
    "    SMatrix = sp.Matrix(Matrix)\n",
    "    display( SMatrix )\n",
    "    return\n",
    "#-------------------------------------------------------------\n",
    "\n",
    "# Define Matrices A and B\n",
    "A = np.array([[1, 2], [3, 4]])\n",
    "B = np.array([[5, 6], [7, 8]])\n",
    "\n",
    "# Execute the Transpose \n",
    "transpose_A = A.T\n",
    "transpose_B = B.T\n",
    "\n",
    "# Print Results\n",
    "print(\"Matrix A:\")\n",
    "sprint(A)\n",
    "print()\n",
    "\n",
    "print(\"Matrix B:\")\n",
    "sprint(B)\n",
    "print()\n",
    "\n",
    "print(\"Transpose of A:\")\n",
    "sprint(transpose_A)\n",
    "print()\n",
    "\n",
    "\n",
    "print(\"Transpose of B:\")\n",
    "sprint(transpose_B)\n",
    "print()"
   ]
  },
  {
   "cell_type": "code",
   "execution_count": null,
   "id": "46e78969",
   "metadata": {},
   "outputs": [],
   "source": []
  }
 ],
 "metadata": {
  "kernelspec": {
   "display_name": "Python 3 (ipykernel)",
   "language": "python",
   "name": "python3"
  },
  "language_info": {
   "codemirror_mode": {
    "name": "ipython",
    "version": 3
   },
   "file_extension": ".py",
   "mimetype": "text/x-python",
   "name": "python",
   "nbconvert_exporter": "python",
   "pygments_lexer": "ipython3",
   "version": "3.10.17"
  }
 },
 "nbformat": 4,
 "nbformat_minor": 5
}
