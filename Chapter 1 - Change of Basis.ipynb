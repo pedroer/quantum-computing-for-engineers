{
 "cells": [
  {
   "cell_type": "code",
   "execution_count": 3,
   "id": "0a0a85b2",
   "metadata": {},
   "outputs": [
    {
     "name": "stdout",
     "output_type": "stream",
     "text": [
      "Coordinates of v in the new basis B: [3. 1.]\n",
      "\n",
      "Change of basis matrix from B' to B:\n"
     ]
    },
    {
     "data": {
      "text/latex": [
       "$\\displaystyle \\left[\\begin{matrix}1.0 & -1.0\\\\1.0 & 1.0\\end{matrix}\\right]$"
      ],
      "text/plain": [
       "Matrix([\n",
       "[1.0, -1.0],\n",
       "[1.0,  1.0]])"
      ]
     },
     "metadata": {},
     "output_type": "display_data"
    },
    {
     "name": "stdout",
     "output_type": "stream",
     "text": [
      "\n",
      "Vector in new basis B': [2. 4.]\n"
     ]
    }
   ],
   "source": [
    "#-------------------------------------------------------------------------------\n",
    "# Change of Basis\n",
    "# Chapter 1 in the QUANTUM COMPUTING AND QUANTUM MACHINE lEARNING BOOK\n",
    "#-------------------------------------------------------------------------------\n",
    "# Version 1.0\n",
    "# (c) 2025 Jesse Van Griensven, Roydon Fraser, and Jose Rosas 2025\n",
    "# Licence:  MIT - Citation required\n",
    "#-------------------------------------------------------------------------------\n",
    "import numpy as np\n",
    "import sympy as sp\n",
    "#-------------------------------------------------------------\n",
    "def sprint(Matrix):\n",
    "    \"\"\" Prints a numpy Matrix in a nice format with sympy \"\"\"\n",
    "    # The input Matrix can be a Numpy or a Sympy Matrix\n",
    "    SMatrix = sp.Matrix(Matrix)\n",
    "    display( SMatrix )\n",
    "    return\n",
    "#-------------------------------------------------------------\n",
    "\n",
    "\n",
    "# Define the original basis vectors\n",
    "b1 = np.array([1, 1])\n",
    "b2 = np.array([-1, 1])\n",
    "B = np.column_stack((b1, b2))  # Basis matrix\n",
    "\n",
    "# Define the vector v\n",
    "v = np.array([2, 4])\n",
    "\n",
    "# Solve for the coordinates of v in basis B\n",
    "coordinates = np.linalg.solve(B, v)\n",
    "print(\"Coordinates of v in the new basis B:\", coordinates)\n",
    "print()\n",
    "\n",
    "# Define a new basis B'\n",
    "b1_new = np.array([1, 0])\n",
    "b2_new = np.array([0, 1])\n",
    "B_new = np.column_stack((b1_new, b2_new))  # New basis matrix\n",
    "\n",
    "# Change of basis matrix from B to B'\n",
    "P = np.linalg.solve(B_new, B)\n",
    "print(\"Change of basis matrix from B' to B:\")\n",
    "sprint(P)\n",
    "print()\n",
    "\n",
    "# Verify the transformation\n",
    "v_new_basis = np.dot(P, coordinates)\n",
    "print(\"Vector in new basis B':\", v_new_basis)\n"
   ]
  },
  {
   "cell_type": "code",
   "execution_count": null,
   "id": "38e8434d",
   "metadata": {},
   "outputs": [],
   "source": []
  }
 ],
 "metadata": {
  "kernelspec": {
   "display_name": "Python 3 (ipykernel)",
   "language": "python",
   "name": "python3"
  },
  "language_info": {
   "codemirror_mode": {
    "name": "ipython",
    "version": 3
   },
   "file_extension": ".py",
   "mimetype": "text/x-python",
   "name": "python",
   "nbconvert_exporter": "python",
   "pygments_lexer": "ipython3",
   "version": "3.10.17"
  }
 },
 "nbformat": 4,
 "nbformat_minor": 5
}
