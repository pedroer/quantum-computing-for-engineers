{
 "cells": [
  {
   "cell_type": "code",
   "execution_count": 2,
   "id": "ef00cd1e",
   "metadata": {},
   "outputs": [
    {
     "name": "stdout",
     "output_type": "stream",
     "text": [
      "Phase Shift Gate (R_phi):\n"
     ]
    },
    {
     "data": {
      "text/latex": [
       "$\\displaystyle \\left[\\begin{matrix}1.0 & 0.0\\\\0.0 & 0.7071 + 0.7071 i\\end{matrix}\\right]$"
      ],
      "text/plain": [
       "Matrix([\n",
       "[1.0,               0.0],\n",
       "[0.0, 0.7071 + 0.7071*I]])"
      ]
     },
     "metadata": {},
     "output_type": "display_data"
    },
    {
     "name": "stdout",
     "output_type": "stream",
     "text": [
      "\n",
      "Original Qubit State |ψ>:\n"
     ]
    },
    {
     "data": {
      "text/latex": [
       "$\\displaystyle \\left[\\begin{matrix}1.0\\\\1.0\\end{matrix}\\right]$"
      ],
      "text/plain": [
       "Matrix([\n",
       "[1.0],\n",
       "[1.0]])"
      ]
     },
     "metadata": {},
     "output_type": "display_data"
    },
    {
     "name": "stdout",
     "output_type": "stream",
     "text": [
      "\n",
      "New Qubit State after applying R_phi:\n"
     ]
    },
    {
     "data": {
      "text/latex": [
       "$\\displaystyle \\left[\\begin{matrix}1.0\\\\0.7071 + 0.7071 i\\end{matrix}\\right]$"
      ],
      "text/plain": [
       "Matrix([\n",
       "[              1.0],\n",
       "[0.7071 + 0.7071*I]])"
      ]
     },
     "metadata": {},
     "output_type": "display_data"
    }
   ],
   "source": [
    "#-------------------------------------------------------------------------\n",
    "# Phase Shift gate R_phi\n",
    "# Chapter 2 in the QUANTUM COMPUTING AND QUANTUM MACHINE LEARNING BOOK\n",
    "#-------------------------------------------------------------------------\n",
    "# Version 1.0\n",
    "# (c) 2025 Jesse Van Griensven, Roydon Fraser, and Jose Rosas \n",
    "# Licence:  MIT - Citation of this work required\n",
    "#-------------------------------------------------------------------------\n",
    "import numpy as np\n",
    "\n",
    "#----------------------------------------------------------------------------\n",
    "def sprint(Matrix, decimals=4):\n",
    "    \"\"\" Prints a Matrix with real and imaginary parts rounded to 'decimals' \"\"\"\n",
    "    import sympy as sp\n",
    "    # Convert to Sympy Matrix if it's not already\n",
    "    SMatrix = sp.Matrix(Matrix)\n",
    "\n",
    "    def round_complex(x):\n",
    "        \"\"\"Round real and imaginary parts of x to the given number of decimals.\"\"\"\n",
    "        val = complex(x)  # handle any real or complex Sympy expression\n",
    "        r = round(val.real, decimals)\n",
    "        i = round(val.imag, decimals)\n",
    "\n",
    "        # If imaginary part is negligible, treat as purely real\n",
    "        if abs(i) < 10**(-decimals):\n",
    "            return sp.Float(r)\n",
    "        else:\n",
    "            return sp.Float(r) + sp.Float(i)*sp.I\n",
    "\n",
    "    # Apply rounding to each element in one pass\n",
    "    RoundedMatrix = SMatrix.applyfunc(round_complex)\n",
    "\n",
    "    # Display the rounded Sympy Matrix\n",
    "    display(RoundedMatrix)\n",
    "    \n",
    "    return\n",
    "#----------------------------------------------------------------------------\n",
    "\n",
    "def phase_shift_gate(phi):\n",
    "    # Function to create the Phase Shift gate R_phi\n",
    "    \"\"\"Returns the matrix representation of the Phase Shift Gate R_phi.\"\"\"\n",
    "    return np.array([[1, 0],\n",
    "                     [0, np.exp(1j * phi)]])\n",
    "#----------------------------------------------------------------------------\n",
    "\n",
    "# Define a qubit state |ψ> = α|0> + β|1>\n",
    "qubit_state = np.array([[1],  # Amplitude of |0>\n",
    "                        [1]]) # Amplitude of |1>\n",
    "\n",
    "# Define the phase angle (in radians)\n",
    "phi = np.pi / 4  # 45 degrees\n",
    "\n",
    "# Create the phase shift gate R_phi\n",
    "R_phi = phase_shift_gate(phi)\n",
    "\n",
    "# Apply the phase shift gate to the qubit state\n",
    "new_state = np.dot(R_phi, qubit_state)\n",
    "\n",
    "# Output the results\n",
    "print(\"Phase Shift Gate (R_phi):\")\n",
    "sprint(R_phi)\n",
    "      \n",
    "print(\"\\nOriginal Qubit State |ψ>:\")\n",
    "sprint(qubit_state)\n",
    "      \n",
    "print(\"\\nNew Qubit State after applying R_phi:\")\n",
    "sprint(new_state)\n"
   ]
  },
  {
   "cell_type": "code",
   "execution_count": null,
   "id": "71e8acf9",
   "metadata": {},
   "outputs": [],
   "source": []
  }
 ],
 "metadata": {
  "kernelspec": {
   "display_name": "Python 3 (ipykernel)",
   "language": "python",
   "name": "python3"
  },
  "language_info": {
   "codemirror_mode": {
    "name": "ipython",
    "version": 3
   },
   "file_extension": ".py",
   "mimetype": "text/x-python",
   "name": "python",
   "nbconvert_exporter": "python",
   "pygments_lexer": "ipython3",
   "version": "3.10.17"
  }
 },
 "nbformat": 4,
 "nbformat_minor": 5
}
