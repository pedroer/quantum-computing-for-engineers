{
 "cells": [
  {
   "cell_type": "code",
   "execution_count": 1,
   "id": "c5159c5f",
   "metadata": {},
   "outputs": [
    {
     "name": "stdout",
     "output_type": "stream",
     "text": [
      "Hamiltonian Representation:\n",
      "-2.0 * ZI\n",
      "- 3.0 * IZ\n",
      "+ 1.0 * ZZ\n",
      "+ 5.0 * II\n"
     ]
    },
    {
     "name": "stderr",
     "output_type": "stream",
     "text": [
      "/var/folders/z3/sk2c0q6j5jqfyd9r8pm2_vrr0000gp/T/ipykernel_1083/2650245802.py:9: DeprecationWarning: The ``qiskit.opflow`` module is deprecated as of qiskit-terra 0.24.0. It will be removed no earlier than 3 months after the release date. For code migration guidelines, visit https://qisk.it/opflow_migration.\n",
      "  from qiskit.opflow import Z, I\n"
     ]
    }
   ],
   "source": [
    "#-------------------------------------------------------------------------\n",
    "# Hamiltonian Problem Representation\n",
    "# Chapter 2 in the QUANTUM COMPUTING AND QUANTUM MACHINE LEARNING BOOK\n",
    "#-------------------------------------------------------------------------\n",
    "# Version 1.0\n",
    "# (c) 2025 Jesse Van Griensven, Roydon Fraser, and Jose Rosas \n",
    "# Licence:  MIT - Citation required\n",
    "#-------------------------------------------------------------------------\n",
    "from qiskit.opflow import Z, I\n",
    "# Hamiltonian: H = -2 * Z ^ I - 3 * I ^ Z + (Z ^ Z) + 5 * (I ^ I)\n",
    "# Z ^ I: Pauli ZZ acts on qubit 0, and identity II acts on qubit 1.\n",
    "# I ^ Z: Identity II acts on qubit 0, and Pauli ZZ acts on qubit 1.\n",
    "# Z ^ Z: Pauli ZZ acts on both qubits.\n",
    "# I ^ I: Identity acts on both qubits.\n",
    "# \"^\" is the operator for tensor product\n",
    "\n",
    "# Define the Hamiltonian with consistent qubit alignment\n",
    "H = ( -2 * (Z ^ I) ) + ( -3 * (I ^ Z) ) + (Z ^ Z) + ( 5 * (I ^ I) )\n",
    "\n",
    "print(\"Hamiltonian Representation:\")\n",
    "print(H)\n"
   ]
  },
  {
   "cell_type": "code",
   "execution_count": null,
   "id": "49bc61d0",
   "metadata": {},
   "outputs": [],
   "source": []
  }
 ],
 "metadata": {
  "kernelspec": {
   "display_name": "Python 3 (ipykernel)",
   "language": "python",
   "name": "python3"
  },
  "language_info": {
   "codemirror_mode": {
    "name": "ipython",
    "version": 3
   },
   "file_extension": ".py",
   "mimetype": "text/x-python",
   "name": "python",
   "nbconvert_exporter": "python",
   "pygments_lexer": "ipython3",
   "version": "3.10.17"
  }
 },
 "nbformat": 4,
 "nbformat_minor": 5
}
