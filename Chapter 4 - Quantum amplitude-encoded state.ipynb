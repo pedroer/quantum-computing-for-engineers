{
 "cells": [
  {
   "cell_type": "code",
   "execution_count": 1,
   "id": "5b21787a",
   "metadata": {},
   "outputs": [
    {
     "name": "stdout",
     "output_type": "stream",
     "text": [
      "Quantum Circuit for Angle Encoding:\n",
      "   ┌─────────┐\n",
      "q: ┤ Ry(π/4) ├\n",
      "   └─────────┘\n"
     ]
    },
    {
     "data": {
      "image/png": "[encoded data removed]",
      "text/plain": [
       "<Figure size 185.453x117.056 with 1 Axes>"
      ]
     },
     "metadata": {},
     "output_type": "display_data"
    }
   ],
   "source": [
    "#-------------------------------------------------------------------------\n",
    "# Quantum Amplitude-Encoded State\n",
    "# Chapter 4 in the QUANTUM COMPUTING AND QUANTUM MACHINE LEARNING BOOK\n",
    "#-------------------------------------------------------------------------\n",
    "# Version 1.0\n",
    "# (c) 2025 Jesse Van Griensven, Roydon Fraser, and Jose Rosas \n",
    "# License:  MIT - Citation of this work required\n",
    "#-------------------------------------------------------------------------\n",
    "import warnings\n",
    "warnings.filterwarnings('ignore')\n",
    "\n",
    "from qiskit import QuantumCircuit\n",
    "from qiskit.visualization import circuit_drawer\n",
    "import numpy as np\n",
    "#-------------------------------------------------------------------------\n",
    "\n",
    "# Create a quantum circuit\n",
    "qc = QuantumCircuit(1)\n",
    "\n",
    "# Encode data using an Ry rotation gate\n",
    "data_point = np.pi / 4\n",
    "qc.ry(data_point, 0)\n",
    "\n",
    "print(\"Quantum Circuit for Angle Encoding:\")\n",
    "print(qc)\n",
    "\n",
    "# Draw the circuit\n",
    "display(circuit_drawer(qc, output='mpl', style=\"iqp\"))\n"
   ]
  },
  {
   "cell_type": "code",
   "execution_count": null,
   "id": "ca9c5356",
   "metadata": {},
   "outputs": [],
   "source": []
  }
 ],
 "metadata": {
  "kernelspec": {
   "display_name": "Python 3 (ipykernel)",
   "language": "python",
   "name": "python3"
  },
  "language_info": {
   "codemirror_mode": {
    "name": "ipython",
    "version": 3
   },
   "file_extension": ".py",
   "mimetype": "text/x-python",
   "name": "python",
   "nbconvert_exporter": "python",
   "pygments_lexer": "ipython3",
   "version": "3.10.17"
  }
 },
 "nbformat": 4,
 "nbformat_minor": 5
}
