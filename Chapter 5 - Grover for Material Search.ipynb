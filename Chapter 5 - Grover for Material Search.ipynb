{
 "cells": [
  {
   "cell_type": "code",
   "execution_count": 1,
   "id": "0c60f427",
   "metadata": {},
   "outputs": [
    {
     "name": "stdout",
     "output_type": "stream",
     "text": [
      "Quantum Circuit:\n"
     ]
    },
    {
     "data": {
      "image/png": "[encoded data removed]",
      "text/plain": [
       "<Figure size 663.998x367.889 with 1 Axes>"
      ]
     },
     "metadata": {},
     "output_type": "display_data"
    },
    {
     "name": "stdout",
     "output_type": "stream",
     "text": [
      "Grover's Algorithm Results: {'111': 132, '011': 119, '010': 129, '000': 120, '101': 123, '100': 117, '110': 128, '001': 132}\n"
     ]
    }
   ],
   "source": [
    "#-------------------------------------------------------------------------\n",
    "# Quantum Grover for Material Search\n",
    "# Chapter 5 in the QUANTUM COMPUTING AND QUANTUM MACHINE LEARNING BOOK\n",
    "#-------------------------------------------------------------------------\n",
    "# Version 1.0\n",
    "# (c) 2025 Jesse Van Griensven, Roydon Fraser, and Jose Rosas \n",
    "# Licence:  MIT - Citation required\n",
    "#-------------------------------------------------------------------------\n",
    "import warnings\n",
    "warnings.filterwarnings('ignore')\n",
    "\n",
    "from qiskit import QuantumCircuit, Aer, execute\n",
    "from qiskit.visualization import circuit_drawer\n",
    "from qiskit.circuit.library import GroverOperator\n",
    "#-------------------------------------------------------------------------\n",
    "\n",
    "# Define the oracle\n",
    "n = 3  # Number of qubits\n",
    "oracle = QuantumCircuit(n)\n",
    "\n",
    " # Mark |110⟩ as the solution\n",
    "oracle.z(2) \n",
    "oracle = GroverOperator(oracle)\n",
    "\n",
    "# Initialize the quantum circuit\n",
    "qc = QuantumCircuit(n)\n",
    "\n",
    "# Apply Hadamard gates to place all qc gates in superposition\n",
    "qc.h(range(n))  \n",
    "\n",
    "# Apply the oracle and diffusion operator\n",
    "qc.append(oracle, range(n))\n",
    "\n",
    "# Measure the result\n",
    "qc.measure_all()\n",
    "\n",
    "# Visualize the circuit\n",
    "print(\"Quantum Circuit:\")\n",
    "display(circuit_drawer(qc, output='mpl', style=\"iqp\"))\n",
    "\n",
    "# Simulate the circuit\n",
    "simulator = Aer.get_backend('qasm_simulator')\n",
    "result    = execute(qc, simulator, shots=1000).result()\n",
    "print(\"Grover's Algorithm Results:\", result.get_counts())\n"
   ]
  },
  {
   "cell_type": "code",
   "execution_count": null,
   "id": "e0f3a90b",
   "metadata": {},
   "outputs": [],
   "source": []
  },
  {
   "cell_type": "code",
   "execution_count": null,
   "id": "90ddccdd",
   "metadata": {},
   "outputs": [],
   "source": []
  }
 ],
 "metadata": {
  "kernelspec": {
   "display_name": "Python 3 (ipykernel)",
   "language": "python",
   "name": "python3"
  },
  "language_info": {
   "codemirror_mode": {
    "name": "ipython",
    "version": 3
   },
   "file_extension": ".py",
   "mimetype": "text/x-python",
   "name": "python",
   "nbconvert_exporter": "python",
   "pygments_lexer": "ipython3",
   "version": "3.10.17"
  }
 },
 "nbformat": 4,
 "nbformat_minor": 5
}
