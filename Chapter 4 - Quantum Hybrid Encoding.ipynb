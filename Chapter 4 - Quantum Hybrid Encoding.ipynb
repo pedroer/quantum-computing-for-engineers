{
 "cells": [
  {
   "cell_type": "code",
   "execution_count": 1,
   "id": "7312f263",
   "metadata": {},
   "outputs": [
    {
     "name": "stdout",
     "output_type": "stream",
     "text": [
      "Quantum Circuit for Hybrid Encoding:\n",
      "     ┌─────────────────────────────┐\n",
      "q_0: ┤ Initialize(0.44721,0.89443) ├\n",
      "     └─────────┬─────────┬─────────┘\n",
      "q_1: ──────────┤ Ry(π/3) ├──────────\n",
      "               └─────────┘          \n"
     ]
    },
    {
     "data": {
      "image/png": "[encoded data removed]",
      "text/plain": [
       "<Figure size 287.294x200.667 with 1 Axes>"
      ]
     },
     "metadata": {},
     "output_type": "display_data"
    }
   ],
   "source": [
    "#-------------------------------------------------------------------------\n",
    "# Quantum Hybrid Encoding\n",
    "# Chapter 4 in the QUANTUM COMPUTING AND QUANTUM MACHINE LEARNING BOOK\n",
    "#-------------------------------------------------------------------------\n",
    "# Version 1.0\n",
    "# (c) 2025 Jesse Van Griensven, Roydon Fraser, and Jose Rosas \n",
    "# License:  MIT - Citation of this work required\n",
    "#-------------------------------------------------------------------------\n",
    "# Qiskit changes frequently. \n",
    "# We recommend using the latest version from the book code repository at:\n",
    "# https://github.com/pedroer/quantum-computing-for-engineers/blob/main/requirements.txt\n",
    "import warnings\n",
    "warnings.filterwarnings('ignore')\n",
    "\n",
    "import numpy as np\n",
    "from qiskit import QuantumCircuit\n",
    "from qiskit.visualization import circuit_drawer\n",
    "#-------------------------------------------------------------------------\n",
    "\n",
    "# Create a quantum circuit\n",
    "qc = QuantumCircuit(2)\n",
    "\n",
    "# Amplitude encode numerical data\n",
    "numerical_data = np.array([1, 2])\n",
    "norm = np.linalg.norm(numerical_data)\n",
    "normalized_data = numerical_data / norm\n",
    "qc.initialize(normalized_data, [0])\n",
    "\n",
    "# Angle encode categorical data\n",
    "categorical_data = np.pi / 3.\n",
    "qc.ry(categorical_data, 1)\n",
    "\n",
    "print(\"Quantum Circuit for Hybrid Encoding:\")\n",
    "print(qc)\n",
    "\n",
    "# Draw the circuit\n",
    "display(circuit_drawer(qc, output='mpl', style=\"iqp\"))\n"
   ]
  },
  {
   "cell_type": "code",
   "execution_count": null,
   "id": "8657a161",
   "metadata": {},
   "outputs": [],
   "source": []
  }
 ],
 "metadata": {
  "kernelspec": {
   "display_name": "Python 3 (ipykernel)",
   "language": "python",
   "name": "python3"
  },
  "language_info": {
   "codemirror_mode": {
    "name": "ipython",
    "version": 3
   },
   "file_extension": ".py",
   "mimetype": "text/x-python",
   "name": "python",
   "nbconvert_exporter": "python",
   "pygments_lexer": "ipython3",
   "version": "3.10.17"
  }
 },
 "nbformat": 4,
 "nbformat_minor": 5
}
