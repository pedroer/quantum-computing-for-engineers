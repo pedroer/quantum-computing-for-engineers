{
 "cells": [
  {
   "cell_type": "code",
   "execution_count": 1,
   "id": "fad7f682",
   "metadata": {},
   "outputs": [
    {
     "name": "stdout",
     "output_type": "stream",
     "text": [
      "Quantum Perceptron Circuit:\n",
      "        ┌───┐            ░ ┌─┐   \n",
      "   q_0: ┤ H ├─────■──────░─┤M├───\n",
      "        └───┘┌────┴────┐ ░ └╥┘┌─┐\n",
      "   q_1: ─────┤ Rx(π/4) ├─░──╫─┤M├\n",
      "             └─────────┘ ░  ║ └╥┘\n",
      "meas: 2/════════════════════╩══╩═\n",
      "                            0  1 \n",
      "Measurement Results: {'11': 58, '00': 518, '01': 424}\n"
     ]
    },
    {
     "data": {
      "image/png": "[encoded data removed]",
      "text/plain": [
       "<Figure size 640x480 with 1 Axes>"
      ]
     },
     "metadata": {},
     "output_type": "display_data"
    }
   ],
   "source": [
    "#-------------------------------------------------------------------------\n",
    "# Quantum Perceptron  \n",
    "# Chapter 9 in the QUANTUM COMPUTING AND QUANTUM MACHINE LEARNING BOOK\n",
    "#-------------------------------------------------------------------------\n",
    "# Version 1.0\n",
    "# (c) 2025 Jesse Van Griensven, Roydon Fraser, and Jose Rosas \n",
    "# License:  MIT - Citation of this work required\n",
    "#-------------------------------------------------------------------------\n",
    "import numpy as np\n",
    "import matplotlib.pyplot as plt\n",
    "\n",
    "from qiskit import QuantumCircuit, Aer, execute\n",
    "from qiskit.visualization import plot_histogram\n",
    "#-------------------------------------------------------------------------\n",
    "\n",
    "# Quantum perceptron with controlled rotation\n",
    "qc = QuantumCircuit(2)\n",
    "qc.h(0)  # Create superposition\n",
    "qc.crx(np.pi / 4., 0, 1)  # Controlled rotation\n",
    "qc.measure_all()\n",
    "\n",
    "print(\"Quantum Perceptron Circuit:\")\n",
    "print(qc)\n",
    "\n",
    "# Visualize the quantum circuit\n",
    "qc.draw('mpl')  # High-quality circuit diagram\n",
    "\n",
    "# Simulate the circuit\n",
    "simulator = Aer.get_backend('qasm_simulator')\n",
    "result    = execute(qc, simulator, shots=1000).result()\n",
    "\n",
    "# Extract and visualize the measurement results\n",
    "counts = result.get_counts(qc)\n",
    "print(\"Measurement Results:\", counts)\n",
    "\n",
    "# Plot the results as a histogram\n",
    "plot_histogram(counts)\n",
    "plt.title(\"Quantum Perceptron Measurement Results\")\n",
    "plt.show()\n"
   ]
  },
  {
   "cell_type": "code",
   "execution_count": null,
   "id": "226a45c4",
   "metadata": {},
   "outputs": [],
   "source": []
  }
 ],
 "metadata": {
  "kernelspec": {
   "display_name": "Python 3 (ipykernel)",
   "language": "python",
   "name": "python3"
  },
  "language_info": {
   "codemirror_mode": {
    "name": "ipython",
    "version": 3
   },
   "file_extension": ".py",
   "mimetype": "text/x-python",
   "name": "python",
   "nbconvert_exporter": "python",
   "pygments_lexer": "ipython3",
   "version": "3.10.17"
  }
 },
 "nbformat": 4,
 "nbformat_minor": 5
}
