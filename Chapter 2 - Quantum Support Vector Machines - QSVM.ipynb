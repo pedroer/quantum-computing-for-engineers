{
 "cells": [
  {
   "cell_type": "code",
   "execution_count": 1,
   "id": "afff1907",
   "metadata": {},
   "outputs": [
    {
     "name": "stdout",
     "output_type": "stream",
     "text": [
      "Quantum Kernel Matrix:\n"
     ]
    },
    {
     "data": {
      "text/latex": [
       "$\\displaystyle \\left[\\begin{matrix}1.0 & 0.325\\\\0.325 & 1.0\\end{matrix}\\right]$"
      ],
      "text/plain": [
       "Matrix([\n",
       "[  1.0, 0.325],\n",
       "[0.325,   1.0]])"
      ]
     },
     "metadata": {},
     "output_type": "display_data"
    }
   ],
   "source": [
    "#-------------------------------------------------------------------------\n",
    "# Quantum Support Vector Machines - QSVM\n",
    "# Chapter 2 in the QUANTUM COMPUTING AND QUANTUM MACHINE LEARNING BOOK\n",
    "#-------------------------------------------------------------------------\n",
    "# Version 1.0\n",
    "# (c) 2025 Jesse Van Griensven, Roydon Fraser, and Jose Rosas \n",
    "# Licence:  MIT - Citation of this work required\n",
    "#-------------------------------------------------------------------------\n",
    "# Qiskit changes frequently. \n",
    "# We recommend using the latest version from the book code repository at:\n",
    "# https://github.com/pedroer/quantum-computing-for-engineers/blob/main/requirements.txt\n",
    "from qiskit_machine_learning.kernels import QuantumKernel\n",
    "from qiskit import Aer\n",
    "from qiskit.circuit.library import ZZFeatureMap\n",
    "\n",
    "#----------------------------------------------------------------------------\n",
    "def sprint(Matrix, decimals=4):\n",
    "    \"\"\" Prints a numpy Matrix in a nice format with sympy and specified precision \"\"\"\n",
    "    # Define the SYMPY routines we need\n",
    "    import sympy as sp\n",
    "    # The input Matrix can be a Numpy or a Sympy Matrix\n",
    "    SMatrix = sp.Matrix(Matrix)\n",
    "    # Apply the rounding to each element\n",
    "    SMatrix = SMatrix.applyfunc(lambda x: round(float(x), decimals) if isinstance(x, (float, int, sp.Float)) else x)\n",
    "    display(SMatrix)\n",
    "    return\n",
    "#----------------------------------------------------------------------------\n",
    "\n",
    "# Define a feature map\n",
    "feature_map = ZZFeatureMap(feature_dimension=2, reps=2, entanglement='linear')\n",
    "\n",
    "# Quantum kernel\n",
    "quantum_kernel = QuantumKernel(feature_map=feature_map, quantum_instance=Aer.get_backend('statevector_simulator'))\n",
    "\n",
    "# Example data\n",
    "data = [[0, 0], [1, 1]]\n",
    "kernel_matrix = quantum_kernel.evaluate(x_vec=data)\n",
    "print(\"Quantum Kernel Matrix:\")\n",
    "sprint(kernel_matrix)"
   ]
  },
  {
   "cell_type": "code",
   "execution_count": null,
   "id": "7fc72322",
   "metadata": {},
   "outputs": [],
   "source": []
  }
 ],
 "metadata": {
  "kernelspec": {
   "display_name": "Python 3 (ipykernel)",
   "language": "python",
   "name": "python3"
  },
  "language_info": {
   "codemirror_mode": {
    "name": "ipython",
    "version": 3
   },
   "file_extension": ".py",
   "mimetype": "text/x-python",
   "name": "python",
   "nbconvert_exporter": "python",
   "pygments_lexer": "ipython3",
   "version": "3.10.17"
  }
 },
 "nbformat": 4,
 "nbformat_minor": 5
}
