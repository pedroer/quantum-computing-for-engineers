{
 "cells": [
  {
   "cell_type": "code",
   "execution_count": 1,
   "id": "5b7da986",
   "metadata": {},
   "outputs": [
    {
     "name": "stdout",
     "output_type": "stream",
     "text": [
      "Mixing Circuit:\n",
      "     ┌───┐┌─────────┐\n",
      "q_0: ┤ H ├┤ Rx(π/3) ├\n",
      "     ├───┤├─────────┤\n",
      "q_1: ┤ H ├┤ Rx(π/3) ├\n",
      "     └───┘└─────────┘\n"
     ]
    },
    {
     "data": {
      "image/png": "[encoded data removed]",
      "text/plain": [
       "<Figure size 287.294x200.667 with 1 Axes>"
      ]
     },
     "metadata": {},
     "output_type": "display_data"
    }
   ],
   "source": [
    "#-------------------------------------------------------------------------\n",
    "# QAOA Mixing\n",
    "# Chapter 6 in the QUANTUM COMPUTING AND QUANTUM MACHINE LEARNING BOOK\n",
    "# Code demonstrates applying the phase separation step for two qubits\n",
    "#-------------------------------------------------------------------------\n",
    "# Version 1.0\n",
    "# (c) 2025 Jesse Van Griensven, Roydon Fraser, and Jose Rosas \n",
    "# Licence:  MIT - Citation of this work is required\n",
    "#-------------------------------------------------------------------------\n",
    "import warnings\n",
    "warnings.filterwarnings('ignore')\n",
    "\n",
    "import numpy as np\n",
    "from qiskit import QuantumCircuit\n",
    "from qiskit.visualization import circuit_drawer\n",
    "#-------------------------------------------------------------------------\n",
    "\n",
    "# Define mixing operation\n",
    "def mixing_layer(qc, beta):\n",
    "    qc.rx(2 * beta, [0, 1])\n",
    "    return qc\n",
    "#-------------------------------------------------------------------------\n",
    "\n",
    "# Apply mixing layer\n",
    "qc = QuantumCircuit(2)\n",
    "qc.h([0, 1])  # Initialize qubits in superposition\n",
    "beta = np.pi / 6.\n",
    "mixing_layer(qc, beta)\n",
    "\n",
    "# Output Results\n",
    "print(\"Mixing Circuit:\")\n",
    "print(qc)\n",
    "\n",
    "# Draw the circuit\n",
    "display(circuit_drawer(qc, output='mpl', style=\"iqp\"))"
   ]
  },
  {
   "cell_type": "code",
   "execution_count": 2,
   "id": "42c6a51e",
   "metadata": {},
   "outputs": [
    {
     "name": "stdout",
     "output_type": "stream",
     "text": [
      "Quantum Circuit:\n"
     ]
    },
    {
     "data": {
      "image/png": "[encoded data removed]",
      "text/plain": [
       "<Figure size 574.589x401.333 with 1 Axes>"
      ]
     },
     "execution_count": 2,
     "metadata": {},
     "output_type": "execute_result"
    }
   ],
   "source": [
    "# Visualize the circuit\n",
    "print(\"Quantum Circuit:\")\n",
    "qc.draw(output='mpl', style={'backgroundcolor': '#FFFFFF', 'dpi': 900}, scale=2)"
   ]
  },
  {
   "cell_type": "code",
   "execution_count": null,
   "id": "e10a395a",
   "metadata": {},
   "outputs": [],
   "source": []
  }
 ],
 "metadata": {
  "kernelspec": {
   "display_name": "Python 3 (ipykernel)",
   "language": "python",
   "name": "python3"
  },
  "language_info": {
   "codemirror_mode": {
    "name": "ipython",
    "version": 3
   },
   "file_extension": ".py",
   "mimetype": "text/x-python",
   "name": "python",
   "nbconvert_exporter": "python",
   "pygments_lexer": "ipython3",
   "version": "3.10.17"
  }
 },
 "nbformat": 4,
 "nbformat_minor": 5
}
