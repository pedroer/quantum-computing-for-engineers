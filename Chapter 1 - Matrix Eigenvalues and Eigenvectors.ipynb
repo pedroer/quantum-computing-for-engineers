{
 "cells": [
  {
   "cell_type": "code",
   "execution_count": 2,
   "id": "242e0a99",
   "metadata": {},
   "outputs": [
    {
     "name": "stdout",
     "output_type": "stream",
     "text": [
      "Matrix A:\n"
     ]
    },
    {
     "data": {
      "text/latex": [
       "$\\displaystyle \\left[\\begin{matrix}4 & -2\\\\1 & 1\\end{matrix}\\right]$"
      ],
      "text/plain": [
       "Matrix([\n",
       "[4, -2],\n",
       "[1,  1]])"
      ]
     },
     "metadata": {},
     "output_type": "display_data"
    },
    {
     "name": "stdout",
     "output_type": "stream",
     "text": [
      "\n",
      "Eigenvalues:\n",
      " [3. 2.]\n",
      "\n",
      "Eigenvectors\n"
     ]
    },
    {
     "data": {
      "text/latex": [
       "$\\displaystyle \\left[\\begin{matrix}0.8944 & 0.7071\\\\0.4472 & 0.7071\\end{matrix}\\right]$"
      ],
      "text/plain": [
       "Matrix([\n",
       "[0.8944, 0.7071],\n",
       "[0.4472, 0.7071]])"
      ]
     },
     "metadata": {},
     "output_type": "display_data"
    }
   ],
   "source": [
    "#----------------------------------------------------------------------------\n",
    "# Matrix Eigenvalues and Eigenvectors\n",
    "# Chapter 1 in the QUANTUM COMPUTING AND QUANTUM MACHINE LEARNING BOOK\n",
    "#----------------------------------------------------------------------------\n",
    "# Version 1.0\n",
    "# (c) 2025 Jesse Van Griensven, Roydon Fraser, and Jose Rosas \n",
    "# Licence:  MIT - Citation required\n",
    "#----------------------------------------------------------------------------\n",
    "import numpy as np\n",
    "\n",
    "#----------------------------------------------------------------------------\n",
    "def sprint(Matrix, decimals=4):\n",
    "    \"\"\" Prints a numpy Matrix in a nice format with sympy and specified precision \"\"\"\n",
    "    # Define the SYMPY routines we need\n",
    "    import sympy as sp\n",
    "    # The input Matrix can be a Numpy or a Sympy Matrix\n",
    "    SMatrix = sp.Matrix(Matrix)\n",
    "    # Apply the rounding to each element\n",
    "    SMatrix = SMatrix.applyfunc(lambda x: round(float(x), decimals) if isinstance(x, (float, int, sp.Float)) else x)\n",
    "    display(SMatrix)\n",
    "    return\n",
    "#----------------------------------------------------------------------------\n",
    "\n",
    "# Define the matrix\n",
    "A = np.array([[4, -2],\n",
    "              [1, 1]])\n",
    "\n",
    "# Compute eigenvalues and eigenvectors\n",
    "eigenvalues, eigenvectors = np.linalg.eig(A)\n",
    "\n",
    "# Display Input\n",
    "print(\"Matrix A:\")\n",
    "sprint(A)\n",
    "print()\n",
    "\n",
    "# Display results\n",
    "print(\"Eigenvalues:\\n\", eigenvalues)\n",
    "print()\n",
    "\n",
    "print(\"Eigenvectors\")\n",
    "sprint(eigenvectors)\n"
   ]
  },
  {
   "cell_type": "code",
   "execution_count": 5,
   "id": "0b50bd82",
   "metadata": {},
   "outputs": [],
   "source": []
  },
  {
   "cell_type": "code",
   "execution_count": null,
   "id": "93798a41",
   "metadata": {},
   "outputs": [],
   "source": []
  }
 ],
 "metadata": {
  "kernelspec": {
   "display_name": "Python 3 (ipykernel)",
   "language": "python",
   "name": "python3"
  },
  "language_info": {
   "codemirror_mode": {
    "name": "ipython",
    "version": 3
   },
   "file_extension": ".py",
   "mimetype": "text/x-python",
   "name": "python",
   "nbconvert_exporter": "python",
   "pygments_lexer": "ipython3",
   "version": "3.10.17"
  }
 },
 "nbformat": 4,
 "nbformat_minor": 5
}
