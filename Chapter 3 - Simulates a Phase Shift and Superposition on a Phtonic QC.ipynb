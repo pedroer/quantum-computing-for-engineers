{
 "cells": [
  {
   "cell_type": "code",
   "execution_count": 1,
   "id": "22a84b4c",
   "metadata": {},
   "outputs": [
    {
     "name": "stdout",
     "output_type": "stream",
     "text": [
      "Quantum Circuit Before Applying Measurement\n"
     ]
    },
    {
     "data": {
      "image/png": "[encoded data removed]",
      "text/plain": [
       "<Figure size 269.064x117.056 with 1 Axes>"
      ]
     },
     "metadata": {},
     "output_type": "display_data"
    },
    {
     "name": "stdout",
     "output_type": "stream",
     "text": [
      "Quantum Circuit After Applying Measurement\n"
     ]
    },
    {
     "data": {
      "image/png": "[encoded data removed]",
      "text/plain": [
       "<Figure size 496.776x200.667 with 1 Axes>"
      ]
     },
     "metadata": {},
     "output_type": "display_data"
    },
    {
     "name": "stdout",
     "output_type": "stream",
     "text": [
      "Measurements Results:\n",
      "{'0': 512, '1': 512}\n"
     ]
    },
    {
     "data": {
      "text/plain": [
       "<Figure size 3600x2400 with 0 Axes>"
      ]
     },
     "metadata": {},
     "output_type": "display_data"
    }
   ],
   "source": [
    "#-------------------------------------------------------------------------\n",
    "# Simulates a phase shift and superposition\n",
    "# Analogous to photonic quantum operations.  \n",
    "# Simulating a basic photonic system\n",
    "# Chapter 3 in the QUANTUM COMPUTING AND QUANTUM MACHINE LEARNING BOOK\n",
    "#-------------------------------------------------------------------------\n",
    "# Version 1.0\n",
    "# (c) 2025 Jesse Van Griensven, Roydon Fraser, and Jose Rosas \n",
    "# Licence:  MIT - Citation of this work required\n",
    "#-------------------------------------------------------------------------\n",
    "# Qiskit changes frequently. \n",
    "# We recommend using the latest version from the book code repository at:\n",
    "# https://github.com/pedroer/quantum-computing-for-engineers/blob/main/requirements.txt\n",
    "from qiskit import QuantumCircuit, Aer, execute\n",
    "from qiskit.visualization import circuit_drawer\n",
    "\n",
    "import warnings\n",
    "warnings.filterwarnings('ignore')\n",
    "# Create a new figure with specified size and DPI\n",
    "import matplotlib.pyplot as plt\n",
    "plt.figure(figsize=(12,8), dpi=300)\n",
    "#-------------------------------------------------------------------------\n",
    "\n",
    "# Create a single-qubit quantum circuit\n",
    "qc = QuantumCircuit(1)\n",
    "\n",
    "# Apply a phase gate (simulating a photonic phase shift)\n",
    "qc.rz(1.57, 0)  # 90-degree phase shift = Pi / 2 ~ 1.571\n",
    "\n",
    "# Apply a Hadamard gate\n",
    "qc.h(0)\n",
    "\n",
    "# Draw the circuits\n",
    "print(\"Quantum Circuit Before Applying Measurement\")\n",
    "display(circuit_drawer(qc, output='mpl', style=\"iqp\"))\n",
    "\n",
    "# Measure the qubit\n",
    "qc.measure_all()\n",
    "\n",
    "# Draw the circuits\n",
    "print(\"Quantum Circuit After Applying Measurement\")\n",
    "display(circuit_drawer(qc, output='mpl', style=\"iqp\"))\n",
    "\n",
    "# Simulate the circuit\n",
    "simulator = Aer.get_backend('aer_simulator')\n",
    "result = execute(qc, simulator).result()\n",
    "\n",
    "# Print the measurement results\n",
    "print(\"Measurements Results:\")\n",
    "print(result.get_counts())\n"
   ]
  },
  {
   "cell_type": "code",
   "execution_count": null,
   "id": "a867e35e",
   "metadata": {},
   "outputs": [],
   "source": []
  },
  {
   "cell_type": "code",
   "execution_count": null,
   "id": "ea1801ea-fc73-4eca-876f-0034454f4aa7",
   "metadata": {},
   "outputs": [],
   "source": []
  },
  {
   "cell_type": "code",
   "execution_count": null,
   "id": "320f2e84-d2cb-48dc-96a6-36106c28f117",
   "metadata": {},
   "outputs": [],
   "source": []
  }
 ],
 "metadata": {
  "kernelspec": {
   "display_name": "Python 3 (ipykernel)",
   "language": "python",
   "name": "python3"
  },
  "language_info": {
   "codemirror_mode": {
    "name": "ipython",
    "version": 3
   },
   "file_extension": ".py",
   "mimetype": "text/x-python",
   "name": "python",
   "nbconvert_exporter": "python",
   "pygments_lexer": "ipython3",
   "version": "3.10.17"
  }
 },
 "nbformat": 4,
 "nbformat_minor": 5
}
