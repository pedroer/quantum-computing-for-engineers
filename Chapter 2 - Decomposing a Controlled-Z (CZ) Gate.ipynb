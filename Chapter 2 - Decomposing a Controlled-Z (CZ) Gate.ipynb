{
 "cells": [
  {
   "cell_type": "code",
   "execution_count": 2,
   "id": "760ec01d",
   "metadata": {},
   "outputs": [
    {
     "name": "stdout",
     "output_type": "stream",
     "text": [
      "          \n",
      "q_0: ─────\n",
      "     ┌───┐\n",
      "q_1: ┤ H ├\n",
      "     └───┘\n",
      "               \n",
      "q_0: ───────■──\n",
      "     ┌───┐┌─┴─┐\n",
      "q_1: ┤ H ├┤ X ├\n",
      "     └───┘└───┘\n",
      "                    \n",
      "q_0: ───────■───────\n",
      "     ┌───┐┌─┴─┐┌───┐\n",
      "q_1: ┤ H ├┤ X ├┤ H ├\n",
      "     └───┘└───┘└───┘\n"
     ]
    }
   ],
   "source": [
    "#-------------------------------------------------------------------------\n",
    "# Decomposing a Controlled-Z (CZ) Gate\n",
    "# Chapter 2 in the QUANTUM COMPUTING AND QUANTUM MACHINE LEARNING BOOK\n",
    "#-------------------------------------------------------------------------\n",
    "# Version 1.0\n",
    "# (c) 2025 Jesse Van Griensven, Roydon Fraser, and Jose Rosas \n",
    "# Licence:  MIT - Citation of this work required\n",
    "#-------------------------------------------------------------------------\n",
    "import warnings\n",
    "warnings.filterwarnings('ignore')\n",
    "\n",
    "import numpy as np\n",
    "from qiskit import QuantumCircuit\n",
    "from qiskit.visualization import circuit_drawer\n",
    "#-------------------------------------------------------------------------\n",
    "\n",
    "# Create a quantum circuit with 2 qubits\n",
    "qc = QuantumCircuit(2)\n",
    "\n",
    "# Apply the Hadamard gate on target qubit\n",
    "qc.h(1) \n",
    "\n",
    "# print circuit at this point\n",
    "print(qc.draw())\n",
    "\n",
    "# Apply CNOT gate\n",
    "qc.cx(0, 1)  \n",
    "\n",
    "# print circuit at this point\n",
    "print(qc.draw())\n",
    "\n",
    "# Hadamard on target qubit again\n",
    "qc.h(1)  \n",
    "\n",
    "# print the final circuit\n",
    "print(qc.draw())\n",
    "\n"
   ]
  },
  {
   "cell_type": "code",
   "execution_count": null,
   "id": "05697c8b",
   "metadata": {},
   "outputs": [],
   "source": []
  }
 ],
 "metadata": {
  "kernelspec": {
   "display_name": "Python 3 (ipykernel)",
   "language": "python",
   "name": "python3"
  },
  "language_info": {
   "codemirror_mode": {
    "name": "ipython",
    "version": 3
   },
   "file_extension": ".py",
   "mimetype": "text/x-python",
   "name": "python",
   "nbconvert_exporter": "python",
   "pygments_lexer": "ipython3",
   "version": "3.10.17"
  }
 },
 "nbformat": 4,
 "nbformat_minor": 5
}
