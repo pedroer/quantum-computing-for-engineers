{
 "cells": [
  {
   "cell_type": "code",
   "execution_count": 2,
   "id": "29f73353",
   "metadata": {},
   "outputs": [
    {
     "name": "stdout",
     "output_type": "stream",
     "text": [
      "Quantum Circuit for Sparse Encoding:\n",
      "     ┌─────────────┐\n",
      "q_0: ┤ Ry(0.88235) ├\n",
      "     ├─────────────┤\n",
      "q_1: ┤ Ry(0.47059) ├\n",
      "     └─────────────┘\n"
     ]
    },
    {
     "data": {
      "image/png": "[encoded data removed]",
      "text/plain": [
       "<Figure size 203.683x200.667 with 1 Axes>"
      ]
     },
     "metadata": {},
     "output_type": "display_data"
    }
   ],
   "source": [
    "#-------------------------------------------------------------------------\n",
    "# Quantum Sparse Encoding\n",
    "# Chapter 6 in the QUANTUM COMPUTING AND QUANTUM MACHINE LEARNING BOOK\n",
    "#-------------------------------------------------------------------------\n",
    "# Version 1.0\n",
    "# (c) 2025 Jesse Van Griensven, Roydon Fraser, and Jose Rosas \n",
    "# Licence:  MIT - Citation of this work required\n",
    "#-------------------------------------------------------------------------\n",
    "# Qiskit changes frequently. \n",
    "# We recommend using the latest version from the book code repository at:\n",
    "# https://github.com/pedroer/quantum-computing-for-engineers/blob/main/requirements.txt\n",
    "import numpy as np\n",
    "from qiskit import QuantumCircuit\n",
    "from qiskit.visualization import circuit_drawer\n",
    "#-------------------------------------------------------------------------\n",
    "\n",
    "# Example sparse dataset\n",
    "sparse_data = np.array([0, 0, 1.5, 0, 0.8, 0])\n",
    "\n",
    "# Normalize non-zero elements\n",
    "indices = np.nonzero(sparse_data)[0]\n",
    "values  = sparse_data[indices]\n",
    "norm    = np.linalg.norm(values)\n",
    "normalized_values = values / norm\n",
    "\n",
    "# Create a quantum circuit\n",
    "qc = QuantumCircuit(len(indices))\n",
    "for i, value in enumerate(normalized_values):\n",
    "    qc.ry(value, i)\n",
    "\n",
    "print(\"Quantum Circuit for Sparse Encoding:\")\n",
    "print(qc)\n",
    "\n",
    "# Draw the circuits\n",
    "display(circuit_drawer(qc, output='mpl', style=\"iqp\"))"
   ]
  },
  {
   "cell_type": "code",
   "execution_count": null,
   "id": "210c1855",
   "metadata": {},
   "outputs": [],
   "source": []
  }
 ],
 "metadata": {
  "kernelspec": {
   "display_name": "Python 3 (ipykernel)",
   "language": "python",
   "name": "python3"
  },
  "language_info": {
   "codemirror_mode": {
    "name": "ipython",
    "version": 3
   },
   "file_extension": ".py",
   "mimetype": "text/x-python",
   "name": "python",
   "nbconvert_exporter": "python",
   "pygments_lexer": "ipython3",
   "version": "3.10.17"
  }
 },
 "nbformat": 4,
 "nbformat_minor": 5
}
