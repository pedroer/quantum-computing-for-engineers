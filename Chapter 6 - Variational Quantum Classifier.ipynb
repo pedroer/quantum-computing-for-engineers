{
 "cells": [
  {
   "cell_type": "code",
   "execution_count": 4,
   "id": "d45c9732",
   "metadata": {},
   "outputs": [
    {
     "name": "stdout",
     "output_type": "stream",
     "text": [
      "Optimal θ: [-1.57069844]\n"
     ]
    }
   ],
   "source": [
    "#-------------------------------------------------------------------------\n",
    "# Variational Quantum Classifier (VQC)\n",
    "# Chapter 6 in the QUANTUM COMPUTING AND QUANTUM MACHINE LEARNING BOOK\n",
    "# Code demonstrates applying the phase separation step for two qubits\n",
    "#-------------------------------------------------------------------------\n",
    "# Version 1.0\n",
    "# (c) 2025 Jesse Van Griensven, Roydon Fraser, and Jose Rosas \n",
    "# Licence:  MIT - Citation of this work is required\n",
    "#-------------------------------------------------------------------------\n",
    "# Qiskit changes frequently. \n",
    "# We recommend using the latest version from the book code repository at:\n",
    "# https://github.com/pedroer/quantum-computing-for-engineers/blob/main/requirements.txt\n",
    "import numpy as np\n",
    "from qiskit import QuantumCircuit\n",
    "from qiskit.circuit import Parameter\n",
    "from qiskit.opflow import Z, StateFn, CircuitStateFn\n",
    "from qiskit.algorithms.optimizers import COBYLA\n",
    "import warnings\n",
    "warnings.filterwarnings('ignore')\n",
    "#-------------------------------------------------------------------------\n",
    "\n",
    "def create_pqc(theta_val):\n",
    "    \"\"\" Create a simple parameterized quantum circuit (PQC) \"\"\"\n",
    "    qc = QuantumCircuit(1)\n",
    "    qc.rx(theta_val, 0)\n",
    "    return qc\n",
    "\n",
    "#-------------------------------------------------------------------------\n",
    "\n",
    "def loss_function(theta_values, data, labels):\n",
    "    \"\"\" Define the loss function \"\"\"\n",
    "    # Extract the single parameter value from the array\n",
    "    theta_val = theta_values[0]\n",
    "    qc = create_pqc(theta_val)\n",
    "    results = []\n",
    "    \n",
    "    # Loop over each data point and perform feature encoding via an extra rotation.\n",
    "    for x in data:\n",
    "        qc_data = qc.copy()\n",
    "        qc_data.rx(x, 0)  # Feature encoding\n",
    "        # Build a StateFn for measurement using the Z operator.\n",
    "        result = StateFn(Z, is_measurement=True) @ CircuitStateFn(qc_data)\n",
    "        results.append(result.eval())\n",
    "    \n",
    "    # Convert the results to real predictions and compute the mean squared error.\n",
    "    predictions = np.array([np.real(r) for r in results])\n",
    "    return np.mean((predictions - labels) ** 2)\n",
    "#-------------------------------------------------------------------------\n",
    "\n",
    "# Generate synthetic data\n",
    "data   = np.linspace(0, 2. * np.pi, 10)\n",
    "labels = np.sin(data)\n",
    "\n",
    "# Optimize the circuit parameters using COBYLA\n",
    "optimizer = COBYLA(maxiter=100)\n",
    "initial_theta  = np.array([0.1])\n",
    "optimal_result = optimizer.minimize(\n",
    "    fun=lambda theta: loss_function(theta, data, labels),\n",
    "    x0=initial_theta\n",
    ")\n",
    "\n",
    "# The optimizer returns an object containing the solution in the 'x' attribute.\n",
    "print(f\"Optimal θ: {optimal_result.x}\")\n"
   ]
  },
  {
   "cell_type": "code",
   "execution_count": null,
   "id": "56472a5a",
   "metadata": {},
   "outputs": [],
   "source": []
  }
 ],
 "metadata": {
  "kernelspec": {
   "display_name": "Python 3 (ipykernel)",
   "language": "python",
   "name": "python3"
  },
  "language_info": {
   "codemirror_mode": {
    "name": "ipython",
    "version": 3
   },
   "file_extension": ".py",
   "mimetype": "text/x-python",
   "name": "python",
   "nbconvert_exporter": "python",
   "pygments_lexer": "ipython3",
   "version": "3.10.17"
  }
 },
 "nbformat": 4,
 "nbformat_minor": 5
}
