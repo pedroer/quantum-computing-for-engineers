{
 "cells": [
  {
   "cell_type": "code",
   "execution_count": 1,
   "id": "ed538d3a",
   "metadata": {},
   "outputs": [
    {
     "name": "stdout",
     "output_type": "stream",
     "text": [
      "R_x(theta):\n"
     ]
    },
    {
     "data": {
      "text/latex": [
       "$\\displaystyle \\left[\\begin{matrix}0.9239 & - 0.3827 i\\\\- 0.3827 i & 0.9239\\end{matrix}\\right]$"
      ],
      "text/plain": [
       "Matrix([\n",
       "[   0.9239, -0.3827*I],\n",
       "[-0.3827*I,    0.9239]])"
      ]
     },
     "metadata": {},
     "output_type": "display_data"
    },
    {
     "name": "stdout",
     "output_type": "stream",
     "text": [
      "R_y(theta):\n"
     ]
    },
    {
     "data": {
      "text/latex": [
       "$\\displaystyle \\left[\\begin{matrix}0.9239 & -0.3827\\\\0.3827 & 0.9239\\end{matrix}\\right]$"
      ],
      "text/plain": [
       "Matrix([\n",
       "[0.9239, -0.3827],\n",
       "[0.3827,  0.9239]])"
      ]
     },
     "metadata": {},
     "output_type": "display_data"
    },
    {
     "name": "stdout",
     "output_type": "stream",
     "text": [
      "R_z(theta):\n"
     ]
    },
    {
     "data": {
      "text/latex": [
       "$\\displaystyle \\left[\\begin{matrix}0.9239 - 0.3827 i & 0.0\\\\0.0 & 0.9239 + 0.3827 i\\end{matrix}\\right]$"
      ],
      "text/plain": [
       "Matrix([\n",
       "[0.9239 - 0.3827*I,               0.0],\n",
       "[              0.0, 0.9239 + 0.3827*I]])"
      ]
     },
     "metadata": {},
     "output_type": "display_data"
    }
   ],
   "source": [
    "#-------------------------------------------------------------------------\n",
    "# Rotation Gates using numpy\n",
    "# Chapter 2 in the QUANTUM COMPUTING AND QUANTUM MACHINE LEARNING BOOK\n",
    "#-------------------------------------------------------------------------\n",
    "# Version 1.0\n",
    "# (c) 2025 Jesse Van Griensven, Roydon Fraser, and Jose Rosas \n",
    "# Licence:  MIT - Citation of this work required\n",
    "#-------------------------------------------------------------------------\n",
    "import numpy as np\n",
    "#-------------------------------------------------------------------------\n",
    "def sprint(Matrix, decimals=4):\n",
    "    \"\"\" Prints a Matrix with real and imaginary parts rounded to decimals \"\"\"\n",
    "    import sympy as sp\n",
    "    SMatrix = sp.Matrix(Matrix)  # Convert to Sympy Matrix if it's not already\n",
    "\n",
    "    def round_complex(x):\n",
    "        \"\"\"Round real and imaginary of the given number of decimals \"\"\"\n",
    "        c = complex(x)  # handle any real or complex Sympy expression\n",
    "        r = round(c.real, decimals)\n",
    "        i = round(c.imag, decimals)\n",
    "        # If imaginary part is negligible, treat as purely real\n",
    "        if abs(i) < 10**(-decimals): return sp.Float(r)\n",
    "        else: return sp.Float(r) + sp.Float(i)*sp.I\n",
    "\n",
    "    # Display the rounded Sympy Matrix\n",
    "    display(SMatrix.applyfunc(round_complex))\n",
    "    return\n",
    "#-------------------------------------------------------------------------\n",
    "\n",
    "def R_x(theta):\n",
    "    theta2 = theta/2.\n",
    "    return np.array([\n",
    "        [np.cos(theta2), -1j * np.sin(theta2)],\n",
    "        [-1j * np.sin(theta2), np.cos(theta2)]\n",
    "    ])\n",
    "\n",
    "def R_y(theta):\n",
    "    theta2 = theta/2.\n",
    "    return np.array([\n",
    "        [np.cos(theta2), -np.sin(theta2)],\n",
    "        [np.sin(theta2), np.cos(theta2)]\n",
    "    ])\n",
    "\n",
    "def R_z(theta):\n",
    "    theta2 = theta/2.\n",
    "    return np.array([\n",
    "        [np.exp(-1j   * theta2), 0],\n",
    "        [0, np.exp(1j * theta2)]\n",
    "    ])\n",
    "\n",
    "theta = np.pi / 4.  # Example rotation angle\n",
    "print(\"R_x(theta):\")\n",
    "sprint(R_x(theta))\n",
    "print(\"R_y(theta):\")\n",
    "sprint(R_y(theta))\n",
    "print(\"R_z(theta):\")\n",
    "sprint(R_z(theta))"
   ]
  },
  {
   "cell_type": "code",
   "execution_count": null,
   "id": "4b209d82",
   "metadata": {},
   "outputs": [],
   "source": []
  },
  {
   "cell_type": "code",
   "execution_count": null,
   "id": "4008903a",
   "metadata": {},
   "outputs": [],
   "source": []
  }
 ],
 "metadata": {
  "kernelspec": {
   "display_name": "Python 3 (ipykernel)",
   "language": "python",
   "name": "python3"
  },
  "language_info": {
   "codemirror_mode": {
    "name": "ipython",
    "version": 3
   },
   "file_extension": ".py",
   "mimetype": "text/x-python",
   "name": "python",
   "nbconvert_exporter": "python",
   "pygments_lexer": "ipython3",
   "version": "3.10.17"
  }
 },
 "nbformat": 4,
 "nbformat_minor": 5
}
