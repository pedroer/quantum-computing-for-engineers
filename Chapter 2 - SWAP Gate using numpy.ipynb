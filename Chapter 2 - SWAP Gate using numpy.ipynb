{
 "cells": [
  {
   "cell_type": "code",
   "execution_count": 1,
   "id": "87d8f39e",
   "metadata": {},
   "outputs": [
    {
     "name": "stdout",
     "output_type": "stream",
     "text": [
      "Initial State:\n"
     ]
    },
    {
     "data": {
      "text/latex": [
       "$\\displaystyle \\left[\\begin{matrix}0.0\\\\1.0\\\\0.0\\\\0.0\\end{matrix}\\right]$"
      ],
      "text/plain": [
       "Matrix([\n",
       "[0.0],\n",
       "[1.0],\n",
       "[0.0],\n",
       "[0.0]])"
      ]
     },
     "metadata": {},
     "output_type": "display_data"
    },
    {
     "name": "stdout",
     "output_type": "stream",
     "text": [
      "\n",
      "New State after SWAP:\n"
     ]
    },
    {
     "data": {
      "text/latex": [
       "$\\displaystyle \\left[\\begin{matrix}0.0\\\\0.0\\\\1.0\\\\0.0\\end{matrix}\\right]$"
      ],
      "text/plain": [
       "Matrix([\n",
       "[0.0],\n",
       "[0.0],\n",
       "[1.0],\n",
       "[0.0]])"
      ]
     },
     "metadata": {},
     "output_type": "display_data"
    }
   ],
   "source": [
    "#-------------------------------------------------------------------------\n",
    "# SWAP Gate using numpy\n",
    "# Chapter 2 in the QUANTUM COMPUTING AND QUANTUM MACHINE LEARNING BOOK\n",
    "#-------------------------------------------------------------------------\n",
    "# Version 1.0\n",
    "# (c) 2025 Jesse Van Griensven, Roydon Fraser, and Jose Rosas \n",
    "# Licence:  MIT - Citation of this work required\n",
    "#-------------------------------------------------------------------------\n",
    "import numpy as np\n",
    "#-------------------------------------------------------------------------\n",
    "def sprint(Matrix, decimals=4):\n",
    "    \"\"\"Prints a Matrix with real and imaginary parts rounded to decimals \"\"\"\n",
    "    import sympy as sp\n",
    "    SMatrix = sp.Matrix(Matrix)  # Convert to Sympy Matrix if it's not already\n",
    "\n",
    "    def round_complex(x):\n",
    "        \"\"\"Round real and imaginary parts a given number of decimals\"\"\"\n",
    "        c = complex(x)  # handle any real or complex Sympy expression\n",
    "        r = round(c.real, decimals)\n",
    "        i = round(c.imag, decimals)\n",
    "        # If imaginary part is negligible, treat as purely real\n",
    "        if abs(i) < 10**(-decimals): return sp.Float(r)\n",
    "        else: return sp.Float(r) + sp.Float(i)*sp.I\n",
    "\n",
    "    # Display the rounded Sympy Matrix\n",
    "    display(SMatrix.applyfunc(round_complex))\n",
    "    return\n",
    "#-------------------------------------------------------------------------\n",
    "\n",
    "# Define the SWAP gate\n",
    "SWAP = np.array([\n",
    "    [1, 0, 0, 0],\n",
    "    [0, 0, 1, 0],\n",
    "    [0, 1, 0, 0],\n",
    "    [0, 0, 0, 1]\n",
    "])\n",
    "\n",
    "# State |01>\n",
    "state = np.array([0, 1, 0, 0])  # \n",
    "\n",
    "# Print the initial state |01>\n",
    "print(\"Initial State:\")\n",
    "sprint(state)\n",
    "print()\n",
    "\n",
    "# Apply SWAP to a 2-qubit state \n",
    "new_state = np.dot(SWAP, state)\n",
    "\n",
    "# Output Results\n",
    "print(\"New State after SWAP:\")\n",
    "sprint(new_state)"
   ]
  },
  {
   "cell_type": "code",
   "execution_count": null,
   "id": "190575a1",
   "metadata": {},
   "outputs": [],
   "source": []
  }
 ],
 "metadata": {
  "kernelspec": {
   "display_name": "Python 3 (ipykernel)",
   "language": "python",
   "name": "python3"
  },
  "language_info": {
   "codemirror_mode": {
    "name": "ipython",
    "version": 3
   },
   "file_extension": ".py",
   "mimetype": "text/x-python",
   "name": "python",
   "nbconvert_exporter": "python",
   "pygments_lexer": "ipython3",
   "version": "3.10.17"
  }
 },
 "nbformat": 4,
 "nbformat_minor": 5
}
