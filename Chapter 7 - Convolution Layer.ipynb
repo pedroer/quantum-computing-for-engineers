{
 "cells": [
  {
   "cell_type": "code",
   "execution_count": 1,
   "id": "11bc7822",
   "metadata": {},
   "outputs": [
    {
     "data": {
      "image/png": "[encoded data removed]",
      "text/plain": [
       "<Figure size 1200x400 with 3 Axes>"
      ]
     },
     "metadata": {},
     "output_type": "display_data"
    }
   ],
   "source": [
    "#-------------------------------------------------------------------------\n",
    "# Convolution Layer\n",
    "# Chapter 7 in the QUANTUM COMPUTING AND QUANTUM MACHINE LEARNING BOOK\n",
    "#-------------------------------------------------------------------------\n",
    "# Version 1.0\n",
    "# (c) 2025 Jesse Van Griensven, Roydon Fraser, and Jose Rosas \n",
    "# License:  MIT - Citation of this work required\n",
    "#-------------------------------------------------------------------------\n",
    "import numpy as np\n",
    "import matplotlib.pyplot as plt\n",
    "from scipy.signal import convolve2d\n",
    "#-------------------------------------------------------------------------\n",
    "\n",
    "# Define a sample image (3x3) and filter (2x2)\n",
    "image = np.array([[1, 2, 3], [4, 5, 6], [7, 8, 9]])\n",
    "filter = np.array([[1, 0], [0, -1]])\n",
    "\n",
    "# Perform convolution\n",
    "output = convolve2d(image, filter, mode='valid')\n",
    "\n",
    "# Plot original image, filter, and convolution result\n",
    "fig, ax = plt.subplots(1, 3, figsize=(12, 4))\n",
    "\n",
    "# Original image\n",
    "ax[0].imshow(image, cmap='gray', aspect='auto')\n",
    "ax[0].set_title(\"Original Image\")\n",
    "ax[0].set_xticks([])\n",
    "ax[0].set_yticks([])\n",
    "\n",
    "# Filter\n",
    "ax[1].imshow(filter, cmap='gray', aspect='auto')\n",
    "ax[1].set_title(\"Filter (Kernel)\")\n",
    "ax[1].set_xticks([])\n",
    "ax[1].set_yticks([])\n",
    "\n",
    "# Convolution output\n",
    "ax[2].imshow(output, cmap='gray', aspect='auto')\n",
    "ax[2].set_title(\"Convolution Output\")\n",
    "ax[2].set_xticks([])\n",
    "ax[2].set_yticks([])\n",
    "\n",
    "plt.show()\n"
   ]
  },
  {
   "cell_type": "code",
   "execution_count": null,
   "id": "aec6c75e",
   "metadata": {},
   "outputs": [],
   "source": []
  }
 ],
 "metadata": {
  "kernelspec": {
   "display_name": "Python 3 (ipykernel)",
   "language": "python",
   "name": "python3"
  },
  "language_info": {
   "codemirror_mode": {
    "name": "ipython",
    "version": 3
   },
   "file_extension": ".py",
   "mimetype": "text/x-python",
   "name": "python",
   "nbconvert_exporter": "python",
   "pygments_lexer": "ipython3",
   "version": "3.10.17"
  }
 },
 "nbformat": 4,
 "nbformat_minor": 5
}
