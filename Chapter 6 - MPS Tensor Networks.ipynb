{
 "cells": [
  {
   "cell_type": "code",
   "execution_count": 2,
   "id": "593d6436",
   "metadata": {},
   "outputs": [
    {
     "name": "stdout",
     "output_type": "stream",
     "text": [
      "Tensor Network Representation:\n",
      "[array([[-0.44604147,  0.46800901],\n",
      "       [-0.57724898,  0.26393992],\n",
      "       [-0.64841075, -0.29116056],\n",
      "       [-0.21770191, -0.79153573]]), array([[-1.00000000e+00, -1.60413471e-17],\n",
      "       [-1.60413471e-17,  1.00000000e+00]]), array([[ 1.57457779,  1.02360684,  1.12493658,  0.99281163],\n",
      "       [ 0.40118875, -0.96403544,  0.2068005 ,  0.12333954]])]\n"
     ]
    }
   ],
   "source": [
    "#-------------------------------------------------------------------------\n",
    "# MPS Tensor Networks\n",
    "# Chapter 6 in the QUANTUM COMPUTING AND QUANTUM MACHINE LEARNING BOOK\n",
    "# MPS decomposition to reduce the dimensionality of classical data\n",
    "#-------------------------------------------------------------------------\n",
    "# Version 1.0\n",
    "# (c) 2025 Jesse Van Griensven, Roydon Fraser, and Jose Rosas \n",
    "# Licence:  MIT - Citation of this work is required\n",
    "#-------------------------------------------------------------------------\n",
    "# Qiskit changes frequently. \n",
    "# We recommend using the latest version from the book code repository at:\n",
    "# https://github.com/pedroer/quantum-computing-for-engineers/blob/main/requirements.txt\n",
    "import numpy as np\n",
    "\n",
    "#-------------------------------------------------------------------------\n",
    "def mps_representation(data, max_rank):\n",
    "    # Example Matrix Product State representation\n",
    "    n = len(data)\n",
    "    tensors = []\n",
    "    for i in range(n - 1):\n",
    "        u, s, vh = np.linalg.svd(data[i], full_matrices=False)\n",
    "        u = u[:, :max_rank]\n",
    "        s = np.diag(s[:max_rank])\n",
    "        vh = vh[:max_rank, :]\n",
    "        tensors.append(u)\n",
    "        data[i + 1] = np.dot(s, vh)\n",
    "    tensors.append(data[-1])\n",
    "    return tensors\n",
    "\n",
    "#-------------------------------------------------------------------------\n",
    "# Example data and usage\n",
    "data    = [np.random.rand(4, 4) for _ in range(3)]\n",
    "tensors = mps_representation(data, max_rank=2)\n",
    "print(\"Tensor Network Representation:\")\n",
    "print(tensors)"
   ]
  },
  {
   "cell_type": "code",
   "execution_count": null,
   "id": "87aae7c8",
   "metadata": {},
   "outputs": [],
   "source": []
  },
  {
   "cell_type": "code",
   "execution_count": null,
   "id": "6d754bea-979b-4e2e-8243-33bf15cab8c1",
   "metadata": {},
   "outputs": [],
   "source": []
  }
 ],
 "metadata": {
  "kernelspec": {
   "display_name": "Python 3 (ipykernel)",
   "language": "python",
   "name": "python3"
  },
  "language_info": {
   "codemirror_mode": {
    "name": "ipython",
    "version": 3
   },
   "file_extension": ".py",
   "mimetype": "text/x-python",
   "name": "python",
   "nbconvert_exporter": "python",
   "pygments_lexer": "ipython3",
   "version": "3.10.17"
  }
 },
 "nbformat": 4,
 "nbformat_minor": 5
}
