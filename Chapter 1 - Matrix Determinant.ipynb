{
 "cells": [
  {
   "cell_type": "code",
   "execution_count": 2,
   "id": "7d4a974a",
   "metadata": {},
   "outputs": [
    {
     "name": "stdout",
     "output_type": "stream",
     "text": [
      "Matrix A:\n"
     ]
    },
    {
     "data": {
      "text/latex": [
       "$\\displaystyle \\left[\\begin{matrix}1 & 2\\\\3 & 4\\end{matrix}\\right]$"
      ],
      "text/plain": [
       "Matrix([\n",
       "[1, 2],\n",
       "[3, 4]])"
      ]
     },
     "metadata": {},
     "output_type": "display_data"
    },
    {
     "name": "stdout",
     "output_type": "stream",
     "text": [
      "\n",
      "Matrix B:\n"
     ]
    },
    {
     "data": {
      "text/latex": [
       "$\\displaystyle \\left[\\begin{matrix}5 & 6\\\\7 & 8\\end{matrix}\\right]$"
      ],
      "text/plain": [
       "Matrix([\n",
       "[5, 6],\n",
       "[7, 8]])"
      ]
     },
     "metadata": {},
     "output_type": "display_data"
    },
    {
     "name": "stdout",
     "output_type": "stream",
     "text": [
      "\n",
      "Determinant of A: -2.0000\n",
      "Determinant of B: -2.0000\n"
     ]
    }
   ],
   "source": [
    "#----------------------------------------------------------------------------\n",
    "# Matrix Determinant\n",
    "# Chapter 1 in the QUANTUM COMPUTING AND QUANTUM MACHINE LEARNING BOOK\n",
    "#----------------------------------------------------------------------------\n",
    "# Version 1.0\n",
    "# (c) 2025 Jesse Van Griensven, Roydon Fraser, and Jose Rosas \n",
    "# Licence:  MIT - Citation required\n",
    "#----------------------------------------------------------------------------\n",
    "# Qiskit changes frequently. \n",
    "# We recommend using the latest version from the book code repository at:\n",
    "# https://github.com/pedroer/quantum-computing-for-engineers/blob/main/requirements.txt\n",
    "import numpy as np\n",
    "\n",
    "# Define the SYMPY routines we need\n",
    "import sympy as sp\n",
    "from IPython.display import display\n",
    "\n",
    "#-------------------------------------------------------------\n",
    "def sprint(Matrix, decimals=4):\n",
    "    \"\"\" Prints a numpy Matrix in a nice format with sympy and specified precision \"\"\"\n",
    "    # The input Matrix can be a Numpy or a Sympy Matrix\n",
    "    SMatrix = sp.Matrix(Matrix)\n",
    "    # Apply the rounding to each element\n",
    "    SMatrix = SMatrix.applyfunc(lambda x: round(float(x), decimals) if isinstance(x, (float, int, sp.Float)) else x)\n",
    "    display(SMatrix)\n",
    "    return\n",
    "#-------------------------------------------------------------\n",
    "\n",
    "# Define Matrices A and B\n",
    "A = np.array([[1, 2], [3, 4]])\n",
    "B = np.array([[5, 6], [7, 8]])\n",
    "\n",
    "det_A = np.linalg.det(A)\n",
    "det_B = np.linalg.det(B)\n",
    "\n",
    "# Print matrices and their determinants\n",
    "print(\"Matrix A:\")\n",
    "sprint(A)\n",
    "print()\n",
    "\n",
    "print(\"Matrix B:\")\n",
    "sprint(B)\n",
    "print()\n",
    "\n",
    "print(\"Determinant of A: {:.4f}\".format(det_A))\n",
    "print(\"Determinant of B: {:.4f}\".format(det_B))\n"
   ]
  },
  {
   "cell_type": "code",
   "execution_count": null,
   "id": "97b40cf1",
   "metadata": {},
   "outputs": [],
   "source": []
  }
 ],
 "metadata": {
  "kernelspec": {
   "display_name": "Python 3 (ipykernel)",
   "language": "python",
   "name": "python3"
  },
  "language_info": {
   "codemirror_mode": {
    "name": "ipython",
    "version": 3
   },
   "file_extension": ".py",
   "mimetype": "text/x-python",
   "name": "python",
   "nbconvert_exporter": "python",
   "pygments_lexer": "ipython3",
   "version": "3.10.17"
  }
 },
 "nbformat": 4,
 "nbformat_minor": 5
}
