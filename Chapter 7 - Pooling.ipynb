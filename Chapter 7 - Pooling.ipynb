{
 "cells": [
  {
   "cell_type": "code",
   "execution_count": 1,
   "id": "d77671a7",
   "metadata": {},
   "outputs": [
    {
     "data": {
      "image/png": "[encoded data removed]",
      "text/plain": [
       "<Figure size 1000x500 with 2 Axes>"
      ]
     },
     "metadata": {},
     "output_type": "display_data"
    }
   ],
   "source": [
    "#-------------------------------------------------------------------------\n",
    "# Pooling\n",
    "# Chapter 7 in the QUANTUM COMPUTING AND QUANTUM MACHINE LEARNING BOOK\n",
    "#-------------------------------------------------------------------------\n",
    "# Version 1.0\n",
    "# (c) 2025 Jesse Van Griensven, Roydon Fraser, and Jose Rosas \n",
    "# License:  MIT - Citation of this work required\n",
    "#-------------------------------------------------------------------------\n",
    "# Qiskit changes frequently. \n",
    "# We recommend using the latest version from the book code repository at:\n",
    "# https://github.com/pedroer/quantum-computing-for-engineers/blob/main/requirements.txt\n",
    "\n",
    "import numpy as np\n",
    "import matplotlib.pyplot as plt\n",
    "from tensorflow.keras.layers import MaxPooling2D\n",
    "import tensorflow as tf\n",
    "#-------------------------------------------------------------------------\n",
    "\n",
    "# Define a simple input (4x4 image) and pooling layer\n",
    "input_data    = np.random.rand(1, 4, 4, 1)  # Batch size: 1, Input size: 4x4, Channels: 1\n",
    "pooling_layer = MaxPooling2D(pool_size=(2, 2))\n",
    "pooled_output = pooling_layer(input_data)\n",
    "\n",
    "# == Convert to 2D arrays for visualization ==\n",
    "# Extracting 4x4 matrix\n",
    "input_image  = input_data[0, :, :, 0] \n",
    "\n",
    "# Extracting 2x2 pooled result\n",
    "pooled_image = pooled_output.numpy()[0, :, :, 0]  \n",
    "\n",
    "# Plot original input and pooled output\n",
    "fig, ax = plt.subplots(1, 2, figsize=(10, 5))\n",
    "\n",
    "# Original image\n",
    "ax[0].imshow(input_image, cmap='Blues', aspect='auto')\n",
    "ax[0].set_title(\"Original 4x4 Image\")\n",
    "ax[0].set_xticks([])\n",
    "ax[0].set_yticks([])\n",
    "\n",
    "# Pooled output\n",
    "ax[1].imshow(pooled_image, cmap='Blues', aspect='auto')\n",
    "ax[1].set_title(\"Pooled 2x2 Output\")\n",
    "ax[1].set_xticks([])\n",
    "ax[1].set_yticks([])\n",
    "\n",
    "plt.show()\n"
   ]
  },
  {
   "cell_type": "code",
   "execution_count": null,
   "id": "cd0ae77b",
   "metadata": {},
   "outputs": [],
   "source": []
  }
 ],
 "metadata": {
  "kernelspec": {
   "display_name": "Python 3 (ipykernel)",
   "language": "python",
   "name": "python3"
  },
  "language_info": {
   "codemirror_mode": {
    "name": "ipython",
    "version": 3
   },
   "file_extension": ".py",
   "mimetype": "text/x-python",
   "name": "python",
   "nbconvert_exporter": "python",
   "pygments_lexer": "ipython3",
   "version": "3.10.17"
  }
 },
 "nbformat": 4,
 "nbformat_minor": 5
}
