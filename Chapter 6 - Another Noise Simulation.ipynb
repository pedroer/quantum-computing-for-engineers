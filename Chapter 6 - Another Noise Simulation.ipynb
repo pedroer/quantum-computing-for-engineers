{
 "cells": [
  {
   "cell_type": "code",
   "execution_count": 3,
   "id": "5ce65dc3",
   "metadata": {},
   "outputs": [
    {
     "name": "stdout",
     "output_type": "stream",
     "text": [
      "Noisy Results: {'00': 517, '11': 507}\n"
     ]
    }
   ],
   "source": [
    "#-------------------------------------------------------------------------\n",
    "# Another Noise Simulation\n",
    "# Chapter 6 in the QUANTUM COMPUTING AND QUANTUM MACHINE LEARNING BOOK\n",
    "#-------------------------------------------------------------------------\n",
    "# Version 1.0\n",
    "# (c) 2025 Jesse Van Griensven, Roydon Fraser, and Jose Rosas \n",
    "# Licence:  MIT - Citation required\n",
    "#-------------------------------------------------------------------------\n",
    "# Qiskit changes frequently. \n",
    "# We recommend using the latest version from the book code repository at:\n",
    "# https://github.com/pedroer/quantum-computing-for-engineers/blob/main/requirements.txt\n",
    "import warnings\n",
    "warnings.filterwarnings('ignore')\n",
    "\n",
    "from qiskit import QuantumCircuit\n",
    "from qiskit.visualization import circuit_drawer\n",
    "\n",
    "from qiskit.providers.aer import AerSimulator\n",
    "from qiskit.providers.aer.noise import NoiseModel, depolarizing_error\n",
    "#-------------------------------------------------------------------------\n",
    "\n",
    "# Define a noise model\n",
    "noise_model = NoiseModel()\n",
    "\n",
    "# Place the \"Noise\" in Hadamard gate\n",
    "noise_model.add_all_qubit_quantum_error(depolarizing_error(0.01, 1), ['h'])  \n",
    "\n",
    "# Create a simple QAOA circuit\n",
    "qc = QuantumCircuit(2)\n",
    "\n",
    "# Apply the Hadamard gate to place qubit zero in superposition\n",
    "qc.h(0)   \n",
    "\n",
    "# Apply the CNOT gate\n",
    "qc.cx(0, 1)  \n",
    "\n",
    "# Now measure\n",
    "qc.measure_all()\n",
    "\n",
    "# Simulate the circuit with noise\n",
    "simulator = AerSimulator(noise_model=noise_model)\n",
    "result    = simulator.run(qc).result()\n",
    "print(\"Noisy Results:\", result.get_counts())\n"
   ]
  },
  {
   "cell_type": "code",
   "execution_count": null,
   "id": "f6f58939",
   "metadata": {},
   "outputs": [],
   "source": []
  },
  {
   "cell_type": "code",
   "execution_count": null,
   "id": "b7887aea-04b8-4db3-bd91-2c25ccda1567",
   "metadata": {},
   "outputs": [],
   "source": []
  }
 ],
 "metadata": {
  "kernelspec": {
   "display_name": "Python 3 (ipykernel)",
   "language": "python",
   "name": "python3"
  },
  "language_info": {
   "codemirror_mode": {
    "name": "ipython",
    "version": 3
   },
   "file_extension": ".py",
   "mimetype": "text/x-python",
   "name": "python",
   "nbconvert_exporter": "python",
   "pygments_lexer": "ipython3",
   "version": "3.10.17"
  }
 },
 "nbformat": 4,
 "nbformat_minor": 5
}
