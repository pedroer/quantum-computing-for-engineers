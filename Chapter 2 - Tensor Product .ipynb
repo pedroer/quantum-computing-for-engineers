{
 "cells": [
  {
   "cell_type": "code",
   "execution_count": 1,
   "id": "dc7103e4",
   "metadata": {},
   "outputs": [
    {
     "name": "stdout",
     "output_type": "stream",
     "text": [
      "q0: |0>:\n"
     ]
    },
    {
     "data": {
      "text/latex": [
       "$\\displaystyle \\left[\\begin{matrix}1.0\\\\0.0\\end{matrix}\\right]$"
      ],
      "text/plain": [
       "Matrix([\n",
       "[1.0],\n",
       "[0.0]])"
      ]
     },
     "metadata": {},
     "output_type": "display_data"
    },
    {
     "name": "stdout",
     "output_type": "stream",
     "text": [
      "q1: |1>:\n"
     ]
    },
    {
     "data": {
      "text/latex": [
       "$\\displaystyle \\left[\\begin{matrix}0.0\\\\1.0\\end{matrix}\\right]$"
      ],
      "text/plain": [
       "Matrix([\n",
       "[0.0],\n",
       "[1.0]])"
      ]
     },
     "metadata": {},
     "output_type": "display_data"
    },
    {
     "name": "stdout",
     "output_type": "stream",
     "text": [
      "Tensor Product:\n"
     ]
    },
    {
     "data": {
      "text/latex": [
       "$\\displaystyle \\left[\\begin{matrix}0.0\\\\1.0\\\\0.0\\\\0.0\\end{matrix}\\right]$"
      ],
      "text/plain": [
       "Matrix([\n",
       "[0.0],\n",
       "[1.0],\n",
       "[0.0],\n",
       "[0.0]])"
      ]
     },
     "metadata": {},
     "output_type": "display_data"
    }
   ],
   "source": [
    "#-------------------------------------------------------------------------\n",
    "# Tensor Product \n",
    "# Chapter 2 in the QUANTUM COMPUTING AND QUANTUM MACHINE LEARNING BOOK\n",
    "#-------------------------------------------------------------------------\n",
    "# Version 1.0\n",
    "# (c) 2025 Jesse Van Griensven, Roydon Fraser, and Jose Rosas \n",
    "# Licence:  MIT - Citation of this work required\n",
    "#-------------------------------------------------------------------------\n",
    "import numpy as np\n",
    "from numpy import kron\n",
    "#----------------------------------------------------------------------------\n",
    "def sprint(Matrix, decimals=4):\n",
    "    \"\"\" Prints a Matrix with real and imaginary parts rounded to 'decimals' \"\"\"\n",
    "    import sympy as sp\n",
    "    SMatrix = sp.Matrix(Matrix)  # Convert to Sympy Matrix if it's not already\n",
    "\n",
    "    def round_complex(x):\n",
    "        \"\"\"Round real and imaginary parts of x to the given number of decimals.\"\"\"\n",
    "        c = complex(x)  # handle any real or complex Sympy expression\n",
    "        r = round(c.real, decimals)\n",
    "        i = round(c.imag, decimals)\n",
    "        # If imaginary part is negligible, treat as purely real\n",
    "        if abs(i) < 10**(-decimals): return sp.Float(r)\n",
    "        else: return sp.Float(r) + sp.Float(i)*sp.I\n",
    "\n",
    "    # Display the rounded Sympy Matrix\n",
    "    display(SMatrix.applyfunc(round_complex))\n",
    "    return\n",
    "#----------------------------------------------------------------------------\n",
    "\n",
    "# Define single-qubit states\n",
    "q0 = np.array([[1], [0]])  # |0>\n",
    "q1 = np.array([[0], [1]])  # |1>\n",
    "\n",
    "# Compute the tensor product\n",
    "joint_state = kron(q0, q1)\n",
    "\n",
    "# Output results\n",
    "print(\"q0: |0>:\")\n",
    "sprint(q0)\n",
    "print(\"q1: |1>:\")\n",
    "sprint(q1)\n",
    "print(\"Tensor Product:\")\n",
    "sprint(joint_state)"
   ]
  },
  {
   "cell_type": "code",
   "execution_count": null,
   "id": "9aea0af3",
   "metadata": {},
   "outputs": [],
   "source": []
  },
  {
   "cell_type": "code",
   "execution_count": null,
   "id": "de1f219a",
   "metadata": {},
   "outputs": [],
   "source": []
  }
 ],
 "metadata": {
  "kernelspec": {
   "display_name": "Python 3 (ipykernel)",
   "language": "python",
   "name": "python3"
  },
  "language_info": {
   "codemirror_mode": {
    "name": "ipython",
    "version": 3
   },
   "file_extension": ".py",
   "mimetype": "text/x-python",
   "name": "python",
   "nbconvert_exporter": "python",
   "pygments_lexer": "ipython3",
   "version": "3.10.17"
  }
 },
 "nbformat": 4,
 "nbformat_minor": 5
}
