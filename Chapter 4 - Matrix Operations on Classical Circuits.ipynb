{
 "cells": [
  {
   "cell_type": "code",
   "execution_count": 1,
   "id": "2fd30a97",
   "metadata": {},
   "outputs": [
    {
     "name": "stdout",
     "output_type": "stream",
     "text": [
      "NOT Gate Output: [0 1]\n",
      "AND Gate Output: [1 0 0 0]\n"
     ]
    }
   ],
   "source": [
    "#-------------------------------------------------------------------------\n",
    "# Matrix Operations on Classical Circuits\n",
    "# Chapter 2 in the QUANTUM COMPUTING AND QUANTUM MACHINE LEARNING BOOK\n",
    "#-------------------------------------------------------------------------\n",
    "# Version 1.0\n",
    "# (c) 2025 Jesse Van Griensven, Roydon Fraser, and Jose Rosas \n",
    "# Licence:  MIT - Citation of this work required\n",
    "#-------------------------------------------------------------------------\n",
    "# Qiskit changes frequently. \n",
    "# We recommend using the latest version from the book code repository at:\n",
    "# https://github.com/pedroer/quantum-computing-for-engineers/blob/main/requirements.txt\n",
    "import numpy as np\n",
    "\n",
    "# NOT logic gates\n",
    "M_NOT = np.array([[0, 1],\n",
    "                  [1, 0]])\n",
    "\n",
    "# AND logic gate\n",
    "M_AND = np.array([[1, 0, 0, 0],  \n",
    "                  [0, 0, 0, 0],\n",
    "                  [0, 0, 0, 0],\n",
    "                  [0, 0, 0, 1]])\n",
    "\n",
    "# Define input states\n",
    "input_NOT = np.array([1, 0])  # |0>\n",
    "input_AND = np.array([1, 0, 0, 0])  # |00>\n",
    "\n",
    "# Apply NOT gate\n",
    "output_NOT = np.dot(M_NOT, input_NOT)\n",
    "\n",
    "# Apply AND gate\n",
    "output_AND = np.dot(M_AND, input_AND)\n",
    "\n",
    "# Print results\n",
    "print(\"NOT Gate Output:\", output_NOT)\n",
    "print(\"AND Gate Output:\", output_AND)\n"
   ]
  },
  {
   "cell_type": "code",
   "execution_count": null,
   "id": "032b16a2",
   "metadata": {},
   "outputs": [],
   "source": []
  }
 ],
 "metadata": {
  "kernelspec": {
   "display_name": "Python 3 (ipykernel)",
   "language": "python",
   "name": "python3"
  },
  "language_info": {
   "codemirror_mode": {
    "name": "ipython",
    "version": 3
   },
   "file_extension": ".py",
   "mimetype": "text/x-python",
   "name": "python",
   "nbconvert_exporter": "python",
   "pygments_lexer": "ipython3",
   "version": "3.10.17"
  }
 },
 "nbformat": 4,
 "nbformat_minor": 5
}
