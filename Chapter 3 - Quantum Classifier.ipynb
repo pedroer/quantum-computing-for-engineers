{
 "cells": [
  {
   "cell_type": "code",
   "execution_count": 1,
   "id": "eeb42446",
   "metadata": {},
   "outputs": [
    {
     "name": "stdout",
     "output_type": "stream",
     "text": [
      "Predictions: ['A' 'B']\n",
      "Accuracy: 1.0\n"
     ]
    }
   ],
   "source": [
    "#-------------------------------------------------------------------------\n",
    "# Quantum Classifier\n",
    "# Chapter 3 in the QUANTUM COMPUTING AND QUANTUM MACHINE LEARNING BOOK\n",
    "#-------------------------------------------------------------------------\n",
    "# Version 1.0\n",
    "# (c) 2025 Jesse Van Griensven, Roydon Fraser, and Jose Rosas \n",
    "# Licence:  MIT - Citation required\n",
    "#-------------------------------------------------------------------------\n",
    "# Qiskit changes frequently. \n",
    "# We recommend using the latest version from the book code repository at:\n",
    "# https://github.com/pedroer/quantum-computing-for-engineers/blob/main/requirements.txt\n",
    "import numpy as np\n",
    "import matplotlib.pyplot as plt\n",
    "import warnings\n",
    "warnings.filterwarnings('ignore')\n",
    "\n",
    "# From Scikit-learn | Classical data preparation and machine learning\n",
    "from sklearn.metrics import accuracy_score\n",
    "from sklearn.preprocessing import LabelEncoder\n",
    "\n",
    "#------------------------------------------------------------------------\n",
    "# Import the Quantum Support Vector Classifier - QSVC\n",
    "from qiskit_machine_learning.algorithms import QSVC\n",
    "\n",
    "from qiskit_machine_learning.kernels import QuantumKernel\n",
    "from qiskit.circuit.library import ZZFeatureMap\n",
    "from qiskit import Aer\n",
    "from qiskit.utils import QuantumInstance\n",
    "\n",
    "\n",
    "#------------------------------------------------------------------------\n",
    "# This section is classical data preparation\n",
    "# Define the dataset\n",
    "training_input = {'A': [[0, 0], [1, 1]], 'B': [[1, 0], [0, 1]]}\n",
    "test_input     = {'A': [[0, 0]], 'B': [[1, 0]]}\n",
    "\n",
    "# Prepare data\n",
    "train_features = [item for sublist in training_input.values() for item in sublist]\n",
    "train_labels   = [key for key, value in training_input.items() for _ in value]\n",
    "\n",
    "test_features  = [item for sublist in test_input.values() for item in sublist]\n",
    "test_labels    = [key for key, value in test_input.items() for _ in value]\n",
    "\n",
    "# Encode labels as integers\n",
    "label_encoder  = LabelEncoder()\n",
    "train_labels   = label_encoder.fit_transform(train_labels)\n",
    "test_labels    = label_encoder.transform(test_labels)\n",
    "\n",
    "# Define a feature map\n",
    "num_features = len(train_features[0])  # Number of features per data point\n",
    "feature_map  = ZZFeatureMap(feature_dimension=num_features, reps=2, entanglement='linear')\n",
    "\n",
    "#------------------------------------------------------------------------\n",
    "# This section applies the Quantum Classifier\n",
    "\n",
    "# Define the quantum kernel\n",
    "quantum_kernel = QuantumKernel(feature_map=feature_map, quantum_instance=QuantumInstance(backend=Aer.get_backend('statevector_simulator')))\n",
    "\n",
    "# Create and train the QSVM\n",
    "qsvc = QSVC(quantum_kernel=quantum_kernel)\n",
    "qsvc.fit(train_features, train_labels)\n",
    "\n",
    "# Predict and evaluate\n",
    "predictions = qsvc.predict(test_features)\n",
    "accuracy    = accuracy_score(test_labels, predictions)\n",
    "\n",
    "#------------------------------------------------------------------------\n",
    "# print the results\n",
    "\n",
    "print(\"Predictions:\", label_encoder.inverse_transform(predictions))\n",
    "print(\"Accuracy:\", accuracy)\n"
   ]
  },
  {
   "cell_type": "code",
   "execution_count": null,
   "id": "a5b7a3c0",
   "metadata": {},
   "outputs": [],
   "source": []
  }
 ],
 "metadata": {
  "kernelspec": {
   "display_name": "Python 3 (ipykernel)",
   "language": "python",
   "name": "python3"
  },
  "language_info": {
   "codemirror_mode": {
    "name": "ipython",
    "version": 3
   },
   "file_extension": ".py",
   "mimetype": "text/x-python",
   "name": "python",
   "nbconvert_exporter": "python",
   "pygments_lexer": "ipython3",
   "version": "3.10.17"
  }
 },
 "nbformat": 4,
 "nbformat_minor": 5
}
