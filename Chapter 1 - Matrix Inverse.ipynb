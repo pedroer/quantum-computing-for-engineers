{
 "cells": [
  {
   "cell_type": "code",
   "execution_count": 6,
   "id": "3f9df4ea",
   "metadata": {},
   "outputs": [
    {
     "name": "stdout",
     "output_type": "stream",
     "text": [
      "Matrix Inverse A:\n"
     ]
    },
    {
     "data": {
      "text/latex": [
       "$\\displaystyle \\left[\\begin{matrix}-2.0 & 1.0\\\\1.5 & -0.5\\end{matrix}\\right]$"
      ],
      "text/plain": [
       "Matrix([\n",
       "[-2.0,  1.0],\n",
       "[ 1.5, -0.5]])"
      ]
     },
     "metadata": {},
     "output_type": "display_data"
    },
    {
     "name": "stdout",
     "output_type": "stream",
     "text": [
      "\n",
      "Matrix Inverse B:\n"
     ]
    },
    {
     "data": {
      "text/latex": [
       "$\\displaystyle \\left[\\begin{matrix}-3.99999999999999 & 2.99999999999999\\\\3.49999999999999 & -2.49999999999999\\end{matrix}\\right]$"
      ],
      "text/plain": [
       "Matrix([\n",
       "[-3.99999999999999,  2.99999999999999],\n",
       "[ 3.49999999999999, -2.49999999999999]])"
      ]
     },
     "metadata": {},
     "output_type": "display_data"
    },
    {
     "name": "stdout",
     "output_type": "stream",
     "text": [
      "\n",
      "Checking A dot its inverse.  We should get the identity matrix\n"
     ]
    },
    {
     "data": {
      "text/latex": [
       "$\\displaystyle \\left[\\begin{matrix}1.0 & 0.0\\\\8.88178419700125 \\cdot 10^{-16} & 1.0\\end{matrix}\\right]$"
      ],
      "text/plain": [
       "Matrix([\n",
       "[                 1.0, 0.0],\n",
       "[8.88178419700125e-16, 1.0]])"
      ]
     },
     "metadata": {},
     "output_type": "display_data"
    }
   ],
   "source": [
    "#----------------------------------------------------------------------------\n",
    "# Matrix Inverse\n",
    "# Chapter 1 in the QUANTUM COMPUTING AND QUANTUM MACHINE LEARNING BOOK\n",
    "#----------------------------------------------------------------------------\n",
    "# Version 1.0\n",
    "# (c) 2025 Jesse Van Griensven, Roydon Fraser, and Jose Rosas \n",
    "# License:  MIT - Citation required\n",
    "#----------------------------------------------------------------------------\n",
    "# Qiskit changes frequently. \n",
    "# We recommend using the latest version from the book code repository at:\n",
    "# https://github.com/pedroer/quantum-computing-for-engineers/blob/main/requirements.txt\n",
    "import numpy as np\n",
    "# Define the SYMPY routines we need\n",
    "import sympy as sp\n",
    "\n",
    "#-------------------------------------------------------------\n",
    "def sprint(Matrix):\n",
    "    \"\"\" Prints a numpy Matrix in a nice format with sympy \"\"\"\n",
    "    # The input Matrix can be a Numpy or a Sympy Matrix\n",
    "    SMatrix = sp.Matrix(Matrix)\n",
    "    display( SMatrix )\n",
    "    return\n",
    "#-------------------------------------------------------------\n",
    "\n",
    "# Define Matrices A and B\n",
    "A = np.array([[1, 2], [3, 4]])\n",
    "B = np.array([[5, 6], [7, 8]])\n",
    "\n",
    "# Execute the Matrix Inversions \n",
    "A_inv = np.linalg.inv(A)\n",
    "B_inv = np.linalg.inv(B)\n",
    "\n",
    "# Print Results\n",
    "print(\"Matrix Inverse A:\")\n",
    "sprint(A_inv)\n",
    "print()\n",
    "\n",
    "print(\"Matrix Inverse B:\")\n",
    "sprint(B_inv)\n",
    "print()\n",
    "\n",
    "# Check if the inverse is correct.  Multiplying a Matrix by its inverse should yield the identity matrix\n",
    "print(\"Checking A dot its inverse.  We should get the identity matrix\")\n",
    "sprint(np.dot(A, A_inv))\n"
   ]
  }
 ],
 "metadata": {
  "kernelspec": {
   "display_name": "Python 3 (ipykernel)",
   "language": "python",
   "name": "python3"
  },
  "language_info": {
   "codemirror_mode": {
    "name": "ipython",
    "version": 3
   },
   "file_extension": ".py",
   "mimetype": "text/x-python",
   "name": "python",
   "nbconvert_exporter": "python",
   "pygments_lexer": "ipython3",
   "version": "3.10.17"
  }
 },
 "nbformat": 4,
 "nbformat_minor": 5
}
