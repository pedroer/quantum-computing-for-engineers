{
 "cells": [
  {
   "cell_type": "code",
   "execution_count": 1,
   "id": "9791c8f7",
   "metadata": {},
   "outputs": [
    {
     "name": "stderr",
     "output_type": "stream",
     "text": [
      "/Users/pedro/.pyenv/versions/doc/lib/python3.10/site-packages/qiskit/visualization/circuit/matplotlib.py:164: UserWarning: Style JSON file 'iqp.json' not found in any of these locations: /Users/pedro/.pyenv/versions/doc/lib/python3.10/site-packages/qiskit/visualization/circuit/styles/iqp.json, iqp.json. Will use default style.\n",
      "  self._style, def_font_ratio = load_style(style)\n"
     ]
    },
    {
     "data": {
      "image/png": "[encoded data removed]",
      "text/plain": [
       "<Figure size 413.165x200.667 with 1 Axes>"
      ]
     },
     "metadata": {},
     "output_type": "display_data"
    },
    {
     "name": "stdout",
     "output_type": "stream",
     "text": [
      "{'1': 529, '0': 495}\n"
     ]
    }
   ],
   "source": [
    "#-------------------------------------------------------------------------\n",
    "# Quantum Depolarizing Noise Simulation\n",
    "# Chapter 4 in the QUANTUM COMPUTING AND QUANTUM MACHINE LEARNING BOOK\n",
    "#-------------------------------------------------------------------------\n",
    "# Version 1.0\n",
    "# (c) 2025 Jesse Van Griensven, Roydon Fraser, and Jose Rosas \n",
    "# Licence:  MIT - Citation of this work required\n",
    "#-------------------------------------------------------------------------\n",
    "# Qiskit changes frequently. \n",
    "# We recommend using the latest version from the book code repository at:\n",
    "# https://github.com/pedroer/quantum-computing-for-engineers/blob/main/requirements.txt\n",
    "import numpy as np\n",
    "from qiskit import QuantumCircuit, Aer, execute  \n",
    "from qiskit.visualization import circuit_drawer\n",
    "from qiskit.providers.aer.noise import NoiseModel, depolarizing_error \n",
    "#-------------------------------------------------------------------------\n",
    "\n",
    "# Create a quantum circuit  \n",
    "qc = QuantumCircuit(1)\n",
    "\n",
    "# Apply Hadamard gate  \n",
    "qc.h(0)  \n",
    "\n",
    "# Execute the measurement\n",
    "qc.measure_all()  \n",
    "\n",
    "# Draw the circuits\n",
    "display(circuit_drawer(qc, output='mpl', style=\"iqp\"))\n",
    "\n",
    "# Define a depolarizing noise model  \n",
    "noise_model = NoiseModel()  \n",
    "noise_model.add_all_qubit_quantum_error(depolarizing_error(0.1, 1), ['h'])  \n",
    "\n",
    "# Simulate the circuit with noise  \n",
    "simulator = Aer.get_backend('aer_simulator')  \n",
    "result    = execute(qc, simulator, noise_model=noise_model).result()  \n",
    "print(result.get_counts())  \n"
   ]
  },
  {
   "cell_type": "code",
   "execution_count": null,
   "id": "20ea1971",
   "metadata": {},
   "outputs": [],
   "source": []
  }
 ],
 "metadata": {
  "kernelspec": {
   "display_name": "Python 3 (ipykernel)",
   "language": "python",
   "name": "python3"
  },
  "language_info": {
   "codemirror_mode": {
    "name": "ipython",
    "version": 3
   },
   "file_extension": ".py",
   "mimetype": "text/x-python",
   "name": "python",
   "nbconvert_exporter": "python",
   "pygments_lexer": "ipython3",
   "version": "3.10.17"
  }
 },
 "nbformat": 4,
 "nbformat_minor": 5
}
