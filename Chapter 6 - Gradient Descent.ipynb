{
 "cells": [
  {
   "cell_type": "code",
   "execution_count": 2,
   "id": "594a8826",
   "metadata": {},
   "outputs": [
    {
     "name": "stdout",
     "output_type": "stream",
     "text": [
      "Optimal x: -1.9999999975555567\n",
      "Minimum value: 0.0\n"
     ]
    }
   ],
   "source": [
    "#-------------------------------------------------------------------------\n",
    "# Gradient Descent\n",
    "# Chapter 6 in the QUANTUM COMPUTING AND QUANTUM MACHINE LEARNING BOOK\n",
    "#-------------------------------------------------------------------------\n",
    "# Version 1.0\n",
    "# (c) 2025 Jesse Van Griensven, Roydon Fraser, and Jose Rosas \n",
    "# Licence:  MIT - Citation of this work is required\n",
    "#-------------------------------------------------------------------------\n",
    "###\n",
    "import numpy as np\n",
    "\n",
    "# Define a quadratic cost function\n",
    "def cost_function(x): \n",
    "    return x**2 + 4 * x + 4\n",
    "\n",
    "# Gradient of the cost function\n",
    "def gradient(x): \n",
    "    return 2 * x + 4\n",
    "\n",
    "# Perform gradient descent\n",
    "x = 10  # Initial guess\n",
    "alpha = 0.1  # Learning rate\n",
    "for _ in range(100): \n",
    "    x = x - alpha * gradient(x)\n",
    "\n",
    "print(\"Optimal x:\", x)\n",
    "print(\"Minimum value:\", cost_function(x))\n"
   ]
  },
  {
   "cell_type": "code",
   "execution_count": null,
   "id": "7d3b7cb5",
   "metadata": {},
   "outputs": [],
   "source": []
  }
 ],
 "metadata": {
  "kernelspec": {
   "display_name": "Python 3 (ipykernel)",
   "language": "python",
   "name": "python3"
  },
  "language_info": {
   "codemirror_mode": {
    "name": "ipython",
    "version": 3
   },
   "file_extension": ".py",
   "mimetype": "text/x-python",
   "name": "python",
   "nbconvert_exporter": "python",
   "pygments_lexer": "ipython3",
   "version": "3.10.17"
  }
 },
 "nbformat": 4,
 "nbformat_minor": 5
}
