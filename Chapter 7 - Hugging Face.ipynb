{
 "cells": [
  {
   "cell_type": "code",
   "execution_count": 1,
   "id": "0be85dc4",
   "metadata": {
    "scrolled": true
   },
   "outputs": [
    {
     "name": "stderr",
     "output_type": "stream",
     "text": [
      "/Users/pedro/.pyenv/versions/doc/lib/python3.10/site-packages/tqdm/auto.py:21: TqdmWarning: IProgress not found. Please update jupyter and ipywidgets. See https://ipywidgets.readthedocs.io/en/stable/user_install.html\n",
      "  from .autonotebook import tqdm as notebook_tqdm\n",
      "/Users/pedro/.pyenv/versions/doc/lib/python3.10/site-packages/transformers/models/marian/tokenization_marian.py:175: UserWarning: Recommended: pip install sacremoses.\n",
      "  warnings.warn(\"Recommended: pip install sacremoses.\")\n",
      "Device set to use mps:0\n"
     ]
    },
    {
     "name": "stdout",
     "output_type": "stream",
     "text": [
      "Original: How are you?\n",
      "Translated: ¿Cómo estás?\n"
     ]
    },
    {
     "data": {
      "image/png": "[encoded data removed]",
      "text/plain": [
       "<Figure size 600x400 with 1 Axes>"
      ]
     },
     "metadata": {},
     "output_type": "display_data"
    }
   ],
   "source": [
    "#-------------------------------------------------------------------------\n",
    "# Hugging Face \n",
    "# Chapter 7 in the QUANTUM COMPUTING AND QUANTUM MACHINE LEARNING BOOK\n",
    "#-------------------------------------------------------------------------\n",
    "# Version 1.0\n",
    "# (c) 2025 Jesse Van Griensven, Roydon Fraser, and Jose Rosas \n",
    "# License:  MIT - Citation of this work required\n",
    "#-------------------------------------------------------------------------\n",
    "# Qiskit changes frequently. \n",
    "# We recommend using the latest version from the book code repository at:\n",
    "# https://github.com/pedroer/quantum-computing-for-engineers/blob/main/requirements.txt\n",
    "import numpy as np\n",
    "import matplotlib.pyplot as plt\n",
    "from transformers import pipeline\n",
    "#-------------------------------------------------------------------------\n",
    "\n",
    "# Load translation pipeline\n",
    "translator = pipeline(\"translation\", model=\"Helsinki-NLP/opus-mt-en-es\")\n",
    "\n",
    "# Example English sentence\n",
    "text = \"How are you?\"\n",
    "\n",
    "# Perform translation\n",
    "translation = translator(text)[0]['translation_text']\n",
    "\n",
    "# Print translated text\n",
    "print(\"Original:\", text)\n",
    "print(\"Translated:\", translation)\n",
    "\n",
    "#-------------------------------------------------------------------------\n",
    "# Visualizing translation accuracy using word alignment (basic)\n",
    "words_en = text.split()\n",
    "words_es = translation.split()\n",
    "\n",
    "# Pad words for alignment visualization\n",
    "max_length = max(len(words_en), len(words_es))\n",
    "words_en += [\"\"] * (max_length - len(words_en))\n",
    "words_es += [\"\"] * (max_length - len(words_es))\n",
    "\n",
    "# Plot word alignment\n",
    "plt.figure(figsize=(6, 4))\n",
    "plt.scatter(range(len(words_en)), [1] * len(words_en), color=\"blue\", label=\"English Words\")\n",
    "plt.scatter(range(len(words_es)), [0] * len(words_es), color=\"red\", label=\"Spanish Words\")\n",
    "\n",
    "# Connect corresponding words\n",
    "for i in range(len(words_en)):\n",
    "    plt.plot([i, i], [1, 0], \"k-\", alpha=0.6)\n",
    "\n",
    "plt.xticks(range(len(words_en)), words_en, rotation=45)\n",
    "plt.yticks([0, 1], [\"Spanish\", \"English\"])\n",
    "plt.title(\"Word Alignment (Translation)\")\n",
    "plt.legend()\n",
    "plt.grid(alpha=0.3)\n",
    "plt.show()\n"
   ]
  },
  {
   "cell_type": "code",
   "execution_count": null,
   "id": "a0845cb7",
   "metadata": {},
   "outputs": [],
   "source": []
  },
  {
   "cell_type": "code",
   "execution_count": null,
   "id": "089cfdd8",
   "metadata": {},
   "outputs": [],
   "source": []
  },
  {
   "cell_type": "code",
   "execution_count": null,
   "id": "907f9c6c",
   "metadata": {},
   "outputs": [],
   "source": []
  }
 ],
 "metadata": {
  "kernelspec": {
   "display_name": "Python 3 (ipykernel)",
   "language": "python",
   "name": "python3"
  },
  "language_info": {
   "codemirror_mode": {
    "name": "ipython",
    "version": 3
   },
   "file_extension": ".py",
   "mimetype": "text/x-python",
   "name": "python",
   "nbconvert_exporter": "python",
   "pygments_lexer": "ipython3",
   "version": "3.10.17"
  }
 },
 "nbformat": 4,
 "nbformat_minor": 5
}
