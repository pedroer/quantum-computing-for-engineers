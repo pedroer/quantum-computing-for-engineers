{
 "cells": [
  {
   "cell_type": "code",
   "execution_count": 1,
   "id": "1da3b353",
   "metadata": {},
   "outputs": [
    {
     "name": "stdout",
     "output_type": "stream",
     "text": [
      "vectors in R^3\n",
      "v1: \n",
      " [1 0 0]\n",
      "v2: \n",
      " [0 1 0]\n",
      "v3: \n",
      " [0 0 1]\n",
      "\n",
      "Target Vector: \n",
      " [1 2 3]\n",
      "\n",
      "Basis Vector:\n"
     ]
    },
    {
     "data": {
      "text/latex": [
       "$\\displaystyle \\left[\\begin{matrix}1 & 0 & 0\\\\0 & 1 & 0\\\\0 & 0 & 1\\end{matrix}\\right]$"
      ],
      "text/plain": [
       "Matrix([\n",
       "[1, 0, 0],\n",
       "[0, 1, 0],\n",
       "[0, 0, 1]])"
      ]
     },
     "metadata": {},
     "output_type": "display_data"
    },
    {
     "name": "stdout",
     "output_type": "stream",
     "text": [
      "\n",
      "The target vector is a linear combination.\n",
      "Solution (coefficients): [1. 2. 3.]\n",
      "Linear Combination of v1 and v2: [2 3 0]\n"
     ]
    }
   ],
   "source": [
    "#----------------------------------------------------------------------------\n",
    "# Vector Spaces\n",
    "# Chapter 1 in the QUANTUM COMPUTING AND QUANTUM MACHINE lEARNING BOOK\n",
    "#----------------------------------------------------------------------------\n",
    "# Version 1.0\n",
    "# (c) 2025 Jesse Van Griensven, Roydon Fraser, and Jose Rosas \n",
    "# Licence:  MIT - Citation required\n",
    "#----------------------------------------------------------------------------\n",
    "# Qiskit changes frequently. \n",
    "# We recommend using the latest version from the book code repository at:\n",
    "# https://github.com/pedroer/quantum-computing-for-engineers/blob/main/requirements.txt\n",
    "import numpy as np\n",
    "import sympy as sp\n",
    "#-------------------------------------------------------------\n",
    "def sprint(Matrix):\n",
    "    \"\"\" Prints a numpy Matrix in a nice format with sympy \"\"\"\n",
    "    # The input Matrix can be a Numpy or a Sympy Matrix\n",
    "    SMatrix = sp.Matrix(Matrix)\n",
    "    display( SMatrix )\n",
    "    return\n",
    "\n",
    "#-------------------------------------------------------------\n",
    "# Check if a vector is a linear combination of v1, v2, v3\n",
    "def is_linear_combination(target, basis_vectors):\n",
    "    # Solve the system Ax = b, where A = basis_vectors, b = target\n",
    "    A = np.column_stack(basis_vectors)\n",
    "    b = target\n",
    "    try:\n",
    "        solution = np.linalg.solve(A, b)\n",
    "        print(\"The target vector is a linear combination.\")\n",
    "        print(\"Solution (coefficients):\", solution)\n",
    "    except np.linalg.LinAlgError:\n",
    "        print(\"The target vector is NOT a linear combination.\")\n",
    "        \n",
    "    return\n",
    "#-------------------------------------------------------------\n",
    "\n",
    "# Define vectors in R^3\n",
    "v1 = np.array([1, 0, 0])\n",
    "v2 = np.array([0, 1, 0])\n",
    "v3 = np.array([0, 0, 1])\n",
    "\n",
    "# Target vector\n",
    "target_vector = np.array([1, 2, 3])\n",
    "basis_vectors = [v1, v2, v3]\n",
    "\n",
    "# Print Inputs\n",
    "print(\"vectors in R^3\")\n",
    "print(\"v1: \\n\", v1)\n",
    "print(\"v2: \\n\", v2)\n",
    "print(\"v3: \\n\", v3)\n",
    "print()\n",
    "print(\"Target Vector: \\n\", target_vector)\n",
    "print()\n",
    "print(\"Basis Vector:\")\n",
    "sprint(basis_vectors)\n",
    "print()\n",
    "\n",
    "\n",
    "# Check if a vector is a linear combination of v1, v2, v3\n",
    "is_linear_combination(target_vector, basis_vectors)\n",
    "\n",
    "# Span demonstration: create a span of vectors\n",
    "span_vectors = [v1, v2]\n",
    "linear_combination = 2 * v1 + 3 * v2\n",
    "print(\"Linear Combination of v1 and v2:\", linear_combination)\n"
   ]
  },
  {
   "cell_type": "code",
   "execution_count": null,
   "id": "c9e6379a",
   "metadata": {},
   "outputs": [],
   "source": []
  }
 ],
 "metadata": {
  "kernelspec": {
   "display_name": "Python 3 (ipykernel)",
   "language": "python",
   "name": "python3"
  },
  "language_info": {
   "codemirror_mode": {
    "name": "ipython",
    "version": 3
   },
   "file_extension": ".py",
   "mimetype": "text/x-python",
   "name": "python",
   "nbconvert_exporter": "python",
   "pygments_lexer": "ipython3",
   "version": "3.10.17"
  }
 },
 "nbformat": 4,
 "nbformat_minor": 5
}
