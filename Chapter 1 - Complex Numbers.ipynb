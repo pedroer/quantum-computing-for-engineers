{
 "cells": [
  {
   "cell_type": "code",
   "execution_count": 2,
   "id": "42b48ca6",
   "metadata": {},
   "outputs": [
    {
     "name": "stdout",
     "output_type": "stream",
     "text": [
      "Addition of complex numbers:\n",
      "(3+4j) + (1-2j) = (4+2j)\n",
      "\n",
      "Multiplication of complex numbers:\n",
      "(3+4j) * (1-2j) = (11-2j)\n",
      "\n",
      "Conjugate of complex numbers:\n",
      "Conjugate of (3+4j) = (3-4j)\n",
      "Conjugate of (1-2j) = (1+2j)\n"
     ]
    }
   ],
   "source": [
    "#-------------------------------------------------------------------------\n",
    "# Chapter 1 Complex Numbers\n",
    "# Chapter 1 in the QUANTUM COMPUTING AND QUANTUM MACHINE LEARNING BOOK\n",
    "#-------------------------------------------------------------------------\n",
    "# Version 1.0\n",
    "# (c) 2025 Jesse Van Griensven, Roydon Fraser, and Jose Rosas \n",
    "# Licence:  MIT - Citation required\n",
    "#-------------------------------------------------------------------------\n",
    "import numpy as np\n",
    "\n",
    "# Define two complex numbers\n",
    "complex_num1 = 3 + 4j  # 3 + 4i\n",
    "complex_num2 = 1 - 2j  # 1 - 2i\n",
    "\n",
    "# Addition of complex numbers\n",
    "complex_sum = complex_num1 + complex_num2\n",
    "# The real parts are added together, and the imaginary parts are added together\n",
    "# (3 + 1) + (4 - 2)i = 4 + 2i\n",
    "print(\"Addition of complex numbers:\")\n",
    "print(f\"{complex_num1} + {complex_num2} = {complex_sum}\")\n",
    "print()\n",
    "\n",
    "# Multiplication of complex numbers\n",
    "complex_product = complex_num1 * complex_num2\n",
    "# Use the distributive property: (3 + 4i)(1 - 2i) = 3 - 6i + 4i - 8i^2\n",
    "# Remember i^2 = -1, so it becomes: 3 - 2i + 8 = 11 - 2i\n",
    "\n",
    "print(\"Multiplication of complex numbers:\")\n",
    "print(f\"{complex_num1} * {complex_num2} = {complex_product}\")\n",
    "print()\n",
    "\n",
    "# Conjugate of a complex number\n",
    "# The conjugate of a complex number changes the sign of the imaginary part\n",
    "# For example, the conjugate of 3 + 4i is 3 - 4i\n",
    "complex_conjugate1 = complex_num1.conjugate()\n",
    "complex_conjugate2 = complex_num2.conjugate()\n",
    "\n",
    "print(\"Conjugate of complex numbers:\")\n",
    "print(f\"Conjugate of {complex_num1} = {complex_conjugate1}\")\n",
    "print(f\"Conjugate of {complex_num2} = {complex_conjugate2}\")\n"
   ]
  },
  {
   "cell_type": "code",
   "execution_count": null,
   "id": "83228942",
   "metadata": {},
   "outputs": [],
   "source": []
  }
 ],
 "metadata": {
  "kernelspec": {
   "display_name": "Python 3 (ipykernel)",
   "language": "python",
   "name": "python3"
  },
  "language_info": {
   "codemirror_mode": {
    "name": "ipython",
    "version": 3
   },
   "file_extension": ".py",
   "mimetype": "text/x-python",
   "name": "python",
   "nbconvert_exporter": "python",
   "pygments_lexer": "ipython3",
   "version": "3.10.17"
  }
 },
 "nbformat": 4,
 "nbformat_minor": 5
}
