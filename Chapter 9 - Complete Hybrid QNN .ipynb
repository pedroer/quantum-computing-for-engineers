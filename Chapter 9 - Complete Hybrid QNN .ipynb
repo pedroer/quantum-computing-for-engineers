{
 "cells": [
  {
   "cell_type": "code",
   "execution_count": 14,
   "id": "83158277",
   "metadata": {},
   "outputs": [
    {
     "name": "stdout",
     "output_type": "stream",
     "text": [
      "Quantum Circuit:\n",
      "     ┌────────┐┌────────┐               \n",
      "q_0: ┤ Ry(x0) ├┤ Ry(θ0) ├──■────────────\n",
      "     ├────────┤├────────┤┌─┴─┐┌────────┐\n",
      "q_1: ┤ Ry(x1) ├┤ Ry(θ1) ├┤ X ├┤ Ry(θ2) ├\n",
      "     └────────┘└────────┘└───┘└────────┘\n"
     ]
    },
    {
     "name": "stderr",
     "output_type": "stream",
     "text": [
      "/var/folders/z3/sk2c0q6j5jqfyd9r8pm2_vrr0000gp/T/ipykernel_24970/1669300712.py:54: DeprecationWarning: The class ``qiskit.utils.quantum_instance.QuantumInstance`` is deprecated as of qiskit-terra 0.24.0. It will be removed no earlier than 3 months after the release date. For code migration guidelines, visit https://qisk.it/qi_migration.\n",
      "  quantum_instance = QuantumInstance(Aer.get_backend('aer_simulator'), shots=1024)\n"
     ]
    },
    {
     "name": "stdout",
     "output_type": "stream",
     "text": [
      "\n",
      "Test Predictions:\n",
      "Input: [0 1] → Predicted Label: 0\n",
      "Input: [1 0] → Predicted Label: 1\n"
     ]
    },
    {
     "name": "stderr",
     "output_type": "stream",
     "text": [
      "/var/folders/z3/sk2c0q6j5jqfyd9r8pm2_vrr0000gp/T/ipykernel_24970/1669300712.py:96: UserWarning: You passed a edgecolor/edgecolors ('black') for an unfilled marker ('x').  Matplotlib is ignoring the edgecolor in favor of the facecolor.  This behavior may change in the future.\n",
      "  plt.scatter(X_test[:, 0], X_test[:, 1], c=predictions, marker='x', label='Test Data', edgecolors='black')\n"
     ]
    },
    {
     "data": {
      "image/png": "[encoded data removed]",
      "text/plain": [
       "<Figure size 600x500 with 1 Axes>"
      ]
     },
     "metadata": {},
     "output_type": "display_data"
    }
   ],
   "source": [
    "#-------------------------------------------------------------------------\n",
    "# Complete Hybrid QNN \n",
    "# Chapter 9 in the QUANTUM COMPUTING AND QUANTUM MACHINE LEARNING BOOK\n",
    "#-------------------------------------------------------------------------\n",
    "# Version 1.1\n",
    "# (c) 2025 Jesse Van Griensven, Roydon Fraser, and Jose Rosas \n",
    "# License:  MIT - Citation of this work required\n",
    "#-------------------------------------------------------------------------\n",
    "\n",
    "import numpy as np\n",
    "import matplotlib.pyplot as plt\n",
    "from qiskit import Aer, QuantumCircuit\n",
    "from qiskit.circuit import Parameter\n",
    "from qiskit.utils import QuantumInstance, algorithm_globals\n",
    "from qiskit.algorithms.optimizers import COBYLA\n",
    "from qiskit_machine_learning.algorithms.classifiers import NeuralNetworkClassifier\n",
    "from qiskit_machine_learning.neural_networks import SamplerQNN\n",
    "from qiskit.primitives import Sampler\n",
    "# Set random seed for reproducibility\n",
    "algorithm_globals.random_seed = 42\n",
    "\n",
    "# Step 1: Define the Quantum Neural Network (QNN)\n",
    "def create_quantum_circuit():\n",
    "    \"\"\"Create a parameterized quantum circuit for the QNN.\"\"\"\n",
    "    circuit = QuantumCircuit(2)  # 2-qubit quantum circuit\n",
    "\n",
    "    # Define trainable parameters (weights)\n",
    "    theta_0 = Parameter('θ0')\n",
    "    theta_1 = Parameter('θ1')\n",
    "    theta_2 = Parameter('θ2')\n",
    "\n",
    "    # Define input encoding parameters\n",
    "    x_0 = Parameter('x0')\n",
    "    x_1 = Parameter('x1')\n",
    "\n",
    "    # Encode input data into quantum state\n",
    "    circuit.ry(x_0, 0)\n",
    "    circuit.ry(x_1, 1)\n",
    "\n",
    "    # Apply trainable quantum layers\n",
    "    circuit.ry(theta_0, 0)\n",
    "    circuit.ry(theta_1, 1)\n",
    "    circuit.cx(0, 1)  # Entanglement using a CNOT gate\n",
    "    circuit.ry(theta_2, 1)\n",
    "\n",
    "    return circuit, [x_0, x_1]\n",
    "\n",
    "quantum_circuit, input_params = create_quantum_circuit()\n",
    "print(\"Quantum Circuit:\")\n",
    "print(quantum_circuit.draw())\n",
    "\n",
    "# Step 2: Define the QNN with the SamplerQNN Class\n",
    "quantum_instance = QuantumInstance(Aer.get_backend('aer_simulator'), shots=1024)\n",
    "\n",
    "weight_params = list(set(quantum_circuit.parameters) - set(input_params))\n",
    "\n",
    "sampler = Sampler()\n",
    "qnn = SamplerQNN(\n",
    "    circuit=quantum_circuit,\n",
    "    input_params=input_params,\n",
    "    weight_params=weight_params,\n",
    "    interpret=lambda x: x,\n",
    "    output_shape=4,\n",
    "    sampler=sampler\n",
    ")\n",
    "\n",
    "\n",
    "# Step 3: Prepare a Simple Dataset for Binary Classification\n",
    "X_train = np.array([[0, 1], [1, 0], [1, 1], [0, 0]])  # Input features\n",
    "y_train = np.array([0, 1, 1, 0])  # Fix: Ensure correct binary labels\n",
    "\n",
    "# Step 4: Use NeuralNetworkClassifier to Train the QNN\n",
    "classifier = NeuralNetworkClassifier(\n",
    "    neural_network=qnn,\n",
    "    optimizer=COBYLA(maxiter=200),\n",
    "    loss='squared_error',  # Fix: Ensure loss function is appropriate\n",
    "    one_hot=False\n",
    ")\n",
    "\n",
    "# Train the QNN on the dataset\n",
    "classifier.fit(X_train, y_train)  # Fix: Now input shape matches QNN expectation\n",
    "\n",
    "# Step 5: Test the QNN\n",
    "X_test = np.array([[0, 1], [1, 0]])\n",
    "predictions = classifier.predict(X_test)\n",
    "\n",
    "print(\"\\nTest Predictions:\")\n",
    "for i, prediction in enumerate(predictions):\n",
    "    print(f\"Input: {X_test[i]} → Predicted Label: {prediction}\")\n",
    "\n",
    "# Step 6: Visualization of Results\n",
    "plt.figure(figsize=(6, 5))\n",
    "plt.title(\"QNN Predictions\")\n",
    "plt.scatter(X_train[:, 0], X_train[:, 1], c=y_train, marker='o', label='Train Data', edgecolors='black')\n",
    "plt.scatter(X_test[:, 0], X_test[:, 1], c=predictions, marker='x', label='Test Data', edgecolors='black')\n",
    "\n",
    "plt.xlabel('Feature 1')\n",
    "plt.ylabel('Feature 2')\n",
    "plt.legend()\n",
    "plt.grid()\n",
    "plt.show()\n"
   ]
  },
  {
   "cell_type": "code",
   "execution_count": null,
   "id": "630d5e35",
   "metadata": {},
   "outputs": [],
   "source": []
  }
 ],
 "metadata": {
  "kernelspec": {
   "display_name": "Python 3 (ipykernel)",
   "language": "python",
   "name": "python3"
  },
  "language_info": {
   "codemirror_mode": {
    "name": "ipython",
    "version": 3
   },
   "file_extension": ".py",
   "mimetype": "text/x-python",
   "name": "python",
   "nbconvert_exporter": "python",
   "pygments_lexer": "ipython3",
   "version": "3.10.17"
  }
 },
 "nbformat": 4,
 "nbformat_minor": 5
}
