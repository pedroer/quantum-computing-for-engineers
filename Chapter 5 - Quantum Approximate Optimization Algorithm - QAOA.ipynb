{
 "cells": [
  {
   "cell_type": "code",
   "execution_count": 1,
   "id": "07893b20",
   "metadata": {},
   "outputs": [
    {
     "name": "stdout",
     "output_type": "stream",
     "text": [
      "QAOA Results: {'01': 20, '10': 12, '00': 523, '11': 469}\n"
     ]
    },
    {
     "data": {
      "image/png": "[encoded data removed]",
      "text/plain": [
       "<Figure size 747.609x284.278 with 1 Axes>"
      ]
     },
     "metadata": {},
     "output_type": "display_data"
    }
   ],
   "source": [
    "#-------------------------------------------------------------------------\n",
    "# Quantum Approximate Optimization Algorithm - QAOA\n",
    "# Chapter 5 in the QUANTUM COMPUTING AND QUANTUM MACHINE LEARNING BOOK\n",
    "#-------------------------------------------------------------------------\n",
    "# Version 1.0\n",
    "# (c) 2025 Jesse Van Griensven, Roydon Fraser, and Jose Rosas \n",
    "# Licence:  MIT - Citation of this work required\n",
    "#-------------------------------------------------------------------------\n",
    "# Qiskit changes frequently. \n",
    "# We recommend using the latest version from the book code repository at:\n",
    "# https://github.com/pedroer/quantum-computing-for-engineers/blob/main/requirements.txt\n",
    "from qiskit import QuantumCircuit, Aer, execute\n",
    "from qiskit.circuit import Parameter\n",
    "\n",
    "import warnings\n",
    "warnings.filterwarnings('ignore')\n",
    "from qiskit.visualization import circuit_drawer\n",
    "#-------------------------------------------------------------------------\n",
    "\n",
    "# Define parameters\n",
    "# gamma: A parameter associated with the cost Hamiltonian. \n",
    "# gamma determines how strongly the cost Hamiltonian influences the evolution of the quantum state during the optimization.\n",
    "gamma = Parameter('γ')\n",
    "\n",
    "# beta: A parameter associated with the mixing Hamiltonian. \n",
    "# beta governs the amplitude mixing between different states in the quantum superposition.\n",
    "beta  = Parameter('β')\n",
    "\n",
    "# Create a QAOA circuit\n",
    "qc = QuantumCircuit(2)\n",
    "qc.h([0, 1])             # Initialize qubits in superposition\n",
    "qc.cz(0, 1)              # Cost Hamiltonian\n",
    "qc.rz(2 * gamma, [0, 1])\n",
    "qc.rx(2 * beta, [0, 1])  # Mixing Hamiltonian\n",
    "qc.measure_all()\n",
    "\n",
    "# Simulate the circuit\n",
    "simulator = Aer.get_backend('qasm_simulator')\n",
    "result    = execute(qc.bind_parameters({gamma: 1.0, beta: 0.5}), simulator, shots=1024).result()\n",
    "counts    = result.get_counts()\n",
    "\n",
    "# Print Results\n",
    "print(\"QAOA Results:\", counts)\n",
    "\n",
    "# Draw the circuit\n",
    "display(circuit_drawer(qc, output='mpl', style=\"iqp\"))"
   ]
  },
  {
   "cell_type": "code",
   "execution_count": null,
   "id": "9a4b9456",
   "metadata": {},
   "outputs": [],
   "source": []
  }
 ],
 "metadata": {
  "kernelspec": {
   "display_name": "Python 3 (ipykernel)",
   "language": "python",
   "name": "python3"
  },
  "language_info": {
   "codemirror_mode": {
    "name": "ipython",
    "version": 3
   },
   "file_extension": ".py",
   "mimetype": "text/x-python",
   "name": "python",
   "nbconvert_exporter": "python",
   "pygments_lexer": "ipython3",
   "version": "3.10.17"
  }
 },
 "nbformat": 4,
 "nbformat_minor": 5
}
