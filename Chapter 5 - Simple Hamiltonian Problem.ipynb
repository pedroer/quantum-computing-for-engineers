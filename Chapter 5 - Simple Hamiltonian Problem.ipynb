{
 "cells": [
  {
   "cell_type": "code",
   "execution_count": 3,
   "id": "7877229b",
   "metadata": {},
   "outputs": [
    {
     "name": "stdout",
     "output_type": "stream",
     "text": [
      "Hamiltonian Representation:\n",
      "-2.0 * ZI\n",
      "- 3.0 * IZ\n",
      "+ 1.0 * ZZ\n",
      "+ 5.0 * II\n"
     ]
    }
   ],
   "source": [
    "#-------------------------------------------------------------------------\n",
    "# Simple Hamiltonian Problem Representation\n",
    "# Chapter 5 in the QUANTUM COMPUTING AND QUANTUM MACHINE LEARNING BOOK\n",
    "#-------------------------------------------------------------------------\n",
    "# Version 1.0\n",
    "# (c) 2025 Jesse Van Griensven, Roydon Fraser, and Jose Rosas \n",
    "# Licence:  MIT - Citation required\n",
    "#-------------------------------------------------------------------------\n",
    "from qiskit.opflow import Z, I\n",
    "# Hamiltonian: H = -2 * Z ^ I - 3 * I ^ Z + (Z ^ Z) + 5 * (I ^ I)\n",
    "# Z ^ I: Pauli Z acts on qubit 0, and identity I acts on qubit 1.\n",
    "# I ^ Z: Identity I acts on qubit 0, and Pauli Z acts on qubit 1.\n",
    "# Z ^ Z: Pauli Z acts on both qubits.\n",
    "# I ^ I: Identity acts on both qubits.\n",
    "# \"^\" is the operator for tensor product\n",
    "\n",
    "# Define the Hamiltonian with consistent qubit alignment\n",
    "H = ( -2 * (Z ^ I) ) + ( -3 * (I ^ Z) ) + (Z ^ Z) + ( 5 * (I ^ I) )\n",
    "\n",
    "print(\"Hamiltonian Representation:\")\n",
    "print(H)"
   ]
  },
  {
   "cell_type": "code",
   "execution_count": null,
   "id": "7ade118f",
   "metadata": {},
   "outputs": [],
   "source": []
  }
 ],
 "metadata": {
  "kernelspec": {
   "display_name": "Python 3 (ipykernel)",
   "language": "python",
   "name": "python3"
  },
  "language_info": {
   "codemirror_mode": {
    "name": "ipython",
    "version": 3
   },
   "file_extension": ".py",
   "mimetype": "text/x-python",
   "name": "python",
   "nbconvert_exporter": "python",
   "pygments_lexer": "ipython3",
   "version": "3.10.17"
  }
 },
 "nbformat": 4,
 "nbformat_minor": 5
}
