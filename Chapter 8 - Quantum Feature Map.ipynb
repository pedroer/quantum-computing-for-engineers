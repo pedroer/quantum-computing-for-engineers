{
 "cells": [
  {
   "cell_type": "code",
   "execution_count": 3,
   "id": "ecdf6d51",
   "metadata": {},
   "outputs": [
    {
     "name": "stdout",
     "output_type": "stream",
     "text": [
      "\n",
      "Quantum Feature Map Circuit:\n",
      "     ┌───┐┌─────────────┐                                          ┌───┐»\n",
      "q_0: ┤ H ├┤ P(2.0*x[0]) ├──■────────────────────────────────────■──┤ H ├»\n",
      "     ├───┤├─────────────┤┌─┴─┐┌──────────────────────────────┐┌─┴─┐├───┤»\n",
      "q_1: ┤ H ├┤ P(2.0*x[1]) ├┤ X ├┤ P(2.0*(π - x[0])*(π - x[1])) ├┤ X ├┤ H ├»\n",
      "     └───┘└─────────────┘└───┘└──────────────────────────────┘└───┘└───┘»\n",
      "«     ┌─────────────┐                                          \n",
      "«q_0: ┤ P(2.0*x[0]) ├──■────────────────────────────────────■──\n",
      "«     ├─────────────┤┌─┴─┐┌──────────────────────────────┐┌─┴─┐\n",
      "«q_1: ┤ P(2.0*x[1]) ├┤ X ├┤ P(2.0*(π - x[0])*(π - x[1])) ├┤ X ├\n",
      "«     └─────────────┘└───┘└──────────────────────────────┘└───┘\n"
     ]
    }
   ],
   "source": [
    "#-------------------------------------------------------------------------\n",
    "# Quantum Feature Map with Visualization  \n",
    "# Chapter 8 in the QUANTUM COMPUTING AND QUANTUM MACHINE LEARNING BOOK\n",
    "#-------------------------------------------------------------------------\n",
    "# Version 1.0\n",
    "# (c) 2025 Jesse Van Griensven, Roydon Fraser, and Jose Rosas \n",
    "# License:  MIT - Citation of this work required\n",
    "#-------------------------------------------------------------------------\n",
    "import numpy as np\n",
    "import matplotlib.pyplot as plt\n",
    "\n",
    "from qiskit import Aer, QuantumCircuit\n",
    "from qiskit.circuit.library import ZZFeatureMap\n",
    "from qiskit_machine_learning.kernels import QuantumKernel\n",
    "from qiskit.visualization import circuit_drawer\n",
    "#-------------------------------------------------------------------------\n",
    "\n",
    "# Visualizing Quantum Circuit\n",
    "def plot_quantum_circuit(qc):\n",
    "    \"\"\" Function to plot the quantum circuit \"\"\"\n",
    "    print(\"\\nQuantum Feature Map Circuit:\")\n",
    "    print(qc.decompose())  # Print circuit decomposition\n",
    "    circuit_drawer(qc, output='mpl', style={'backgroundcolor': 'white'})\n",
    "#-------------------------------------------------------------------------\n",
    "\n",
    "# Define a quantum feature map\n",
    "feature_map = ZZFeatureMap(feature_dimension=2, reps=2)\n",
    "\n",
    "# Create a quantum kernel\n",
    "quantum_kernel = QuantumKernel(feature_map=feature_map, quantum_instance=Aer.get_backend('aer_simulator'))\n",
    "    \n",
    "# Execute visualization\n",
    "plot_quantum_circuit(feature_map)\n"
   ]
  },
  {
   "cell_type": "code",
   "execution_count": null,
   "id": "cffaedea",
   "metadata": {},
   "outputs": [],
   "source": []
  }
 ],
 "metadata": {
  "kernelspec": {
   "display_name": "Python 3 (ipykernel)",
   "language": "python",
   "name": "python3"
  },
  "language_info": {
   "codemirror_mode": {
    "name": "ipython",
    "version": 3
   },
   "file_extension": ".py",
   "mimetype": "text/x-python",
   "name": "python",
   "nbconvert_exporter": "python",
   "pygments_lexer": "ipython3",
   "version": "3.10.17"
  }
 },
 "nbformat": 4,
 "nbformat_minor": 5
}
