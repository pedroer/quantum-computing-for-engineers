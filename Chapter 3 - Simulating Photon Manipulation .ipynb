{
 "cells": [
  {
   "cell_type": "code",
   "execution_count": 1,
   "id": "15a278bd",
   "metadata": {},
   "outputs": [
    {
     "name": "stdout",
     "output_type": "stream",
     "text": [
      "        ┌───┐┌────────┐ ░ ┌─┐\n",
      "     q: ┤ H ├┤ P(π/4) ├─░─┤M├\n",
      "        └───┘└────────┘ ░ └╥┘\n",
      "meas: 1/═══════════════════╩═\n",
      "                           0 \n"
     ]
    },
    {
     "data": {
      "image/png": "[encoded data removed]",
      "text/plain": [
       "<Figure size 496.776x200.667 with 1 Axes>"
      ]
     },
     "metadata": {},
     "output_type": "display_data"
    }
   ],
   "source": [
    "#-------------------------------------------------------------------------\n",
    "# Simulating Photon Manipulation\n",
    "# Chapter 3 in the QUANTUM COMPUTING AND QUANTUM MACHINE LEARNING BOOK\n",
    "#-------------------------------------------------------------------------\n",
    "# Version 1.0\n",
    "# (c) 2025 Jesse Van Griensven, Roydon Fraser, and Jose Rosas\n",
    "# Licence:  MIT - Citation of this work required\n",
    "#-------------------------------------------------------------------------\n",
    "# Qiskit changes frequently. \n",
    "# We recommend using the latest version from the book code repository at:\n",
    "# https://github.com/pedroer/quantum-computing-for-engineers/blob/main/requirements.txt\n",
    "import numpy as np\n",
    "import matplotlib.pyplot as plt\n",
    "\n",
    "from qiskit import QuantumCircuit\n",
    "from qiskit.visualization import circuit_drawer\n",
    "import warnings\n",
    "warnings.filterwarnings('ignore')\n",
    "#-------------------------------------------------------------------------\n",
    "\n",
    "# Initialize a photonic qubit in |0>\n",
    "qc = QuantumCircuit(1)\n",
    "qc.h(0)  # Apply Hadamard gate (similar to beam splitter effect)\n",
    "qc.p(np.pi/4, 0)  # Phase shift by pi/4\n",
    "\n",
    "# Measure the state\n",
    "qc.measure_all()\n",
    "print(qc)\n",
    "\n",
    "# Draw the circuits\n",
    "display(circuit_drawer(qc, output='mpl', style=\"iqp\"))"
   ]
  },
  {
   "cell_type": "code",
   "execution_count": null,
   "id": "a1b44116",
   "metadata": {},
   "outputs": [],
   "source": []
  }
 ],
 "metadata": {
  "kernelspec": {
   "display_name": "Python 3 (ipykernel)",
   "language": "python",
   "name": "python3"
  },
  "language_info": {
   "codemirror_mode": {
    "name": "ipython",
    "version": 3
   },
   "file_extension": ".py",
   "mimetype": "text/x-python",
   "name": "python",
   "nbconvert_exporter": "python",
   "pygments_lexer": "ipython3",
   "version": "3.10.17"
  }
 },
 "nbformat": 4,
 "nbformat_minor": 5
}
