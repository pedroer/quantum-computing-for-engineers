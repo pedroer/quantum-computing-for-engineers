{
 "cells": [
  {
   "cell_type": "code",
   "execution_count": 5,
   "id": "06c2dc9e",
   "metadata": {},
   "outputs": [
    {
     "name": "stdout",
     "output_type": "stream",
     "text": [
      "VQE Energy: (-0.9999999971894871+0j)\n"
     ]
    }
   ],
   "source": [
    "#-------------------------------------------------------------------------\n",
    "# Variational Quantum Eigensolver - VQE\n",
    "# Chapter 2 in the QUANTUM COMPUTING AND QUANTUM MACHINE LEARNING BOOK\n",
    "#-------------------------------------------------------------------------\n",
    "# Version 1.0\n",
    "# (c) 2025 Jesse Van Griensven, Roydon Fraser, and Jose Rosas \n",
    "# Licence:  MIT - Citation of this work required\n",
    "#-------------------------------------------------------------------------\n",
    "# Qiskit changes frequently. \n",
    "# We recommend using the latest version from the book code repository at:\n",
    "# https://github.com/pedroer/quantum-computing-for-engineers/blob/main/requirements.txt\n",
    "\n",
    "from qiskit import Aer\n",
    "from qiskit.opflow import Z, I\n",
    "from qiskit.circuit.library import RealAmplitudes\n",
    "\n",
    "from qiskit.algorithms import VQE\n",
    "from qiskit.algorithms.optimizers import COBYLA\n",
    "import warnings\n",
    "warnings.filterwarnings('ignore')\n",
    "#-------------------------------------------------------------------------\n",
    "\n",
    "# Define the Hamiltonian\n",
    "H = (Z ^ Z) + (Z ^ I) + (I ^ Z)\n",
    "\n",
    "# Define the variational form\n",
    "ansatz = RealAmplitudes(num_qubits=2, reps=1)\n",
    "\n",
    "# Use Qiskit's VQE algorithm\n",
    "simulator = Aer.get_backend('statevector_simulator')\n",
    "optimizer = COBYLA(maxiter=200)  # Create the COBYLA optimizer object\n",
    "vqe = VQE(ansatz, optimizer=optimizer, quantum_instance=simulator)\n",
    "\n",
    "# Solve for the ground state energy\n",
    "result = vqe.compute_minimum_eigenvalue(operator=H)\n",
    "print(\"VQE Energy:\", result.eigenvalue)\n"
   ]
  },
  {
   "cell_type": "code",
   "execution_count": null,
   "id": "bdb7e24d",
   "metadata": {},
   "outputs": [],
   "source": []
  }
 ],
 "metadata": {
  "kernelspec": {
   "display_name": "Python 3 (ipykernel)",
   "language": "python",
   "name": "python3"
  },
  "language_info": {
   "codemirror_mode": {
    "name": "ipython",
    "version": 3
   },
   "file_extension": ".py",
   "mimetype": "text/x-python",
   "name": "python",
   "nbconvert_exporter": "python",
   "pygments_lexer": "ipython3",
   "version": "3.10.17"
  }
 },
 "nbformat": 4,
 "nbformat_minor": 5
}
