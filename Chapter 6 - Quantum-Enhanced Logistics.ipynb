{
 "cells": [
  {
   "cell_type": "code",
   "execution_count": 1,
   "id": "0725f119",
   "metadata": {},
   "outputs": [
    {
     "name": "stdout",
     "output_type": "stream",
     "text": [
      "Logistics Optimization Results: {'011': 133, '111': 127, '001': 124, '110': 131, '100': 107, '000': 123, '010': 125, '101': 154}\n"
     ]
    }
   ],
   "source": [
    "#-------------------------------------------------------------------------\n",
    "# Quantum-Enhanced Logistics \n",
    "# Chapter 6 in the QUANTUM COMPUTING AND QUANTUM MACHINE LEARNING BOOK\n",
    "#-------------------------------------------------------------------------\n",
    "# Version 1.0\n",
    "# (c) 2025 Jesse Van Griensven, Roydon Fraser, and Jose Rosas \n",
    "# Licence:  MIT - Citation of this work is required\n",
    "#-------------------------------------------------------------------------\n",
    "import warnings\n",
    "warnings.filterwarnings('ignore')\n",
    "\n",
    "from qiskit import QuantumCircuit\n",
    "from qiskit.visualization import circuit_drawer\n",
    "from qiskit import Aer, execute\n",
    "#-------------------------------------------------------------------------\n",
    "\n",
    "# Simple quantum circuit for logistics optimization\n",
    "qc = QuantumCircuit(3)\n",
    "qc.h([0, 1, 2])  # Initialize superposition\n",
    "qc.cz(0, 1)  # Phase inversion for constraint\n",
    "qc.measure_all()\n",
    "\n",
    "# Simulate the circuit\n",
    "simulator = Aer.get_backend('aer_simulator')\n",
    "result = execute(qc, simulator).result()\n",
    "print(\"Logistics Optimization Results:\", result.get_counts())\n"
   ]
  },
  {
   "cell_type": "code",
   "execution_count": null,
   "id": "dfa21af1",
   "metadata": {},
   "outputs": [],
   "source": []
  }
 ],
 "metadata": {
  "kernelspec": {
   "display_name": "Python 3 (ipykernel)",
   "language": "python",
   "name": "python3"
  },
  "language_info": {
   "codemirror_mode": {
    "name": "ipython",
    "version": 3
   },
   "file_extension": ".py",
   "mimetype": "text/x-python",
   "name": "python",
   "nbconvert_exporter": "python",
   "pygments_lexer": "ipython3",
   "version": "3.10.17"
  }
 },
 "nbformat": 4,
 "nbformat_minor": 5
}
