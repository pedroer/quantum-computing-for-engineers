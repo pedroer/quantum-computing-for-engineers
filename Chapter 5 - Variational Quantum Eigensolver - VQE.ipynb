{
 "cells": [
  {
   "cell_type": "code",
   "execution_count": 4,
   "id": "afc252ba",
   "metadata": {},
   "outputs": [
    {
     "name": "stdout",
     "output_type": "stream",
     "text": [
      "VQE Energy: (-0.9999999884274738+0j)\n"
     ]
    },
    {
     "name": "stderr",
     "output_type": "stream",
     "text": [
      "/var/folders/z3/sk2c0q6j5jqfyd9r8pm2_vrr0000gp/T/ipykernel_33820/3841172420.py:27: DeprecationWarning: The class ``qiskit.algorithms.minimum_eigen_solvers.vqe.VQE`` is deprecated as of qiskit-terra 0.24.0. It will be removed no earlier than 3 months after the release date. Instead, use the class ``qiskit.algorithms.minimum_eigensolvers.VQE``. See https://qisk.it/algo_migration for a migration guide.\n",
      "  vqe = VQE(ansatz, optimizer=optimizer, quantum_instance=simulator)\n"
     ]
    }
   ],
   "source": [
    "#-------------------------------------------------------------------------\n",
    "# Variational Quantum Eigensolver - VQE\n",
    "# Chapter 5 in the QUANTUM COMPUTING AND QUANTUM MACHINE LEARNING BOOK\n",
    "#-------------------------------------------------------------------------\n",
    "# Version 1.0\n",
    "# (c) 2025 Jesse Van Griensven, Roydon Fraser, and Jose Rosas \n",
    "# Licence:  MIT - Citation of this work required\n",
    "#-------------------------------------------------------------------------\n",
    "\n",
    "from qiskit import Aer\n",
    "from qiskit.opflow import Z, I\n",
    "from qiskit.circuit.library import RealAmplitudes\n",
    "\n",
    "from qiskit.algorithms import VQE\n",
    "from qiskit.algorithms.optimizers import COBYLA\n",
    "#-------------------------------------------------------------------------\n",
    "\n",
    "# Define the Hamiltonian\n",
    "H = (Z ^ Z) + (Z ^ I) + (I ^ Z)\n",
    "\n",
    "# Define the variational form\n",
    "ansatz = RealAmplitudes(num_qubits=2, reps=1)\n",
    "\n",
    "# Use Qiskit's VQE algorithm\n",
    "simulator = Aer.get_backend('statevector_simulator')\n",
    "optimizer = COBYLA(maxiter=200)  # Create the COBYLA optimizer object\n",
    "vqe = VQE(ansatz, optimizer=optimizer, quantum_instance=simulator)\n",
    "\n",
    "# Solve for the ground state energy\n",
    "result = vqe.compute_minimum_eigenvalue(operator=H)\n",
    "print(\"VQE Energy:\", result.eigenvalue)\n"
   ]
  },
  {
   "cell_type": "code",
   "execution_count": null,
   "id": "373c2814",
   "metadata": {},
   "outputs": [],
   "source": []
  },
  {
   "cell_type": "code",
   "execution_count": null,
   "id": "ce97002a-85bc-4404-8d54-57c5604c348b",
   "metadata": {},
   "outputs": [],
   "source": []
  }
 ],
 "metadata": {
  "kernelspec": {
   "display_name": "Python 3 (ipykernel)",
   "language": "python",
   "name": "python3"
  },
  "language_info": {
   "codemirror_mode": {
    "name": "ipython",
    "version": 3
   },
   "file_extension": ".py",
   "mimetype": "text/x-python",
   "name": "python",
   "nbconvert_exporter": "python",
   "pygments_lexer": "ipython3",
   "version": "3.10.17"
  }
 },
 "nbformat": 4,
 "nbformat_minor": 5
}
