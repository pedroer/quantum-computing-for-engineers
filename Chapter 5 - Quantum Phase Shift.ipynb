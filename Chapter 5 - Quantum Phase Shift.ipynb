{
 "cells": [
  {
   "cell_type": "code",
   "execution_count": 2,
   "id": "8a5c53ce",
   "metadata": {},
   "outputs": [
    {
     "name": "stdout",
     "output_type": "stream",
     "text": [
      "Phase Shifter Matrix\n"
     ]
    },
    {
     "data": {
      "text/latex": [
       "$\\displaystyle \\left[\\begin{matrix}1.0 & 0.0\\\\0.0 & 0.7071 + 0.7071 i\\end{matrix}\\right]$"
      ],
      "text/plain": [
       "Matrix([\n",
       "[1.0,               0.0],\n",
       "[0.0, 0.7071 + 0.7071*I]])"
      ]
     },
     "metadata": {},
     "output_type": "display_data"
    },
    {
     "name": "stdout",
     "output_type": "stream",
     "text": [
      "Initial State:\n"
     ]
    },
    {
     "data": {
      "text/latex": [
       "$\\displaystyle \\left[\\begin{matrix}0.0\\\\1.0\\end{matrix}\\right]$"
      ],
      "text/plain": [
       "Matrix([\n",
       "[0.0],\n",
       "[1.0]])"
      ]
     },
     "metadata": {},
     "output_type": "display_data"
    },
    {
     "name": "stdout",
     "output_type": "stream",
     "text": [
      "Shifted State:\n"
     ]
    },
    {
     "data": {
      "text/latex": [
       "$\\displaystyle \\left[\\begin{matrix}0.0\\\\0.7071 + 0.7071 i\\end{matrix}\\right]$"
      ],
      "text/plain": [
       "Matrix([\n",
       "[              0.0],\n",
       "[0.7071 + 0.7071*I]])"
      ]
     },
     "metadata": {},
     "output_type": "display_data"
    },
    {
     "data": {
      "image/png": "[encoded data removed]",
      "text/plain": [
       "<Figure size 640x480 with 1 Axes>"
      ]
     },
     "metadata": {},
     "output_type": "display_data"
    }
   ],
   "source": [
    "#-------------------------------------------------------------------------\n",
    "# Quantum Phase Shift\n",
    "# Chapter 5 in the QUANTUM COMPUTING AND QUANTUM MACHINE LEARNING BOOK\n",
    "#-------------------------------------------------------------------------\n",
    "# Version 1.0\n",
    "# (c) 2025 Jesse Van Griensven, Roydon Fraser, and Jose Rosas \n",
    "# License:  MIT - Citation of this work required\n",
    "#-------------------------------------------------------------------------\n",
    "import numpy as np\n",
    "import matplotlib.pyplot as plt\n",
    "#-------------------------------------------------------------------------\n",
    "def sprint(Matrix, decimals=4):\n",
    "    \"\"\" Prints a Matrix with real and imaginary parts rounded to 'decimals' \"\"\"\n",
    "    import sympy as sp\n",
    "    SMatrix = sp.Matrix(Matrix)  # Convert to Sympy Matrix if it's not already\n",
    "\n",
    "    def round_complex(x):\n",
    "        \"\"\"Round real and imaginary parts of x to the given number of decimals.\"\"\"\n",
    "        c = complex(x)  # handle any real or complex Sympy expression\n",
    "        r = round(c.real, decimals)\n",
    "        i = round(c.imag, decimals)\n",
    "        # If imaginary part is negligible, treat as purely real\n",
    "        if abs(i) < 10**(-decimals): return sp.Float(r)\n",
    "        else: return sp.Float(r) + sp.Float(i)*sp.I\n",
    "\n",
    "    # Display the rounded Sympy Matrix\n",
    "    display(SMatrix.applyfunc(round_complex))\n",
    "    return\n",
    "\n",
    "#-------------------------------------------------------------------------\n",
    "def phase_shifter(phi):\n",
    "    return np.array([\n",
    "        [1, 0],\n",
    "        [0, np.exp(1j * phi)]\n",
    "    ])\n",
    "#-------------------------------------------------------------------------\n",
    "\n",
    "# Define the phase shift angle\n",
    "phi = np.pi / 4.\n",
    "\n",
    "# Apply phase shift to a sample quantum state (|1⟩)\n",
    "initial_state = np.array([0, 1])  # |1⟩ state\n",
    "shifted_state = phase_shifter(phi) @ initial_state\n",
    "\n",
    "#-------------------------------------------------------------------------\n",
    "# Print input and output\n",
    "print(\"Phase Shifter Matrix\"); sprint(phase_shifter(phi))\n",
    "print(\"Initial State:\");       sprint(initial_state)\n",
    "print(\"Shifted State:\");       sprint(shifted_state)\n",
    "#-------------------------------------------------------------------------\n",
    "# Plot the effect of the phase shift in the complex plane\n",
    "fig, ax = plt.subplots()\n",
    "ax.axhline(0, color='gray', lw=1)\n",
    "ax.axvline(0, color='gray', lw=1)\n",
    "\n",
    "# Plot initial and shifted states\n",
    "ax.quiver(0, 0, initial_state[1].real, initial_state[1].imag, \n",
    "          angles='xy', scale_units='xy', scale=1, color='blue', label='Initial |1⟩')\n",
    "ax.quiver(0, 0, shifted_state[1].real, shifted_state[1].imag, \n",
    "          angles='xy', scale_units='xy', scale=1, color='red', label='Shifted |1⟩')\n",
    "\n",
    "# Formatting the plot\n",
    "ax.set_xlim(-1.2, 1.2)\n",
    "ax.set_ylim(-1.2, 1.2)\n",
    "ax.set_xlabel(\"Real\")\n",
    "ax.set_ylabel(\"Imaginary\")\n",
    "ax.set_title(\"Effect of Phase Shift on |1⟩ in the Complex Plane\")\n",
    "ax.legend()\n",
    "ax.grid(alpha=0.2)\n",
    "plt.show()\n"
   ]
  },
  {
   "cell_type": "code",
   "execution_count": null,
   "id": "2ecaa2cc",
   "metadata": {},
   "outputs": [],
   "source": []
  }
 ],
 "metadata": {
  "kernelspec": {
   "display_name": "Python 3 (ipykernel)",
   "language": "python",
   "name": "python3"
  },
  "language_info": {
   "codemirror_mode": {
    "name": "ipython",
    "version": 3
   },
   "file_extension": ".py",
   "mimetype": "text/x-python",
   "name": "python",
   "nbconvert_exporter": "python",
   "pygments_lexer": "ipython3",
   "version": "3.10.17"
  }
 },
 "nbformat": 4,
 "nbformat_minor": 5
}
