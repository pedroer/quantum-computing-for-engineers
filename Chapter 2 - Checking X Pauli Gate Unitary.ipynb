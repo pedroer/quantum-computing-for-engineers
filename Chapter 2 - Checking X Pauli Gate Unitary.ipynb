{
 "cells": [
  {
   "cell_type": "code",
   "execution_count": 1,
   "id": "51eca310",
   "metadata": {},
   "outputs": [
    {
     "name": "stdout",
     "output_type": "stream",
     "text": [
      "Pauli X Gate:\n"
     ]
    },
    {
     "data": {
      "text/latex": [
       "$\\displaystyle \\left[\\begin{matrix}0 & 1\\\\1 & 0\\end{matrix}\\right]$"
      ],
      "text/plain": [
       "Matrix([\n",
       "[0, 1],\n",
       "[1, 0]])"
      ]
     },
     "metadata": {},
     "output_type": "display_data"
    },
    {
     "name": "stdout",
     "output_type": "stream",
     "text": [
      "X_dagger:\n"
     ]
    },
    {
     "data": {
      "text/latex": [
       "$\\displaystyle \\left[\\begin{matrix}0 & 1\\\\1 & 0\\end{matrix}\\right]$"
      ],
      "text/plain": [
       "Matrix([\n",
       "[0, 1],\n",
       "[1, 0]])"
      ]
     },
     "metadata": {},
     "output_type": "display_data"
    },
    {
     "name": "stdout",
     "output_type": "stream",
     "text": [
      "Pauli-X unitary test should result in the Identity matrix\n"
     ]
    },
    {
     "data": {
      "text/latex": [
       "$\\displaystyle \\left[\\begin{matrix}1 & 0\\\\0 & 1\\end{matrix}\\right]$"
      ],
      "text/plain": [
       "Matrix([\n",
       "[1, 0],\n",
       "[0, 1]])"
      ]
     },
     "metadata": {},
     "output_type": "display_data"
    }
   ],
   "source": [
    "#-------------------------------------------------------------------------\n",
    "# Checking X Pauli Gate Unitary\n",
    "# Chapter 2 in the QUANTUM COMPUTING AND QUANTUM MACHINE LEARNING BOOK\n",
    "#-------------------------------------------------------------------------\n",
    "# Version 1.0\n",
    "# (c) 2025 Jesse Van Griensven, Roydon Fraser, and Jose Rosas \n",
    "# Licence:  MIT - Citation of this work required\n",
    "#-------------------------------------------------------------------------\n",
    "# Qiskit changes frequently. \n",
    "# We recommend using the latest version from the book code repository at:\n",
    "# https://github.com/pedroer/quantum-computing-for-engineers/blob/main/requirements.txt\n",
    "import numpy as np\n",
    "\n",
    "#----------------------------------------------------------------------------\n",
    "def sprint(Matrix, decimals=4):\n",
    "    \"\"\" Prints a numpy Matrix in a nice format with sympy and specified precision \"\"\"\n",
    "    # Define the SYMPY routines we need\n",
    "    import sympy as sp\n",
    "    # The input Matrix can be a Numpy or a Sympy Matrix\n",
    "    SMatrix = sp.Matrix(Matrix)\n",
    "    # Apply the rounding to each element\n",
    "    SMatrix = SMatrix.applyfunc(lambda x: round(float(x), decimals) if isinstance(x, (float, int, sp.Float)) else x)\n",
    "    display(SMatrix)\n",
    "    return\n",
    "#----------------------------------------------------------------------------\n",
    "\n",
    "# Note: This code is very verbose in order to clearly explain the topics\n",
    "\n",
    "# Define the Pauli Gate\n",
    "X_gate = np.array([[0, 1], [1, 0]])\n",
    "print(\"Pauli X Gate:\")\n",
    "sprint(X_gate)\n",
    "\n",
    "# Define the matrix dagger\n",
    "X_dagger = X_gate.conj().T\n",
    "print(\"X_dagger:\")\n",
    "sprint(X_dagger)\n",
    "\n",
    "# Dot Produt X with dagger of X\n",
    "Result = np.dot(X_gate, X_dagger)\n",
    "\n",
    "print(\"Pauli-X unitary test should result in the Identity matrix\")\n",
    "sprint(Result)\n"
   ]
  },
  {
   "cell_type": "code",
   "execution_count": null,
   "id": "fe030213",
   "metadata": {},
   "outputs": [],
   "source": []
  }
 ],
 "metadata": {
  "kernelspec": {
   "display_name": "Python 3 (ipykernel)",
   "language": "python",
   "name": "python3"
  },
  "language_info": {
   "codemirror_mode": {
    "name": "ipython",
    "version": 3
   },
   "file_extension": ".py",
   "mimetype": "text/x-python",
   "name": "python",
   "nbconvert_exporter": "python",
   "pygments_lexer": "ipython3",
   "version": "3.10.17"
  }
 },
 "nbformat": 4,
 "nbformat_minor": 5
}
