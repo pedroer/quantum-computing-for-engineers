{
 "cells": [
  {
   "cell_type": "code",
   "execution_count": 1,
   "id": "00194c4c",
   "metadata": {},
   "outputs": [
    {
     "name": "stdout",
     "output_type": "stream",
     "text": [
      "Vector u: [1 2 3]\n",
      "Vector v: [4 5 6]\n",
      "Norm u: 3.7416573867739413\n",
      "Norm v: 8.774964387392123\n"
     ]
    }
   ],
   "source": [
    "#----------------------------------------------------------------------------\n",
    "# Vector Norm\n",
    "# Chapter 1 in the QUANTUM COMPUTING AND QUANTUM MACHINE LEARNING BOOK\n",
    "#----------------------------------------------------------------------------\n",
    "# Version 1.0\n",
    "# (c) 2025 Jesse Van Griensven, Roydon Fraser, and Jose Rosas \n",
    "# Licence:  MIT - Citation required\n",
    "#----------------------------------------------------------------------------\n",
    "import numpy as np\n",
    "\n",
    "# Define vectors\n",
    "u = np.array([1, 2, 3])\n",
    "v = np.array([4, 5, 6])\n",
    "\n",
    "# Execute NORM operation\n",
    "norm_u = np.linalg.norm(u)\n",
    "norm_v = np.linalg.norm(v)\n",
    "\n",
    "# Print Results\n",
    "print(\"Vector u:\", u)\n",
    "print(\"Vector v:\", v)\n",
    "print(\"Norm u:\", norm_u)\n",
    "print(\"Norm v:\", norm_v)"
   ]
  },
  {
   "cell_type": "code",
   "execution_count": null,
   "id": "5b427e39",
   "metadata": {},
   "outputs": [],
   "source": []
  }
 ],
 "metadata": {
  "kernelspec": {
   "display_name": "Python 3 (ipykernel)",
   "language": "python",
   "name": "python3"
  },
  "language_info": {
   "codemirror_mode": {
    "name": "ipython",
    "version": 3
   },
   "file_extension": ".py",
   "mimetype": "text/x-python",
   "name": "python",
   "nbconvert_exporter": "python",
   "pygments_lexer": "ipython3",
   "version": "3.10.17"
  }
 },
 "nbformat": 4,
 "nbformat_minor": 5
}
